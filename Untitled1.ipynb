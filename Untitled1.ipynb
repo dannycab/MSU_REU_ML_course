{
  "cells": [],
  "metadata": {
    "kernelspec": {
      "name": "jbook",
      "display_name": "Python 3 (jbook)",
      "language": "python"
    },
    "language_info": {
      "name": "python",
      "version": "3.13"
    }
  },
  "nbformat": 4,
  "nbformat_minor": 5
}