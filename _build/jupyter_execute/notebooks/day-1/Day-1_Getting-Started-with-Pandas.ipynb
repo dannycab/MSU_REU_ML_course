{
 "cells": [
  {
   "attachments": {},
   "cell_type": "markdown",
   "metadata": {},
   "source": [
    "# Getting Started with Pandas"
   ]
  },
  {
   "attachments": {},
   "cell_type": "markdown",
   "metadata": {},
   "source": [
    "In this notebook we will be:\n",
    "\n",
    "1. Reviewing the basics of Pandas\n",
    "2. Reviewing Pandas Dataframes\n",
    " \n",
    "## Notebook instructions\n",
    "\n",
    "Recall that to make notebook cells that have Python code in them do something, hold down the 'shift' key and then press the 'enter' key (you'll have to do this to get the YouTube videos to run).  To edit a cell (to add answers, for example) you double-click on the cell, add your text, and then enter it by holding down 'shift' and pressing 'enter'"
   ]
  },
  {
   "attachments": {},
   "cell_type": "markdown",
   "metadata": {},
   "source": [
    "### Imports for this Notebook\n",
    "\n",
    "One of the downsides of notebooks is knowing when things got imported and what modules were important. Trying to get into the habit of including all of the important imports at the top of the notebook is a good way to ensure that you don't run into issues later on in the notebook. When you restart the notebook, you can run that first cell to get the imports right."
   ]
  },
  {
   "cell_type": "code",
   "execution_count": 1,
   "metadata": {},
   "outputs": [],
   "source": [
    "from IPython.display import HTML\n",
    "from IPython.display import YouTubeVideo\n",
    "import pandas as pd\n",
    "import matplotlib.pyplot as plt\n",
    "import numpy as np"
   ]
  },
  {
   "attachments": {},
   "cell_type": "markdown",
   "metadata": {},
   "source": [
    "----\n",
    "\n",
    "## 1. The basics of Pandas\n",
    "\n",
    "Pandas is a fundamental tool for doing Data Science work in Python. While we can do this work in straight Python, Pandas makes much of that work easier. We cannot do justice to all of Pandas, as it is a big package, but here we'll remind ourselves of some of the basics. As you do more data science work, you'll pick more and more of Pandas as you go along. "
   ]
  },
  {
   "attachments": {},
   "cell_type": "markdown",
   "metadata": {},
   "source": [
    "### 1.1 Pandas Series\n",
    "\n",
    "The basic Pandas data structure is called a *Series*. It is a sequence, not unlike a numpy array, but with an associated set of labels for each value called the *index*. If you don't provide the index labels, Pandas will use the regular 0-based index as the label. Again: if you don't provide index labels, it will use the numeric index as the index label. That will be important later.\n",
    "\n",
    "You can make a Series using either a python *dict*, with keys as the indices, or by separately providing the values and indices. You can also update the index labels or reset the labels to the default. Note however that the `reset_index` method does *not* change the Series but returns, not a Series but a DataFrame, where the original index is preserved as a new column.\n",
    "\n",
    "&#9989; **Review the following example and make sure you understand everything that is happening. Discuss with your group mates.**"
   ]
  },
  {
   "cell_type": "code",
   "execution_count": 2,
   "metadata": {},
   "outputs": [
    {
     "name": "stdout",
     "output_type": "stream",
     "text": [
      "\n",
      "Series with indicies\n",
      "Type: <class 'pandas.core.series.Series'>\n",
      "one      1\n",
      "two      2\n",
      "three    3\n",
      "four     4\n",
      "dtype: int64\n",
      "\n",
      "Series with default indices\n",
      "Type: <class 'pandas.core.series.Series'>\n",
      "0    5\n",
      "1    6\n",
      "2    7\n",
      "3    8\n",
      "dtype: int64\n",
      "\n",
      "Series from a dictionary\n",
      "nine       9\n",
      "ten       10\n",
      "eleven    11\n",
      "twelve    12\n",
      "dtype: int64\n"
     ]
    }
   ],
   "source": [
    "# assumes you have imported Pandas as pd in the cell at the top of this page\n",
    "series_index = pd.Series([1,2,3,4], index=['one', 'two', 'three', 'four'])\n",
    "print(\"\\nSeries with indicies\")\n",
    "print(\"Type:\", type(series_index))\n",
    "print(series_index)\n",
    "\n",
    "series_noindex = pd.Series([5,6,7,8])\n",
    "print(\"\\nSeries with default indices\")\n",
    "print(\"Type:\", type(series_noindex))\n",
    "print(series_noindex)\n",
    "\n",
    "my_dictionary = { 'nine': 9, 'ten':10, 'eleven':11, 'twelve':12 }\n",
    "series_dictionary = pd.Series(my_dictionary)\n",
    "print(\"\\nSeries from a dictionary\")\n",
    "print(series_dictionary)"
   ]
  },
  {
   "attachments": {},
   "cell_type": "markdown",
   "metadata": {},
   "source": [
    "### 1.2 Manipulating Series\n",
    "\n",
    "Once you have a Pandas Series object, You can access the values in a number of ways:\n",
    "* using the label in [ ], much as you would in a dictionary\n",
    "* using data member \"dot\" (`.`) access, if the label name would constitute a valid Python variable name (can't start with a digit for example)\n",
    "* using numpy array indexing\n",
    "\n",
    "Without a label (using default indices) you are restricted to using only the last approach.\n",
    "\n",
    "&#9989; **Review the following mechanisms for accessing data in a Pandas series based on the format and structure of the Series object**."
   ]
  },
  {
   "cell_type": "code",
   "execution_count": 3,
   "metadata": {},
   "outputs": [
    {
     "name": "stdout",
     "output_type": "stream",
     "text": [
      "3\n",
      "3\n",
      "3\n",
      "7\n"
     ]
    },
    {
     "name": "stderr",
     "output_type": "stream",
     "text": [
      "/var/folders/6q/fl2y7xb92570fzrj3q_0pj1w0000gn/T/ipykernel_10243/3640324809.py:8: FutureWarning: Series.__getitem__ treating keys as positions is deprecated. In a future version, integer keys will always be treated as labels (consistent with DataFrame behavior). To access a value by position, use `ser.iloc[pos]`\n",
      "  print(series_index[2])\n"
     ]
    }
   ],
   "source": [
    "#using label\n",
    "print(series_index[\"three\"])\n",
    "\n",
    "#using data member access\n",
    "print(series_index.three)\n",
    "\n",
    "#using array index, 0-based\n",
    "print(series_index[2])\n",
    "\n",
    "# no labels\n",
    "print(series_noindex[2])\n",
    "# series_noindex.2   # can't, 2 isn't a valid Python variable name"
   ]
  },
  {
   "attachments": {},
   "cell_type": "markdown",
   "metadata": {},
   "source": [
    "Once you have a series object, **you can assign/change the values to any of the locations that you can access**. Like so:"
   ]
  },
  {
   "cell_type": "code",
   "execution_count": 4,
   "metadata": {},
   "outputs": [
    {
     "name": "stdout",
     "output_type": "stream",
     "text": [
      "Before:\n",
      "nine       9\n",
      "ten       10\n",
      "eleven    11\n",
      "twelve    12\n",
      "dtype: int64\n",
      "---\n",
      "After:\n",
      "nine        9\n",
      "ten        10\n",
      "eleven    111\n",
      "twelve    122\n",
      "dtype: int64\n"
     ]
    }
   ],
   "source": [
    "print(\"Before:\")\n",
    "print(series_dictionary)\n",
    "print(\"---\")\n",
    "\n",
    "series_dictionary[\"eleven\"] = 111\n",
    "series_dictionary.twelve = 122\n",
    "\n",
    "print(\"After:\")\n",
    "print(series_dictionary)"
   ]
  },
  {
   "attachments": {},
   "cell_type": "markdown",
   "metadata": {},
   "source": [
    "### 1.3 Numpy like operations\n",
    "Finally, you can do many of the things you can do with NumPy arrays, such as indexing NumPy arrays, with a Pandas Series object as well.\n",
    "\n",
    "&#9989; **Review the following examples to convince yourself how you can use NumPy-style operations to access Series data in Pandas. Discuss with your group mates.**\n",
    "\n",
    "Look at how you can work with ranges of the series elements. The labels are ordered and so the following works:"
   ]
  },
  {
   "cell_type": "code",
   "execution_count": 5,
   "metadata": {},
   "outputs": [
    {
     "name": "stdout",
     "output_type": "stream",
     "text": [
      "two      2\n",
      "three    3\n",
      "four     4\n",
      "dtype: int64\n"
     ]
    }
   ],
   "source": [
    "print(series_index[\"two\":])"
   ]
  },
  {
   "attachments": {},
   "cell_type": "markdown",
   "metadata": {},
   "source": [
    "You can also apply **Boolean masks to a Series**:"
   ]
  },
  {
   "cell_type": "code",
   "execution_count": 6,
   "metadata": {},
   "outputs": [
    {
     "name": "stdout",
     "output_type": "stream",
     "text": [
      "nine     9\n",
      "ten     10\n",
      "dtype: int64\n"
     ]
    }
   ],
   "source": [
    "print(series_dictionary[series_dictionary <= 10])"
   ]
  },
  {
   "attachments": {},
   "cell_type": "markdown",
   "metadata": {},
   "source": [
    "And you can **perform operations** which return a new series (but don't modify the existing one):"
   ]
  },
  {
   "cell_type": "code",
   "execution_count": 7,
   "metadata": {},
   "outputs": [
    {
     "name": "stdout",
     "output_type": "stream",
     "text": [
      "nine       18\n",
      "ten        20\n",
      "eleven    222\n",
      "twelve    244\n",
      "dtype: int64\n",
      "63.0\n"
     ]
    }
   ],
   "source": [
    "print(series_dictionary * 2)\n",
    "print(series_dictionary.mean() )"
   ]
  },
  {
   "attachments": {},
   "cell_type": "markdown",
   "metadata": {},
   "source": [
    "There are **many operations** you can perform on a Pandas Series object (over 200 last we checked!). You'll pick up more as you continue to become a Pandas expert."
   ]
  },
  {
   "attachments": {},
   "cell_type": "markdown",
   "metadata": {},
   "source": [
    "----\n",
    "\n",
    "## 2. The Pandas Dataframe\n",
    "\n",
    "A Pandas DataFrame is a 2 dimensional data structure. The easiest way to think of a DataFrame is as a group of Series objects where each Series represents a column in the 2D structure. As with Series you can make them a number of ways but the standard way is to use a dictionary where the keys are the column *headers* and the values are a list of values under that header.\n",
    "\n",
    "<div align=\"left\"><img src=\"https://i.ibb.co/C13ybjZ/df.png\" alt=\"df\" border=\"0\" width=400></div>\n",
    "\n",
    "It is always important to know the **types** in each column as that can affect the kinds of operations you can perform on a column. Listing the `.dtypes` provides such a list. A type of `object` is likely (though not necessarily) a string.\n",
    "\n",
    "An index for the rows is provided by default using 0-based array indexing. The use of `[]` label indexing returns a `Series` which is a column with that heading name. The index of the entire DataFrame is used for the returned Series.\n",
    "    \n",
    "&#9989; **Run and review the following code: Discuss the results with your group mates.**"
   ]
  },
  {
   "cell_type": "code",
   "execution_count": 8,
   "metadata": {},
   "outputs": [
    {
     "name": "stdout",
     "output_type": "stream",
     "text": [
      "<class 'pandas.core.frame.DataFrame'>\n",
      "    name  age  weight complaint\n",
      "0  james   10     150    sprain\n",
      "1    jim   20     140       cut\n",
      "2   joan   30     130  headache\n",
      "3   jill   40     120     break\n",
      "\n",
      " Column types\n",
      "name         object\n",
      "age           int64\n",
      "weight        int64\n",
      "complaint    object\n",
      "dtype: object\n",
      "\n",
      " age column\n",
      "0    10\n",
      "1    20\n",
      "2    30\n",
      "3    40\n",
      "Name: age, dtype: int64\n",
      "<class 'pandas.core.series.Series'>\n"
     ]
    }
   ],
   "source": [
    "patient_dict = {\"name\":[\"james\",\"jim\",\"joan\",\"jill\"],\n",
    "                 \"age\":[10, 20, 30, 40],\n",
    "                 \"weight\":[150, 140, 130, 120],\n",
    "                 \"complaint\": [\"sprain\", \"cut\", \"headache\", \"break\"]}\n",
    "patient_df = pd.DataFrame(patient_dict)\n",
    "\n",
    "print(type(patient_df))\n",
    "print(patient_df)\n",
    "\n",
    "print(\"\\n Column types\")\n",
    "print(patient_df.dtypes)\n",
    "\n",
    "print(\"\\n age column\")\n",
    "age = patient_df[\"age\"]\n",
    "print(age)\n",
    "print(type(age))\n"
   ]
  },
  {
   "attachments": {},
   "cell_type": "markdown",
   "metadata": {},
   "source": [
    "### 2.1 Data Frame indexing\n",
    "\n",
    "As we noted above, the index for a DataFrame by default is a 0-based array index. However, we can choose to use a different column as an index for the DataFrame. The `.set_index()` method allows us to set the index.\n",
    "\n",
    "An **irritating** issue is whether the Series being worked on changes. Typically it does not but most methods provide a `inplace = True` setting to apply the changes to the existing element. Otherwise you must assign the result to preserve it.\n",
    "\n",
    "If you do not do so, the column being used as an index is no longer available using standard indexing. If you provide `drop = False` in set_index, the column is preserved in the DataFrame as well as in the index. If you `.reset_index()` returns to 0-based indexing\n",
    "\n",
    "To access a row, you can use either `.loc` or `.iloc`\n",
    "* `.loc` uses the row index **label** to access the row (or the 0-based index of none is provided). It returns a Series\n",
    "* `.iloc` uses the 0-based index regardless of whether a label exists. It too returns a Series\n",
    "\n",
    "Indicies and headers are preserved in the Series indexed from a DataFrame\n",
    "\n",
    "&#9989; **Take a look at the following and make sure you can follow how the dataframe is being manipulated. Discuss with your group mates.**"
   ]
  },
  {
   "cell_type": "code",
   "execution_count": 9,
   "metadata": {
    "scrolled": true
   },
   "outputs": [
    {
     "name": "stdout",
     "output_type": "stream",
     "text": [
      "\n",
      "Age is now the index\n",
      "      name  weight complaint\n",
      "age                         \n",
      "10   james     150    sprain\n",
      "20     jim     140       cut\n",
      "30    joan     130  headache\n",
      "40    jill     120     break\n",
      "\n",
      "Back to 0-based indexing\n",
      "   age   name  weight complaint\n",
      "0   10  james     150    sprain\n",
      "1   20    jim     140       cut\n",
      "2   30   joan     130  headache\n",
      "3   40   jill     120     break\n",
      "\n",
      "Don't change the original\n",
      "   age   name  weight complaint\n",
      "0   10  james     150    sprain\n",
      "1   20    jim     140       cut\n",
      "2   30   joan     130  headache\n",
      "3   40   jill     120     break\n",
      "\n",
      "Index by age, keep the age column\n",
      "     age   name  weight complaint\n",
      "age                              \n",
      "10    10  james     150    sprain\n",
      "20    20    jim     140       cut\n",
      "30    30   joan     130  headache\n",
      "40    40   jill     120     break\n"
     ]
    }
   ],
   "source": [
    "patient_df.set_index(\"age\", inplace=True)\n",
    "print(\"\\nAge is now the index\")\n",
    "print(patient_df)\n",
    "\n",
    "# reset to 0-based\n",
    "patient_df.reset_index(inplace=True)\n",
    "print(\"\\nBack to 0-based indexing\")\n",
    "print(patient_df)\n",
    "\n",
    "# keep age as a column\n",
    "new_df = patient_df.set_index(\"age\", drop=False)\n",
    "print(\"\\nDon't change the original\")\n",
    "print(patient_df)\n",
    "print(\"\\nIndex by age, keep the age column\")\n",
    "print(new_df)"
   ]
  },
  {
   "attachments": {},
   "cell_type": "markdown",
   "metadata": {},
   "source": [
    "### 2.2 Try it yourself\n",
    "\n",
    "&#9989; **Try doing the following**:\n",
    "* Make a DataFrame to store student grades. The column headers should be:\n",
    "    * Name\n",
    "    * ID\n",
    "    * Total Percent (out of 100)\n",
    "    * Final Grade Point (on the 0.0 - 4.0 scale)\n",
    "\n",
    "Make up some names and values to fill your Dataframe. Include **at least 8 students**.\n",
    "\n",
    "Then: \n",
    "* Set the index to be the ID\n",
    "* Print every student in the dataframe who got a 3.0 or greater"
   ]
  },
  {
   "cell_type": "code",
   "execution_count": 10,
   "metadata": {},
   "outputs": [],
   "source": [
    "# Put your code here\n"
   ]
  },
  {
   "attachments": {},
   "cell_type": "markdown",
   "metadata": {},
   "source": [
    "---\n",
    "## Follow-up Questions\n",
    "\n",
    "1. Is there anything involving using Pandas that you're curious about or are there any specific issues you've run into in the past with Pandas that you couldn't find a solution for?"
   ]
  },
  {
   "cell_type": "code",
   "execution_count": null,
   "metadata": {},
   "outputs": [],
   "source": []
  }
 ],
 "metadata": {
  "anaconda-cloud": {},
  "kernelspec": {
   "display_name": "Python 3 (ipykernel)",
   "language": "python",
   "name": "python3"
  },
  "language_info": {
   "codemirror_mode": {
    "name": "ipython",
    "version": 3
   },
   "file_extension": ".py",
   "mimetype": "text/x-python",
   "name": "python",
   "nbconvert_exporter": "python",
   "pygments_lexer": "ipython3",
   "version": "3.12.3"
  }
 },
 "nbformat": 4,
 "nbformat_minor": 4
}