{
 "cells": [
  {
   "attachments": {},
   "cell_type": "markdown",
   "metadata": {},
   "source": [
    "# Using PCA"
   ]
  },
  {
   "attachments": {},
   "cell_type": "markdown",
   "metadata": {},
   "source": [
    "## Goals\n",
    "\n",
    "After completing this notebook, you will be able to:\n",
    "1. Standardize data with `scikit-learn`\n",
    "2. Perform Principal Component Analysis (PCA) on data\n",
    "3. Evaluate the influence of different principal components by seeing how much variance they explain\n",
    "4. Be able to transform data into lower dimensions uing PCA\n",
    "5. Be able to use KernelPCA to separate nonlinearly separable data"
   ]
  },
  {
   "attachments": {},
   "cell_type": "markdown",
   "metadata": {},
   "source": [
    "## 0. Our Imports"
   ]
  },
  {
   "cell_type": "code",
   "execution_count": 1,
   "metadata": {},
   "outputs": [],
   "source": [
    "# Standard Imports\n",
    "import numpy as np\n",
    "import pandas as pd\n",
    "import matplotlib.pyplot as plt\n",
    "\n",
    "# PCA Imports\n",
    "from sklearn.preprocessing import StandardScaler\n",
    "from sklearn.decomposition import PCA\n",
    "from sklearn.decomposition import KernelPCA\n",
    "\n",
    "# Import for 3d plotting\n",
    "from mpl_toolkits import mplot3d\n",
    "\n",
    "# For making nonlinear data\n",
    "from sklearn.datasets import make_circles\n",
    "\n",
    "%matplotlib inline"
   ]
  },
  {
   "attachments": {},
   "cell_type": "markdown",
   "metadata": {},
   "source": [
    "## 1. Getting Example Data\n",
    "\n",
    "Today we'll be looking at sklearn's breast cancer identification dataset. You could get this directly from sklearn with `from sklearn.datasets import load_breast_cancer`, but its good to practice reading in data so we'll do it by hand. There are two files you'll need for this data:\n",
    "\n",
    "- `cancer.csv` contains the cell measurements\n",
    "- `target.csv` has if each cell is malignant (1) or benign (0).\n",
    "\n",
    "cancer.csv link here\n",
    "\n",
    "target.csv link here\n",
    "\n",
    "<font size=8 color=\"#009600\">&#9998;</font> Do This - Read in these files as separate DataFrames with `pd.read_csv()`and print ther `head()`s."
   ]
  },
  {
   "cell_type": "code",
   "execution_count": 2,
   "metadata": {},
   "outputs": [],
   "source": [
    "# your code here"
   ]
  },
  {
   "attachments": {},
   "cell_type": "markdown",
   "metadata": {},
   "source": [
    "### 1.1 Getting the right columns\n",
    "\n",
    "Note that the dataframe from `cancer.csv` has a column that is just the index again. This isn't actually part of the data so you should get rid of it. \n",
    "\n",
    "\n",
    "<font size=8 color=\"#009600\">&#9998;</font> Use the DataFrame `drop()` method to make a new DataFrame that doesen't have this extra column."
   ]
  },
  {
   "cell_type": "code",
   "execution_count": 3,
   "metadata": {},
   "outputs": [],
   "source": [
    "# your code here"
   ]
  },
  {
   "attachments": {},
   "cell_type": "markdown",
   "metadata": {},
   "source": [
    "How many features does this data have? Does all of the data fall on the same scale?"
   ]
  },
  {
   "attachments": {},
   "cell_type": "markdown",
   "metadata": {},
   "source": [
    "### 1.2 Scaling the Data\n",
    "\n",
    "\n",
    "Like you saw in the previous notebook, to use PCA to reduce the number of features, the data needs to be scaled. \n",
    "\n",
    "\n",
    "<font size=8 color=\"#009600\">&#9998;</font> Do this - use `sklearn.preprocessing.StandardScaler` to scale the `cancer.csv` data. "
   ]
  },
  {
   "cell_type": "code",
   "execution_count": 4,
   "metadata": {},
   "outputs": [],
   "source": [
    "# your code here"
   ]
  },
  {
   "attachments": {},
   "cell_type": "markdown",
   "metadata": {},
   "source": [
    "## 2. Appplying PCA\n",
    "\n",
    "Now that the data is scaled appropriatley, we're ready to actually use Principal Component analysis. \n",
    "\n",
    "The syntax for doing PCA with scikit-learn is similar to other classes we've worked with from sklearn. You first initialize an instance of the PCA class (this is where you choose hyperparameters), then fit it to your data.  ([documentation](https://scikit-learn.org/stable/modules/generated/sklearn.decomposition.PCA.html))\n",
    "\n",
    "\n",
    "### 2.1 Task\n",
    "<font size=8 color=\"#009600\">&#9998;</font>  Create and fit a PCA object without specifying any hyperparameters."
   ]
  },
  {
   "cell_type": "code",
   "execution_count": 5,
   "metadata": {},
   "outputs": [],
   "source": [
    "# your code here"
   ]
  },
  {
   "attachments": {},
   "cell_type": "markdown",
   "metadata": {},
   "source": [
    "<font size=8 color=\"#009600\">&#9998;</font> What is the total explained variance from all of the principal components? How many principal components are there? (you'll probably want to write some code to figure this out)"
   ]
  },
  {
   "cell_type": "code",
   "execution_count": 6,
   "metadata": {},
   "outputs": [],
   "source": [
    "# your code here"
   ]
  },
  {
   "attachments": {},
   "cell_type": "markdown",
   "metadata": {},
   "source": [
    "answer here"
   ]
  },
  {
   "attachments": {},
   "cell_type": "markdown",
   "metadata": {},
   "source": [
    "### 2.2 Explained Variance Curve\n",
    "\n",
    "It can be useful to visually see how much variance each principal component explains. \n",
    "\n",
    "<font size=8 color=\"#009600\">&#9998;</font> Make a plot of the running total of the explained variance from each principal component. "
   ]
  },
  {
   "cell_type": "code",
   "execution_count": 7,
   "metadata": {},
   "outputs": [],
   "source": [
    "# your code here"
   ]
  },
  {
   "attachments": {},
   "cell_type": "markdown",
   "metadata": {},
   "source": [
    "<font size=8 color=\"#009600\">&#9998;</font> About how many Principal Components does it take to cover $90\\%$ of the variance in the data?"
   ]
  },
  {
   "attachments": {},
   "cell_type": "markdown",
   "metadata": {},
   "source": [
    "answer here"
   ]
  },
  {
   "attachments": {},
   "cell_type": "markdown",
   "metadata": {},
   "source": [
    "### 2.3 Transforming Data with PCA\n",
    "\n",
    "To move data into a lower dimensional space with PCA, we can use the `transform(data)` method. Since we can only visualize data in $2$ and $3$ dimensions, let's try transforming data using $2$ and $3$ principal components.\n",
    "\n",
    "#### 2.3.1 2d Transform\n",
    "\n",
    "<font size=8 color=\"#009600\">&#9998;</font> Do this - Create a new pca object with only 2 principal components and transform the data into this 2d space. How much of the total variance is explained by these two principal components?\n",
    "\n",
    "(note: Is there another method that lets you fit and transform with only one line of code?)\n"
   ]
  },
  {
   "cell_type": "code",
   "execution_count": 8,
   "metadata": {},
   "outputs": [],
   "source": [
    "# your code here"
   ]
  },
  {
   "attachments": {},
   "cell_type": "markdown",
   "metadata": {},
   "source": [
    "#### 2.3.2 2d Transformed Data Plot\n",
    "\n",
    "<font size=8 color=\"#009600\">&#9998;</font> Do this - Make a scatter plot of the transformed data (now in 2d) with the two principal components as axes. Color the points in the scatter plot by if the corresponding cell is malignant or not.\n",
    "\n",
    "Hint: To get the colors working in the `c = ` argument, try casting the dataframe with the target data as a numpy array. You'll need to transpose / index the array to get the data in the form matplotlib needs."
   ]
  },
  {
   "cell_type": "code",
   "execution_count": 9,
   "metadata": {},
   "outputs": [],
   "source": [
    "# your code here"
   ]
  },
  {
   "attachments": {},
   "cell_type": "markdown",
   "metadata": {},
   "source": [
    "#### 2.3.3 Observations\n",
    "\n",
    " What kind of structure do you see in this transformed data? Is it seperable? If yes (or mostly yes), **how** is it separable?"
   ]
  },
  {
   "attachments": {},
   "cell_type": "markdown",
   "metadata": {},
   "source": [
    "answer here"
   ]
  },
  {
   "attachments": {},
   "cell_type": "markdown",
   "metadata": {},
   "source": [
    "#### 2.3.3 3d Transform\n",
    "\n",
    "<font size=8 color=\"#009600\">&#9998;</font> Repeat the procedure from 2.3.1 - 2.3.3 but in 3d. Here some [documentation](https://matplotlib.org/stable/tutorials/toolkits/mplot3d.html) on `mplot3d`, which you can use to make a 3d scatter plot."
   ]
  },
  {
   "cell_type": "code",
   "execution_count": 10,
   "metadata": {},
   "outputs": [],
   "source": [
    "# your code here"
   ]
  },
  {
   "attachments": {},
   "cell_type": "markdown",
   "metadata": {},
   "source": [
    "## 3. (Time Permitting) Kernel PCA\n",
    "\n",
    "Standard PCA is extremely useful for data that is linearly separable, but it falls short when data has nonlinear structure. In those cases, Kernel PCA may be of use. Kernel PCA is similar in concept to Support Vector Machines (SVMs), as it works by using a kernel function to move data into a higher dimensional space, where the data may become linearly seperable, and hence a typical PCA is effective.\n",
    "\n",
    "Here's some circles like we saw last class:"
   ]
  },
  {
   "cell_type": "code",
   "execution_count": 11,
   "metadata": {},
   "outputs": [
    {
     "data": {
      "image/png": "[encoded data removed]",
      "text/plain": [
       "<Figure size 640x480 with 1 Axes>"
      ]
     },
     "metadata": {},
     "output_type": "display_data"
    }
   ],
   "source": [
    "X, y = make_circles(n_samples=500, factor=0.3, noise=0.06, random_state=10)\n",
    "\n",
    "plt.scatter(X[:, 0], X[:, 1], c=y)\n",
    "plt.axis('equal')\n",
    "plt.show()"
   ]
  },
  {
   "attachments": {},
   "cell_type": "markdown",
   "metadata": {},
   "source": [
    "### 3.1 Standard PCA on Nonlinear Data\n",
    "\n",
    "<font size=8 color=\"#009600\">&#9998;</font> Try using a regular PCA to transform this data (but don't change the dimensionality) and plot the results."
   ]
  },
  {
   "cell_type": "code",
   "execution_count": 12,
   "metadata": {},
   "outputs": [],
   "source": [
    "# your code here"
   ]
  },
  {
   "attachments": {},
   "cell_type": "markdown",
   "metadata": {},
   "source": [
    "<font size=8 color=\"#009600\">&#9998;</font> What does your group observe?"
   ]
  },
  {
   "attachments": {},
   "cell_type": "markdown",
   "metadata": {},
   "source": [
    "answer here"
   ]
  },
  {
   "attachments": {},
   "cell_type": "markdown",
   "metadata": {},
   "source": [
    "### 3.2 Trying Kernel PCA\n",
    "\n",
    "<font size=8 color=\"#009600\">&#9998;</font> Now try using a Kernel PCA to transform the data. Try to find a kernel and set of parameters that separate the data linearly. What do you observe? (Hint: the `'rbf'` kernel is sensitive to different values of `gamma`)"
   ]
  },
  {
   "cell_type": "code",
   "execution_count": 13,
   "metadata": {},
   "outputs": [],
   "source": [
    "# your code here"
   ]
  },
  {
   "attachments": {},
   "cell_type": "markdown",
   "metadata": {},
   "source": [
    "answer here"
   ]
  },
  {
   "attachments": {},
   "cell_type": "markdown",
   "metadata": {},
   "source": [
    "A Few Other Dimension Reduction Techniques of note:\n",
    "\n",
    "- Linear Discriminant Analysis (LDA): Used with classifiers, finds the linear combination of features for separating the data.\n",
    "- t-distributed stochastic neighbor embedding (t-SNE): Nonlinear Method, good for visualizing datasets in 2 and 3 dimensions. \n",
    " - Incremental PCA: Like a standard PCA but can be much more memory efficient in some cases.\n",
    "\n",
    "This list is very much non-exhaustive."
   ]
  }
 ],
 "metadata": {
  "kernelspec": {
   "display_name": "base",
   "language": "python",
   "name": "python3"
  },
  "language_info": {
   "codemirror_mode": {
    "name": "ipython",
    "version": 3
   },
   "file_extension": ".py",
   "mimetype": "text/x-python",
   "name": "python",
   "nbconvert_exporter": "python",
   "pygments_lexer": "ipython3",
   "version": "3.9.16"
  }
 },
 "nbformat": 4,
 "nbformat_minor": 2
}