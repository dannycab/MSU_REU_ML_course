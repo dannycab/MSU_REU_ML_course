{
 "cells": [
  {
   "attachments": {},
   "cell_type": "markdown",
   "metadata": {},
   "source": [
    "# Solution - Classification using K Nearest Neighbors\n",
    "\n",
    "<img src=\"https://www.pngkey.com/png/full/574-5745035_machine-learning-workflow-machine-learning-data-pipeline.png\" width=700px>\n",
    "\n",
    "\n",
    "## Agenda for today\n",
    "\n",
    "</p>\n",
    "\n",
    "1. Review Gettting Started Assignment\n",
    "1. Remind ourselves of Train vs Test\n",
    "1. Use KNN classifier on breast cancer dataset\n",
    "1. Evaluate the quality of the model"
   ]
  },
  {
   "attachments": {},
   "cell_type": "markdown",
   "metadata": {},
   "source": [
    "## 0. Imports for the day"
   ]
  },
  {
   "cell_type": "code",
   "execution_count": 1,
   "metadata": {},
   "outputs": [],
   "source": [
    "import pandas as pd\n",
    "import matplotlib.pyplot as plt\n",
    "import numpy as np\n",
    "\n",
    "from sklearn.model_selection import train_test_split\n",
    "from sklearn.neighbors import KNeighborsClassifier\n",
    "from sklearn import metrics\n",
    "\n",
    "plt.style.use('ggplot')\n",
    "%matplotlib inline"
   ]
  },
  {
   "attachments": {},
   "cell_type": "markdown",
   "metadata": {},
   "source": [
    "---\n",
    "## 1. Review of Getting Started Notebook\n",
    "\n",
    "Pull up the [solution notebook](./notebooks/day-3/day-3_Getting_Started_with_Classification_Models-SOL.ipynb)"
   ]
  },
  {
   "attachments": {},
   "cell_type": "markdown",
   "metadata": {},
   "source": [
    "----\n",
    "## 2. Training vs Testing\n",
    "\n",
    "As you learned in the pre-class, classification is an ML process that maps features of an input data set to class labels. Classification is a **supervised** learning approach where example data is used to train the data. We typically divide the data used to train and evaluate the classifier (the result model) into two sets (training and testing). _In some cases, folks split into three sets (training, testing, and validation)._"
   ]
  },
  {
   "attachments": {},
   "cell_type": "markdown",
   "metadata": {},
   "source": [
    "&#9989; **Do This:** As a group, discuss what these three sets represent. It might help to review these terms on the web. The answers down below:"
   ]
  },
  {
   "attachments": {},
   "cell_type": "markdown",
   "metadata": {},
   "source": [
    "<font size=8 color=\"#009600\">&#9998;</font> Training set is:"
   ]
  },
  {
   "attachments": {},
   "cell_type": "markdown",
   "metadata": {},
   "source": [
    "<font size=8 color=\"#009600\">&#9998;</font> Testing set is:"
   ]
  },
  {
   "attachments": {},
   "cell_type": "markdown",
   "metadata": {},
   "source": [
    "**Defining the features and building the model**\n",
    "\n",
    "If you review the image at the top of the notebook, you might notice that one of the first steps in machine learning is to go from \"raw data\" into a set of \"features\" and \"labels\". Extracting features from our data can sometimes be one of the trickier parts of the process and also one of the most important ones. We have to think carefully about exactly what the \"right\" features are for training our machine learning algorithm and, when possible, it is advantageous to find ways to reduce the total number of features we are trying to model. Once we define our features, we can build our model."
   ]
  },
  {
   "attachments": {},
   "cell_type": "markdown",
   "metadata": {},
   "source": [
    "### 2.1 Working with data\n",
    "\n",
    "There is a common data set used to work with classification called the breast cancer data set. It is actually available in `sklearn` but what fun is working withe cleaned up data. Let's look at the original. We will use [data from a Breast Cancer study](https://archive.ics.uci.edu/ml/datasets/Breast+Cancer+Wisconsin+(Diagnostic)) for this notebook. On this site, you will find  \"breast-cancer-wisconsin.data\" and \"breast-cancer-wisconsin.names\". The data are in \".data\" and the \".names\" describes that data. \n",
    "\n",
    "We can also directly import them from the web:\n",
    "\n",
    "* [https://archive.ics.uci.edu/ml/machine-learning-databases/breast-cancer-wisconsin/breast-cancer-wisconsin.data](https://archive.ics.uci.edu/ml/machine-learning-databases/breast-cancer-wisconsin/breast-cancer-wisconsin.data)\n",
    "* [https://archive.ics.uci.edu/ml/machine-learning-databases/breast-cancer-wisconsin/breast-cancer-wisconsin.names](https://archive.ics.uci.edu/ml/machine-learning-databases/breast-cancer-wisconsin/breast-cancer-wisconsin.names)\n",
    "\n",
    "Read in the data, label the columns based on the .names file. Look at the dtypes, anything unusual? Why?"
   ]
  },
  {
   "attachments": {},
   "cell_type": "markdown",
   "metadata": {},
   "source": [
    "<font size=8 color=\"#009600\">&#9998;</font> What's unusual about dtypes? Why?"
   ]
  },
  {
   "cell_type": "code",
   "execution_count": 2,
   "metadata": {},
   "outputs": [],
   "source": [
    "# your code here"
   ]
  },
  {
   "cell_type": "code",
   "execution_count": 3,
   "metadata": {},
   "outputs": [
    {
     "data": {
      "text/plain": [
       "Sample code number              int64\n",
       "Clump Thickness                 int64\n",
       "Uniformity of Cell Size         int64\n",
       "Uniformity of Cell Shape        int64\n",
       "Marginal Adhesion               int64\n",
       "Single Epithelial Cell Size     int64\n",
       "Bare Nuclei                    object\n",
       "Bland Chromatin                 int64\n",
       "Normal Nucleoli                 int64\n",
       "Mitoses                         int64\n",
       "Class                           int64\n",
       "dtype: object"
      ]
     },
     "execution_count": 3,
     "metadata": {},
     "output_type": "execute_result"
    }
   ],
   "source": [
    "### ANSWER ###\n",
    "\n",
    "bc_data = pd.read_csv('https://archive.ics.uci.edu/ml/machine-learning-databases/breast-cancer-wisconsin/breast-cancer-wisconsin.data',\n",
    "                     names = [\"Sample code number\",\n",
    "                              \"Clump Thickness\",\n",
    "                              \"Uniformity of Cell Size\",\n",
    "                              \"Uniformity of Cell Shape\",\n",
    "                              \"Marginal Adhesion\",\n",
    "                              \"Single Epithelial Cell Size\",\n",
    "                              \"Bare Nuclei\",\n",
    "                              \"Bland Chromatin\",\n",
    "                              \"Normal Nucleoli\",\n",
    "                              \"Mitoses\",\n",
    "                              \"Class\"])\n",
    "#bc_data.head()\n",
    "bc_data.dtypes"
   ]
  },
  {
   "attachments": {},
   "cell_type": "markdown",
   "metadata": {},
   "source": [
    "Can you write code to identify what the problem is? That is, can you provide a DataFrame of the offending rows that are causing the problem? There are lots of ways to do this and, frankly, it is probably a bit hard so don't get hung up too long on this. Give it a try though:"
   ]
  },
  {
   "cell_type": "code",
   "execution_count": 4,
   "metadata": {},
   "outputs": [],
   "source": [
    "# your code here"
   ]
  },
  {
   "cell_type": "code",
   "execution_count": 5,
   "metadata": {},
   "outputs": [
    {
     "data": {
      "text/html": [
       "<div>\n",
       "<style scoped>\n",
       "    .dataframe tbody tr th:only-of-type {\n",
       "        vertical-align: middle;\n",
       "    }\n",
       "\n",
       "    .dataframe tbody tr th {\n",
       "        vertical-align: top;\n",
       "    }\n",
       "\n",
       "    .dataframe thead th {\n",
       "        text-align: right;\n",
       "    }\n",
       "</style>\n",
       "<table border=\"1\" class=\"dataframe\">\n",
       "  <thead>\n",
       "    <tr style=\"text-align: right;\">\n",
       "      <th></th>\n",
       "      <th>Sample code number</th>\n",
       "      <th>Clump Thickness</th>\n",
       "      <th>Uniformity of Cell Size</th>\n",
       "      <th>Uniformity of Cell Shape</th>\n",
       "      <th>Marginal Adhesion</th>\n",
       "      <th>Single Epithelial Cell Size</th>\n",
       "      <th>Bare Nuclei</th>\n",
       "      <th>Bland Chromatin</th>\n",
       "      <th>Normal Nucleoli</th>\n",
       "      <th>Mitoses</th>\n",
       "      <th>Class</th>\n",
       "    </tr>\n",
       "  </thead>\n",
       "  <tbody>\n",
       "    <tr>\n",
       "      <th>23</th>\n",
       "      <td>1057013</td>\n",
       "      <td>8</td>\n",
       "      <td>4</td>\n",
       "      <td>5</td>\n",
       "      <td>1</td>\n",
       "      <td>2</td>\n",
       "      <td>?</td>\n",
       "      <td>7</td>\n",
       "      <td>3</td>\n",
       "      <td>1</td>\n",
       "      <td>4</td>\n",
       "    </tr>\n",
       "    <tr>\n",
       "      <th>40</th>\n",
       "      <td>1096800</td>\n",
       "      <td>6</td>\n",
       "      <td>6</td>\n",
       "      <td>6</td>\n",
       "      <td>9</td>\n",
       "      <td>6</td>\n",
       "      <td>?</td>\n",
       "      <td>7</td>\n",
       "      <td>8</td>\n",
       "      <td>1</td>\n",
       "      <td>2</td>\n",
       "    </tr>\n",
       "    <tr>\n",
       "      <th>139</th>\n",
       "      <td>1183246</td>\n",
       "      <td>1</td>\n",
       "      <td>1</td>\n",
       "      <td>1</td>\n",
       "      <td>1</td>\n",
       "      <td>1</td>\n",
       "      <td>?</td>\n",
       "      <td>2</td>\n",
       "      <td>1</td>\n",
       "      <td>1</td>\n",
       "      <td>2</td>\n",
       "    </tr>\n",
       "    <tr>\n",
       "      <th>145</th>\n",
       "      <td>1184840</td>\n",
       "      <td>1</td>\n",
       "      <td>1</td>\n",
       "      <td>3</td>\n",
       "      <td>1</td>\n",
       "      <td>2</td>\n",
       "      <td>?</td>\n",
       "      <td>2</td>\n",
       "      <td>1</td>\n",
       "      <td>1</td>\n",
       "      <td>2</td>\n",
       "    </tr>\n",
       "    <tr>\n",
       "      <th>158</th>\n",
       "      <td>1193683</td>\n",
       "      <td>1</td>\n",
       "      <td>1</td>\n",
       "      <td>2</td>\n",
       "      <td>1</td>\n",
       "      <td>3</td>\n",
       "      <td>?</td>\n",
       "      <td>1</td>\n",
       "      <td>1</td>\n",
       "      <td>1</td>\n",
       "      <td>2</td>\n",
       "    </tr>\n",
       "    <tr>\n",
       "      <th>164</th>\n",
       "      <td>1197510</td>\n",
       "      <td>5</td>\n",
       "      <td>1</td>\n",
       "      <td>1</td>\n",
       "      <td>1</td>\n",
       "      <td>2</td>\n",
       "      <td>?</td>\n",
       "      <td>3</td>\n",
       "      <td>1</td>\n",
       "      <td>1</td>\n",
       "      <td>2</td>\n",
       "    </tr>\n",
       "    <tr>\n",
       "      <th>235</th>\n",
       "      <td>1241232</td>\n",
       "      <td>3</td>\n",
       "      <td>1</td>\n",
       "      <td>4</td>\n",
       "      <td>1</td>\n",
       "      <td>2</td>\n",
       "      <td>?</td>\n",
       "      <td>3</td>\n",
       "      <td>1</td>\n",
       "      <td>1</td>\n",
       "      <td>2</td>\n",
       "    </tr>\n",
       "    <tr>\n",
       "      <th>249</th>\n",
       "      <td>169356</td>\n",
       "      <td>3</td>\n",
       "      <td>1</td>\n",
       "      <td>1</td>\n",
       "      <td>1</td>\n",
       "      <td>2</td>\n",
       "      <td>?</td>\n",
       "      <td>3</td>\n",
       "      <td>1</td>\n",
       "      <td>1</td>\n",
       "      <td>2</td>\n",
       "    </tr>\n",
       "    <tr>\n",
       "      <th>275</th>\n",
       "      <td>432809</td>\n",
       "      <td>3</td>\n",
       "      <td>1</td>\n",
       "      <td>3</td>\n",
       "      <td>1</td>\n",
       "      <td>2</td>\n",
       "      <td>?</td>\n",
       "      <td>2</td>\n",
       "      <td>1</td>\n",
       "      <td>1</td>\n",
       "      <td>2</td>\n",
       "    </tr>\n",
       "    <tr>\n",
       "      <th>292</th>\n",
       "      <td>563649</td>\n",
       "      <td>8</td>\n",
       "      <td>8</td>\n",
       "      <td>8</td>\n",
       "      <td>1</td>\n",
       "      <td>2</td>\n",
       "      <td>?</td>\n",
       "      <td>6</td>\n",
       "      <td>10</td>\n",
       "      <td>1</td>\n",
       "      <td>4</td>\n",
       "    </tr>\n",
       "    <tr>\n",
       "      <th>294</th>\n",
       "      <td>606140</td>\n",
       "      <td>1</td>\n",
       "      <td>1</td>\n",
       "      <td>1</td>\n",
       "      <td>1</td>\n",
       "      <td>2</td>\n",
       "      <td>?</td>\n",
       "      <td>2</td>\n",
       "      <td>1</td>\n",
       "      <td>1</td>\n",
       "      <td>2</td>\n",
       "    </tr>\n",
       "    <tr>\n",
       "      <th>297</th>\n",
       "      <td>61634</td>\n",
       "      <td>5</td>\n",
       "      <td>4</td>\n",
       "      <td>3</td>\n",
       "      <td>1</td>\n",
       "      <td>2</td>\n",
       "      <td>?</td>\n",
       "      <td>2</td>\n",
       "      <td>3</td>\n",
       "      <td>1</td>\n",
       "      <td>2</td>\n",
       "    </tr>\n",
       "    <tr>\n",
       "      <th>315</th>\n",
       "      <td>704168</td>\n",
       "      <td>4</td>\n",
       "      <td>6</td>\n",
       "      <td>5</td>\n",
       "      <td>6</td>\n",
       "      <td>7</td>\n",
       "      <td>?</td>\n",
       "      <td>4</td>\n",
       "      <td>9</td>\n",
       "      <td>1</td>\n",
       "      <td>2</td>\n",
       "    </tr>\n",
       "    <tr>\n",
       "      <th>321</th>\n",
       "      <td>733639</td>\n",
       "      <td>3</td>\n",
       "      <td>1</td>\n",
       "      <td>1</td>\n",
       "      <td>1</td>\n",
       "      <td>2</td>\n",
       "      <td>?</td>\n",
       "      <td>3</td>\n",
       "      <td>1</td>\n",
       "      <td>1</td>\n",
       "      <td>2</td>\n",
       "    </tr>\n",
       "    <tr>\n",
       "      <th>411</th>\n",
       "      <td>1238464</td>\n",
       "      <td>1</td>\n",
       "      <td>1</td>\n",
       "      <td>1</td>\n",
       "      <td>1</td>\n",
       "      <td>1</td>\n",
       "      <td>?</td>\n",
       "      <td>2</td>\n",
       "      <td>1</td>\n",
       "      <td>1</td>\n",
       "      <td>2</td>\n",
       "    </tr>\n",
       "    <tr>\n",
       "      <th>617</th>\n",
       "      <td>1057067</td>\n",
       "      <td>1</td>\n",
       "      <td>1</td>\n",
       "      <td>1</td>\n",
       "      <td>1</td>\n",
       "      <td>1</td>\n",
       "      <td>?</td>\n",
       "      <td>1</td>\n",
       "      <td>1</td>\n",
       "      <td>1</td>\n",
       "      <td>2</td>\n",
       "    </tr>\n",
       "  </tbody>\n",
       "</table>\n",
       "</div>"
      ],
      "text/plain": [
       "     Sample code number  Clump Thickness  Uniformity of Cell Size  \\\n",
       "23              1057013                8                        4   \n",
       "40              1096800                6                        6   \n",
       "139             1183246                1                        1   \n",
       "145             1184840                1                        1   \n",
       "158             1193683                1                        1   \n",
       "164             1197510                5                        1   \n",
       "235             1241232                3                        1   \n",
       "249              169356                3                        1   \n",
       "275              432809                3                        1   \n",
       "292              563649                8                        8   \n",
       "294              606140                1                        1   \n",
       "297               61634                5                        4   \n",
       "315              704168                4                        6   \n",
       "321              733639                3                        1   \n",
       "411             1238464                1                        1   \n",
       "617             1057067                1                        1   \n",
       "\n",
       "     Uniformity of Cell Shape  Marginal Adhesion  Single Epithelial Cell Size  \\\n",
       "23                          5                  1                            2   \n",
       "40                          6                  9                            6   \n",
       "139                         1                  1                            1   \n",
       "145                         3                  1                            2   \n",
       "158                         2                  1                            3   \n",
       "164                         1                  1                            2   \n",
       "235                         4                  1                            2   \n",
       "249                         1                  1                            2   \n",
       "275                         3                  1                            2   \n",
       "292                         8                  1                            2   \n",
       "294                         1                  1                            2   \n",
       "297                         3                  1                            2   \n",
       "315                         5                  6                            7   \n",
       "321                         1                  1                            2   \n",
       "411                         1                  1                            1   \n",
       "617                         1                  1                            1   \n",
       "\n",
       "    Bare Nuclei  Bland Chromatin  Normal Nucleoli  Mitoses  Class  \n",
       "23            ?                7                3        1      4  \n",
       "40            ?                7                8        1      2  \n",
       "139           ?                2                1        1      2  \n",
       "145           ?                2                1        1      2  \n",
       "158           ?                1                1        1      2  \n",
       "164           ?                3                1        1      2  \n",
       "235           ?                3                1        1      2  \n",
       "249           ?                3                1        1      2  \n",
       "275           ?                2                1        1      2  \n",
       "292           ?                6               10        1      4  \n",
       "294           ?                2                1        1      2  \n",
       "297           ?                2                3        1      2  \n",
       "315           ?                4                9        1      2  \n",
       "321           ?                3                1        1      2  \n",
       "411           ?                2                1        1      2  \n",
       "617           ?                1                1        1      2  "
      ]
     },
     "execution_count": 5,
     "metadata": {},
     "output_type": "execute_result"
    }
   ],
   "source": [
    "### ANSWER ####\n",
    "\n",
    "bc_data[bc_data['Bare Nuclei'] == '?']"
   ]
  },
  {
   "attachments": {},
   "cell_type": "markdown",
   "metadata": {},
   "source": [
    "OK, we have an imputation problem. Write code to solve it and say what you did.\n",
    "\n",
    "By the way, there is an argument `na_values` that you can provide to `read_csv` that will mark a list of characters as if they were `np.nan` using `na_values`, which is pretty darn convenient. Using that will help when importing the data for classification.  \n",
    "\n",
    "Read the data in using `na_values='?'` to replace missing data with `np.nan`. Check the `dtypes` again."
   ]
  },
  {
   "cell_type": "code",
   "execution_count": 6,
   "metadata": {},
   "outputs": [],
   "source": [
    "# code here"
   ]
  },
  {
   "cell_type": "code",
   "execution_count": 7,
   "metadata": {},
   "outputs": [
    {
     "data": {
      "text/plain": [
       "Sample code number               int64\n",
       "Clump Thickness                  int64\n",
       "Uniformity of Cell Size          int64\n",
       "Uniformity of Cell Shape         int64\n",
       "Marginal Adhesion                int64\n",
       "Single Epithelial Cell Size      int64\n",
       "Bare Nuclei                    float64\n",
       "Bland Chromatin                  int64\n",
       "Normal Nucleoli                  int64\n",
       "Mitoses                          int64\n",
       "Class                            int64\n",
       "dtype: object"
      ]
     },
     "execution_count": 7,
     "metadata": {},
     "output_type": "execute_result"
    }
   ],
   "source": [
    "### ANSWER ####\n",
    "\n",
    "bc_data = pd.read_csv('https://archive.ics.uci.edu/ml/machine-learning-databases/breast-cancer-wisconsin/breast-cancer-wisconsin.data',\n",
    "                     names = [\"Sample code number\",\n",
    "                              \"Clump Thickness\",\n",
    "                              \"Uniformity of Cell Size\",\n",
    "                              \"Uniformity of Cell Shape\",\n",
    "                              \"Marginal Adhesion\",\n",
    "                              \"Single Epithelial Cell Size\",\n",
    "                              \"Bare Nuclei\",\n",
    "                              \"Bland Chromatin\",\n",
    "                              \"Normal Nucleoli\",\n",
    "                              \"Mitoses\",\n",
    "                              \"Class\"],\n",
    "                     na_values = '?')\n",
    "#bc_data.head()\n",
    "bc_data.dtypes"
   ]
  },
  {
   "attachments": {},
   "cell_type": "markdown",
   "metadata": {},
   "source": [
    "----\n",
    "### 2.2 : Splitting the dataset for model into training and testing sets\n",
    "Let's split the data in a training set and final testing set. We want to randomly select 75% of the data for training and 25% of the data for testing.\n",
    "\n",
    "You should turn the `class_labels` into 0 (now 2, for benign) and 1 (now 4, for malignant) as the classifier we are using (Logisitic Regression) predicts values between 0 and 1."
   ]
  },
  {
   "attachments": {},
   "cell_type": "markdown",
   "metadata": {},
   "source": [
    "&#9989; Do This - You will need to come up with a way to split the data into separate training and testing sets (we will leave the validation set out for now).  Make sure you keep the feature vectors and classes together.  \n",
    "\n",
    "**BIG HINT**: This is a very common step in machine learning, and there exists a function to do this for you in the `sklearn` library called `train_test_split`. From the [documentation](https://scikit-learn.org/stable/modules/generated/sklearn.model_selection.train_test_split.html), you find that takes the features and class labels as input and returns a 4 outputs:\n",
    "- 2 feature sets (one for training and one for testing)\n",
    "- 2 class labels sets (the corresponding one for training and for testing)\n",
    "\n",
    "Use `train_test_split` to split your data into a training set and a testing set that correspond to 75% and 25% of your data respectively. Check the length of the resulting output to make sure the splits follow what you expected.\n",
    "\n",
    "One last thing: KNN doesn't work with missing data. You will need to use `dropna()` to get rid of them."
   ]
  },
  {
   "cell_type": "code",
   "execution_count": 8,
   "metadata": {},
   "outputs": [],
   "source": [
    "## your code here"
   ]
  },
  {
   "cell_type": "code",
   "execution_count": 9,
   "metadata": {},
   "outputs": [
    {
     "name": "stdout",
     "output_type": "stream",
     "text": [
      "Length of data set: 699\n",
      "Length after drop: 683\n",
      "Length of train: 512\n",
      "Length of test: 171\n"
     ]
    }
   ],
   "source": [
    "### ANSWER ###\n",
    "\n",
    "## change 2 to 0 (benign) and 4 to 1 (malignant)\n",
    "\n",
    "bc_data['Class'].replace(to_replace={2:0, 4:1}, inplace=True)\n",
    "#bc_data.head()\n",
    "print('Length of data set:', len(bc_data))\n",
    "\n",
    "## we need to drop NAs for now\n",
    "bc_data.dropna(inplace=True)\n",
    "print('Length after drop:', len(bc_data))\n",
    "\n",
    "## split data\n",
    "\n",
    "X = bc_data.drop(columns=['Sample code number','Class'])\n",
    "y = bc_data['Class']\n",
    "\n",
    "Xtrain, Xtest, ytrain, ytest = train_test_split(X, y, test_size=0.25)\n",
    "\n",
    "print('Length of train:',len(Xtrain))\n",
    "print('Length of test:',len(Xtest))"
   ]
  },
  {
   "attachments": {},
   "cell_type": "markdown",
   "metadata": {},
   "source": [
    "**Question**: Why do we need to separate our samples into a training and testing set. Why can't we just use all the data for both? Wouldn't that make it work better?"
   ]
  },
  {
   "attachments": {},
   "cell_type": "markdown",
   "metadata": {},
   "source": [
    "<font size=8 color=\"#009600\">&#9998;</font> Do This - Erase the contents of this cell and replace it with your answer to the above question!  (double-click on this text to edit this cell, and hit shift+enter to save the text)"
   ]
  },
  {
   "attachments": {},
   "cell_type": "markdown",
   "metadata": {},
   "source": [
    "----\n",
    "## 3 K Nearest Neighbors\n",
    "\n",
    "One of the more conceptually simply classifiers in K Nearest Neighbors or KNN. In KNN, we assume that in the N-dimensional space, which represents the N input features, that things in the same close are \"close\" to each other. That is the more similar their location in this virtual space, the more likely two points (or three or four...) are members of the same class.\n",
    "\n",
    "KNN has one basic \"hyperparameter\", which is what we can use to tune the model. It is how many neighbors it should include as part of the analysis (2, 3, 4, etc.). We will explore this at the end of the notebook. For now, we will setup the model.\n",
    "\n",
    "More information on KNN from a conceptual persepctive is in the video below."
   ]
  },
  {
   "cell_type": "code",
   "execution_count": 10,
   "metadata": {},
   "outputs": [
    {
     "data": {
      "image/jpeg": "[encoded data removed]",
      "text/html": [
       "\n",
       "        <iframe\n",
       "            width=\"640\"\n",
       "            height=\"360\"\n",
       "            src=\"https://www.youtube.com/embed/HVXime0nQeI\"\n",
       "            frameborder=\"0\"\n",
       "            allowfullscreen\n",
       "            \n",
       "        ></iframe>\n",
       "        "
      ],
      "text/plain": [
       "<IPython.lib.display.YouTubeVideo at 0x7f832e0e5450>"
      ]
     },
     "execution_count": 10,
     "metadata": {},
     "output_type": "execute_result"
    }
   ],
   "source": [
    "from IPython.display import YouTubeVideo\n",
    "YouTubeVideo(\"HVXime0nQeI\",width=640,height=360)"
   ]
  },
  {
   "attachments": {},
   "cell_type": "markdown",
   "metadata": {},
   "source": [
    "### 3.1 The benefits of `sklearn`\n",
    "\n",
    "The `sklearn` workflow is similar across all implementations. We will always:\n",
    "\n",
    "1. Create the model object (in this case `KNeighborsClassifier()`). _You can set hyperparameters at this step._\n",
    "2. Fit the model to the training data (this uses the `.fit()` method).\n",
    "3. Use that model to predict from the test set (this uses the `.predict()` method).\n",
    "\n",
    "If you named your training and testing data: `Xtrain, Xtest, ytrain, ytest`, then this call is quite simple.\n",
    "\n",
    "```python\n",
    "knn = KNeighborsClassifier()  ## Create model object\n",
    "knn.fit(Xtrain,ytrain)        ## Fit model to training data\n",
    "ypred = knn.predict(Xtest)    ## Predict the classes of the test data\n",
    "```\n",
    "\n",
    "<font size=8 color=\"#009600\">&#9998;</font> Do this. Implement this knn model for your data. What is `ypred`? What does `ypred` look like?"
   ]
  },
  {
   "cell_type": "code",
   "execution_count": 11,
   "metadata": {},
   "outputs": [],
   "source": [
    "# your code"
   ]
  },
  {
   "cell_type": "code",
   "execution_count": 12,
   "metadata": {},
   "outputs": [
    {
     "name": "stdout",
     "output_type": "stream",
     "text": [
      "[1 0 0 1 0 1 0 0 0 1 0 1 0 0 1 1 0 0 0 0 0 0 0 0 1 0 1 0 0 0 0 0 0 0 1 0 0\n",
      " 1 1 1 0 1 1 1 0 0 0 0 0 1 1 0 0 0 0 0 0 1 1 1 1 0 0 1 0 0 0 0 1 0 0 1 1 0\n",
      " 1 0 1 0 0 0 1 1 1 1 0 0 0 1 1 1 1 0 0 1 0 1 1 1 0 0 0 1 0 0 0 0 0 0 0 0 1\n",
      " 0 0 1 0 1 0 1 1 0 1 0 0 1 1 1 0 1 0 1 1 0 0 0 0 0 0 0 0 1 1 0 1 1 1 0 1 1\n",
      " 1 1 0 0 0 0 0 0 1 1 0 1 1 0 0 0 0 1 1 0 0 1 0]\n"
     ]
    }
   ],
   "source": [
    "### ANSWER ###\n",
    "\n",
    "knn = KNeighborsClassifier()\n",
    "knn.fit(Xtrain,ytrain)\n",
    "ypred = knn.predict(Xtest)\n",
    "print(ypred)"
   ]
  },
  {
   "attachments": {},
   "cell_type": "markdown",
   "metadata": {},
   "source": [
    "### 3.1 How'd it go?\n",
    "\n",
    "There are a number of ways that we can check the performance of our model. The major difference in the standard statistics approach and supervised learning approaches is that we test our models using the data that we held out: \"the test data.\" \n",
    "\n",
    "That is, we will use our classifier model to make predictions from the test features and we can then compare those predictions to actual test labels. As you did above, we can use the output of the `.fit()` method of the model to predict how well the classifier works on the test data (the data it was not trained on). Conveniently that is the `.predict()` method and, again, we use it on the result of the `.fit()`. \n",
    "\n",
    "But how well did the model do? It turns out that we can't simply make a plot of predicted versus actual like we did for regression. Instead, we use the \"confusion matrix\" and associated measures derived from it. The [Confusion Matrix](https://en.wikipedia.org/wiki/Confusion_matrix) gives you the number of true positives (TP), true negatives (TN), false positives (FP), and false negatives (FN). Through this we can determine the accuracy but the total number of TPs and TNs compared to all the data in the test set.\n",
    "\n",
    "In the `metrics` library, there's a method called `confusion_matrix` [Documentation](https://scikit-learn.org/stable/modules/generated/sklearn.metrics.confusion_matrix.html). We will start by using that. \n",
    "\n",
    "<font size=8 color=\"#009600\">&#9998;</font> Using this method to print out the confusion matrix. What is the number of TPs, TNs, FPs, and FNs in your model? Can you calculate the accuracy (1 is perfect, 0 is terrible) of the model from these?"
   ]
  },
  {
   "cell_type": "code",
   "execution_count": 13,
   "metadata": {},
   "outputs": [],
   "source": [
    "# your code here"
   ]
  },
  {
   "cell_type": "code",
   "execution_count": 14,
   "metadata": {},
   "outputs": [
    {
     "name": "stdout",
     "output_type": "stream",
     "text": [
      "[[99  3]\n",
      " [ 3 66]]\n",
      "Accuracy: 0.9649122807017544\n"
     ]
    }
   ],
   "source": [
    "### ANSWER ### \n",
    "\n",
    "print(metrics.confusion_matrix(ypred,ytest))\n",
    "tn, fp, fn, tp = metrics.confusion_matrix(ypred,ytest).ravel()\n",
    "\n",
    "acc = (tn+tp)/(tn+fp+fn+tp)\n",
    "print(\"Accuracy:\", acc)"
   ]
  },
  {
   "attachments": {},
   "cell_type": "markdown",
   "metadata": {},
   "source": [
    "This accuracy metric is alrady built into `sklearn`, it's called `accuracy_score`, which compares the predictions our model made for the test labels and the actual test labels. The `accuracy_score` is one of many metrics we can use and is included in `sklearn.metrics`. Here's the [documentation](https://scikit-learn.org/stable/modules/generated/sklearn.metrics.accuracy_score.html#sklearn.metrics.accuracy_score) on `accuracy_score`.\n",
    "\n",
    "<font size=8 color=\"#009600\">&#9998;</font> Do this:\n",
    "- Use the `sklearn.metrics` we imported at the top and run the `accuracy_score` on the 0/1 predicted label and the test labels.\n",
    "- Print your accuracy result"
   ]
  },
  {
   "cell_type": "code",
   "execution_count": 15,
   "metadata": {},
   "outputs": [],
   "source": [
    "## your code here"
   ]
  },
  {
   "cell_type": "code",
   "execution_count": 16,
   "metadata": {},
   "outputs": [
    {
     "name": "stdout",
     "output_type": "stream",
     "text": [
      "0.9649122807017544\n"
     ]
    }
   ],
   "source": [
    "print(metrics.accuracy_score(ypred,ytest))"
   ]
  },
  {
   "attachments": {},
   "cell_type": "markdown",
   "metadata": {},
   "source": [
    "**Question:** How well did your model predict the test class labels? Given what you learned in the pre-class assignment about false positives and false negatives, what other questions should we ask about the accuracy of our model?"
   ]
  },
  {
   "attachments": {},
   "cell_type": "markdown",
   "metadata": {},
   "source": [
    "<font size=8 color=\"#009600\">&#9998;</font> Answer here."
   ]
  },
  {
   "attachments": {},
   "cell_type": "markdown",
   "metadata": {},
   "source": [
    "---\n",
    "## 4. Tuning hyperparameters\n",
    "\n",
    "Most ML models have some number of parameters that can be tuned to try to build better models. Later, we will see how to explore those parameters automatically, but now, we will just do things manually. For KNN, this is ok because there's only one commnly tuned parameter: `n_neighbors`, which the number of neighboring points the algorithm takes into account when it looks for similar classes.\n",
    "\n",
    "Look at the [documentation for KNN](https://scikit-learn.org/stable/modules/generated/sklearn.neighbors.KNeighborsClassifier.html) and determine the default number of neighbors. \n",
    "\n",
    "<font size=8 color=\"#009600\">&#9998;</font> Do this. \n",
    "\n",
    "- Repeat your analysis above (you only need to create a new model, not resplit the data!). \n",
    "- Choose a number of neighbors that is fewer than the default. \n",
    "\n",
    "How does your model perform compared to the default?"
   ]
  },
  {
   "cell_type": "code",
   "execution_count": 17,
   "metadata": {},
   "outputs": [],
   "source": [
    "## your code here"
   ]
  },
  {
   "cell_type": "code",
   "execution_count": 18,
   "metadata": {},
   "outputs": [
    {
     "name": "stdout",
     "output_type": "stream",
     "text": [
      "0.9649122807017544\n"
     ]
    }
   ],
   "source": [
    "### ANSWER ###\n",
    "\n",
    "knn = KNeighborsClassifier(n_neighbors = 3)\n",
    "knn.fit(Xtrain, ytrain)\n",
    "ypred = knn.predict(Xtest)\n",
    "\n",
    "print(metrics.accuracy_score(ypred, ytest))"
   ]
  },
  {
   "attachments": {},
   "cell_type": "markdown",
   "metadata": {},
   "source": [
    "### 4.1 Automate it\n",
    "\n",
    "Now that you have checked a slightly different number of neighbors, let's systematically see how our accuract changes with number of neighbors.\n",
    "\n",
    "<font size=8 color=\"#009600\">&#9998;</font> Do this. \n",
    "\n",
    "- Write a function that takes number of neighbors and returns accuracy of the model\n",
    "- For 2 to 10 neighbors, compute the accuracy\n",
    "- Plot the accuracy as a function of number of neighbors\n",
    "\n",
    "What happens to the accuracy? Is there a good choice of `n_neighbors` to acheive the highest accuracy?"
   ]
  },
  {
   "cell_type": "code",
   "execution_count": 19,
   "metadata": {},
   "outputs": [],
   "source": [
    "## your code here"
   ]
  },
  {
   "cell_type": "code",
   "execution_count": 20,
   "metadata": {},
   "outputs": [
    {
     "data": {
      "image/png": "[encoded data removed]",
      "text/plain": [
       "<Figure size 500x500 with 1 Axes>"
      ]
     },
     "metadata": {},
     "output_type": "display_data"
    }
   ],
   "source": [
    "### ANSWER ###\n",
    "\n",
    "def KNNCompute(xtrain, xtest, ytrain, ytest, n=5):\n",
    "    \n",
    "    '''\n",
    "    Take a data set (xtrain, xtest, ytrain, ytest) and \n",
    "    fit a KNN model with a given number of neighbors (n).\n",
    "    Return the accuracy of that model.\n",
    "    '''\n",
    "    \n",
    "    knn = KNeighborsClassifier(n_neighbors = n)\n",
    "    knn.fit(Xtrain, ytrain)\n",
    "    ypred = knn.predict(Xtest)\n",
    "    \n",
    "    return (metrics.accuracy_score(ypred, ytest))\n",
    "\n",
    "acc_array = []\n",
    "neighbors = np.arange(2,11)\n",
    "\n",
    "for i in neighbors:\n",
    "    acc_array.append(KNNCompute(Xtrain, Xtest, ytrain, ytest, i))\n",
    "\n",
    "plt.figure(figsize=(5,5))\n",
    "plt.scatter(neighbors, acc_array)\n",
    "plt.xlabel('Number of Neighbors')\n",
    "plt.ylabel('Accuracy')\n",
    "plt.axis([1,11,.9,1])\n",
    "plt.show()"
   ]
  }
 ],
 "metadata": {
  "kernelspec": {
   "display_name": "Python 3",
   "language": "python",
   "name": "python3"
  },
  "language_info": {
   "codemirror_mode": {
    "name": "ipython",
    "version": 3
   },
   "file_extension": ".py",
   "mimetype": "text/x-python",
   "name": "python",
   "nbconvert_exporter": "python",
   "pygments_lexer": "ipython3",
   "version": "3.11.3"
  }
 },
 "nbformat": 4,
 "nbformat_minor": 4
}