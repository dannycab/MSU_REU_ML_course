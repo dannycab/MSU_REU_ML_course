{
 "cells": [
  {
   "cell_type": "markdown",
   "metadata": {},
   "source": [
    "# Solution - Polynomial Regression\n",
    "\n",
    "<img src=\"https://i.pinimg.com/originals/52/2c/20/522c209c019fe9592857bcb569184478.jpg\">"
   ]
  },
  {
   "cell_type": "markdown",
   "metadata": {},
   "source": [
    "## Goals\n",
    "\n",
    "After completing this notebook, you will be able to:\n",
    "1. Generate data for a polynomial regression\n",
    "2. Construct a set of polnomial regression models usings `scikit-learn`\n",
    "3. Explain why we want to split data for modeling/evaluation\n",
    "4. Evaluate the quality of fit for a set of models using adjusted $R^2$ and by comparing true and predicted values\n",
    "4. Explain why that model is the best fit for this data"
   ]
  },
  {
   "cell_type": "markdown",
   "metadata": {},
   "source": [
    "## Our Imports"
   ]
  },
  {
   "cell_type": "code",
   "execution_count": 1,
   "metadata": {},
   "outputs": [],
   "source": [
    "import numpy as np\n",
    "import matplotlib.pyplot as plt\n",
    "import random as rand\n",
    "import pandas as pd\n",
    "\n",
    "from IPython.display import HTML\n",
    "\n",
    "from sklearn.model_selection import train_test_split ## Used for automatically splitting data\n",
    "from sklearn.linear_model import LinearRegression    ## One of many kinds of regression models\n",
    "\n",
    "%matplotlib inline"
   ]
  },
  {
   "cell_type": "markdown",
   "metadata": {},
   "source": [
    "---\n",
    "## 1. Polynomial Regression\n",
    "\n",
    "It's possible that a straight line is not going to be good enough to model the data we are working with. We can augment our $ Ax + B$ with extra features. By adding features we are still doing linear regression, but we the features themselves can consist of, well anything.\n",
    "\n",
    "However, to be focused, we will use polynomials. We can add values like $x^2$ or $x^5$ to the potential set of features that can be used to better map against our data. \n",
    "\n",
    "<font size=8 color=\"#009600\">&#9998;</font> Do This -  The question is, how many such features should we add? What are the advantages and disadvantages of adding more and more features? Think about it and answer in the cell below"
   ]
  },
  {
   "cell_type": "markdown",
   "metadata": {},
   "source": [
    "<font size=8 color=\"#009600\">&#10174;</font> Answer here"
   ]
  },
  {
   "cell_type": "markdown",
   "metadata": {},
   "source": [
    "### 1.1 Let's make some Data\n",
    "\n",
    "It's always good when we are starting out to generate our own data. Data we generate gives us the advantage of **knowing** what the answer should be. \n",
    "\n",
    "<font size=8 color=\"#009600\">&#9998;</font> Do This -  Let's do the following:\n",
    "* build a numpy array `x_ary`of values from -4 to 4 by 0.02\n",
    "* generate a corresponding `y_ary`, using the values from `x_ary`, based on the formula $x^4 + 2x^3 -15x^2 -12x + 36$\n",
    "* create `y_noisy`, by adding random (Gaussian) noise to `y_ary` in the range of -15 to 15. Later on we might make the range bigger (say -25 to 25) or smaller (say -5 to 5) for comparison. You will want to use `np.random.normal(avg, std_dev, N)` to do so."
   ]
  },
  {
   "cell_type": "code",
   "execution_count": 2,
   "metadata": {},
   "outputs": [],
   "source": [
    "# your code here"
   ]
  },
  {
   "cell_type": "code",
   "execution_count": 3,
   "metadata": {},
   "outputs": [],
   "source": [
    "### ANSWER ###\n",
    "\n",
    "x_ary = np.arange(-4,4,0.02)\n",
    "y_ary = x_ary**4 + 2*x_ary**3 - 15*x_ary**2 - 12*x_ary + 36\n",
    "\n",
    "mu = 0\n",
    "sigma = 15\n",
    "\n",
    "random_noise  = np.random.normal(mu, sigma, len(x_ary))\n",
    "    \n",
    "y_noisy = y_ary + random_noise"
   ]
  },
  {
   "cell_type": "markdown",
   "metadata": {},
   "source": [
    "### 1.2 Plot the data\n",
    "\n",
    "We should really look at our data before we try to model it.\n",
    "\n",
    "<font size=8 color=\"#009600\">&#9998;</font> Do This -  plot `x_ary` vs both `y_ary` and `y_noisy`. Do it overlapping with colors, or side by side, whatever you think would look good. _Make sure to label your axes!_ Consider adding a legend by using: `plt.legend(['Plot 1', 'Plot 2'])`."
   ]
  },
  {
   "cell_type": "code",
   "execution_count": 4,
   "metadata": {},
   "outputs": [],
   "source": [
    "# your code here"
   ]
  },
  {
   "cell_type": "code",
   "execution_count": 5,
   "metadata": {},
   "outputs": [
    {
     "data": {
      "text/plain": [
       "Text(0, 0.5, 'y')"
      ]
     },
     "execution_count": 5,
     "metadata": {},
     "output_type": "execute_result"
    },
    {
     "data": {
      "image/png": "[encoded data removed]",
      "text/plain": [
       "<Figure size 432x288 with 1 Axes>"
      ]
     },
     "metadata": {
      "filenames": {
       "image/png": "/Users/caballero/Repos/teaching/MSU_REU_ML_course/_build/jupyter_execute/notebooks/day-2/Day-2_Polynomial_Regression-SOL_11_1.png"
      },
      "needs_background": "light"
     },
     "output_type": "display_data"
    }
   ],
   "source": [
    "### ANSWER ###\n",
    "\n",
    "plt.scatter(x_ary, y_ary)\n",
    "plt.scatter(x_ary,y_noisy)\n",
    "plt.legend(['Ground Truth', 'With Noise'])\n",
    "plt.xlabel('x')\n",
    "plt.ylabel('y')"
   ]
  },
  {
   "cell_type": "markdown",
   "metadata": {},
   "source": [
    "---\n",
    "## 2 Making the Polynomial Features\n",
    "\n",
    "Ultimately it would be nice to do our work using a `pandas` DataFrame so that we have the opportunity to label our columns. There's the added benefit that `scikit-learn` just works with `pandas` DataFrames. \n",
    "\n",
    "<font size=8 color=\"#009600\">&#9998;</font> Do This - Make a DataFrame consisting of the following columns: a constant value for the intercept, the values in `x_ary`, and additional powers of `x_ary` up to 10.\n",
    "\n",
    "You can do this one of two ways:\n",
    "1. make the DataFrame out of `x_ary` and add features to the DataFrame\n",
    "2. add columns to the `x_ary` array and then finish off by adding to a DataFrame\n",
    "\n",
    "In the end, you have a DataFrame no matter the approach.\n",
    "\n",
    "As a reminder, the columns of the DataFrame should be:\n",
    "* Label the first column \"const\" and just place the value 1 in it\n",
    "* make the `x_ary` data column 1, labeled \"data\"\n",
    "* the next 9 columns should be based on `x_ary` and have as values: $x^2$, $x^3$, $x^4 \\ldots$ $x^{10}$. Give them good (but short) label names\n",
    "\n",
    "Print the head of your DataFrame when you're done."
   ]
  },
  {
   "cell_type": "code",
   "execution_count": 6,
   "metadata": {},
   "outputs": [],
   "source": [
    "# your code"
   ]
  },
  {
   "cell_type": "code",
   "execution_count": 7,
   "metadata": {},
   "outputs": [
    {
     "data": {
      "text/html": [
       "<div>\n",
       "<style scoped>\n",
       "    .dataframe tbody tr th:only-of-type {\n",
       "        vertical-align: middle;\n",
       "    }\n",
       "\n",
       "    .dataframe tbody tr th {\n",
       "        vertical-align: top;\n",
       "    }\n",
       "\n",
       "    .dataframe thead th {\n",
       "        text-align: right;\n",
       "    }\n",
       "</style>\n",
       "<table border=\"1\" class=\"dataframe\">\n",
       "  <thead>\n",
       "    <tr style=\"text-align: right;\">\n",
       "      <th></th>\n",
       "      <th>const</th>\n",
       "      <th>data</th>\n",
       "      <th>x2</th>\n",
       "      <th>x3</th>\n",
       "      <th>x4</th>\n",
       "      <th>x5</th>\n",
       "      <th>x6</th>\n",
       "      <th>x7</th>\n",
       "      <th>x8</th>\n",
       "      <th>x9</th>\n",
       "      <th>x10</th>\n",
       "    </tr>\n",
       "  </thead>\n",
       "  <tbody>\n",
       "    <tr>\n",
       "      <th>0</th>\n",
       "      <td>1.0</td>\n",
       "      <td>-4.00</td>\n",
       "      <td>16.0000</td>\n",
       "      <td>-64.000000</td>\n",
       "      <td>256.000000</td>\n",
       "      <td>-1024.000000</td>\n",
       "      <td>4096.000000</td>\n",
       "      <td>-16384.000000</td>\n",
       "      <td>65536.000000</td>\n",
       "      <td>-262144.000000</td>\n",
       "      <td>1.048576e+06</td>\n",
       "    </tr>\n",
       "    <tr>\n",
       "      <th>1</th>\n",
       "      <td>1.0</td>\n",
       "      <td>-3.98</td>\n",
       "      <td>15.8404</td>\n",
       "      <td>-63.044792</td>\n",
       "      <td>250.918272</td>\n",
       "      <td>-998.654723</td>\n",
       "      <td>3974.645798</td>\n",
       "      <td>-15819.090277</td>\n",
       "      <td>62959.979304</td>\n",
       "      <td>-250580.717629</td>\n",
       "      <td>9.973113e+05</td>\n",
       "    </tr>\n",
       "    <tr>\n",
       "      <th>2</th>\n",
       "      <td>1.0</td>\n",
       "      <td>-3.96</td>\n",
       "      <td>15.6816</td>\n",
       "      <td>-62.099136</td>\n",
       "      <td>245.912579</td>\n",
       "      <td>-973.813811</td>\n",
       "      <td>3856.302692</td>\n",
       "      <td>-15270.958660</td>\n",
       "      <td>60472.996294</td>\n",
       "      <td>-239473.065324</td>\n",
       "      <td>9.483133e+05</td>\n",
       "    </tr>\n",
       "    <tr>\n",
       "      <th>3</th>\n",
       "      <td>1.0</td>\n",
       "      <td>-3.94</td>\n",
       "      <td>15.5236</td>\n",
       "      <td>-61.162984</td>\n",
       "      <td>240.982157</td>\n",
       "      <td>-949.469698</td>\n",
       "      <td>3740.910612</td>\n",
       "      <td>-14739.187810</td>\n",
       "      <td>58072.399973</td>\n",
       "      <td>-228805.255894</td>\n",
       "      <td>9.014927e+05</td>\n",
       "    </tr>\n",
       "    <tr>\n",
       "      <th>4</th>\n",
       "      <td>1.0</td>\n",
       "      <td>-3.92</td>\n",
       "      <td>15.3664</td>\n",
       "      <td>-60.236288</td>\n",
       "      <td>236.126249</td>\n",
       "      <td>-925.614896</td>\n",
       "      <td>3628.410392</td>\n",
       "      <td>-14223.368737</td>\n",
       "      <td>55755.605448</td>\n",
       "      <td>-218561.973356</td>\n",
       "      <td>8.567629e+05</td>\n",
       "    </tr>\n",
       "  </tbody>\n",
       "</table>\n",
       "</div>"
      ],
      "text/plain": [
       "   const  data       x2         x3          x4           x5           x6  \\\n",
       "0    1.0 -4.00  16.0000 -64.000000  256.000000 -1024.000000  4096.000000   \n",
       "1    1.0 -3.98  15.8404 -63.044792  250.918272  -998.654723  3974.645798   \n",
       "2    1.0 -3.96  15.6816 -62.099136  245.912579  -973.813811  3856.302692   \n",
       "3    1.0 -3.94  15.5236 -61.162984  240.982157  -949.469698  3740.910612   \n",
       "4    1.0 -3.92  15.3664 -60.236288  236.126249  -925.614896  3628.410392   \n",
       "\n",
       "             x7            x8             x9           x10  \n",
       "0 -16384.000000  65536.000000 -262144.000000  1.048576e+06  \n",
       "1 -15819.090277  62959.979304 -250580.717629  9.973113e+05  \n",
       "2 -15270.958660  60472.996294 -239473.065324  9.483133e+05  \n",
       "3 -14739.187810  58072.399973 -228805.255894  9.014927e+05  \n",
       "4 -14223.368737  55755.605448 -218561.973356  8.567629e+05  "
      ]
     },
     "execution_count": 7,
     "metadata": {},
     "output_type": "execute_result"
    }
   ],
   "source": [
    "### ANSWER ###\n",
    "\n",
    "const = np.ones(len(x_ary))\n",
    "\n",
    "df = pd.DataFrame(const, columns=['const'])\n",
    "\n",
    "df['data'] = x_ary\n",
    "\n",
    "for i in range(2,11):\n",
    "    \n",
    "    label = \"x\" + str(i)\n",
    "    \n",
    "    df[label] = x_ary**i\n",
    "    \n",
    "df.head()"
   ]
  },
  {
   "cell_type": "markdown",
   "metadata": {},
   "source": [
    "### 2.1 Train-test splitting\n",
    "\n",
    "One of the critical aspects of machine learning is worrying about overfitting or underfitting your data. This is essential to machine learning as we can never avoid the Bias-Variance tradeoff ([Great Conceptual Video on this](https://www.youtube.com/watch?v=EuBBz3bI-aA)).\n",
    "\n",
    "* **Overfitting** - when your model captures too many aspects of what it learns from so that it fits the data it learned from really well. Results: A really good fit for learned data, but not a great fit for new data from the same phenomenon.\n",
    "* **Underfitting** - when your model captures too few aspects of what it learns from so that it fits data it learned from poorly. Results: A poor model fit for learned data, and probably also a poor fit for new data.\n",
    "\n",
    "One of the ways we deal with this tradeoff and problems with fit is to split the original data into a `training` and `test` set. Effectively, we build the model using the `training` data. And we evaluate the quality of the fit using the `test` data. Note that this is a totally different paradigm from statistical explanatory models that use the whole data set. There's a great discussion of this two paradigms by Galit Shmueli ([To Explain or To Predict?](https://www.stat.berkeley.edu/~aldous/157/Papers/shmueli.pdf)).\n",
    "\n",
    "In any event, we introduce `train_test_split()`, which is built into the `scikit-learn` toolkit, to split our data and conduct our analysis. \n",
    "\n",
    "For this case, we can simple use the call: `X_train, X_test, y_train, y_test = train_test_split(df, y_noisy, test_size=0.2)` where `df` is the name of your data frame. Then each returned variable represents the training and testing set inputs and outputs respectively.\n",
    "\n",
    "<font size=8 color=\"#009600\">&#9998;</font> Do This - Split your data with 20% going to test data and 80% to training (this is a common split ratio in ML). Print the length of the resulting arrays to confirm the split occured as you planned."
   ]
  },
  {
   "cell_type": "code",
   "execution_count": 8,
   "metadata": {},
   "outputs": [],
   "source": [
    "## your code here"
   ]
  },
  {
   "cell_type": "code",
   "execution_count": 9,
   "metadata": {},
   "outputs": [
    {
     "name": "stdout",
     "output_type": "stream",
     "text": [
      "320\n",
      "80\n"
     ]
    }
   ],
   "source": [
    "### ANSWER ###\n",
    "\n",
    "X_train, X_test, y_train, y_test = train_test_split(df, y_noisy, test_size=0.2, random_state=42)\n",
    "print(len(X_train))\n",
    "print(len(X_test))"
   ]
  },
  {
   "cell_type": "markdown",
   "metadata": {},
   "source": [
    "### 2.2 Fitting using the Polynomials\n",
    "\n",
    "We'll talk about measures of \"goodness\" of fit in more detail on day 4, but one good measure for a multi-feature fit is the **Adjusted R-squared** value. In general, the **R-squared** describes the variance in the model that it can account for. If the R-squared is 1.0, then all the variance is accounted for an you have a perfect fit. If the value is 0 and you have no fit. However, for multiple features R-squared tends to over-estimate. The Adjusted R-squared tries to deal with this and provide a value that is better suited to multiple features.\n",
    "\n",
    "We'll leave it to you how you want to do this, but what we'd like you to try is to fit different combinations of features against `y_noisy` and report the Adjusted R-squared value. For example, what is the Adj-r-squared for:\n",
    "\n",
    "1. just the const column\n",
    "2. the const and data column (which should be a line)\n",
    "3. the const, data and $x^2$ column\n",
    "4. the const, data, $x^2$ and $x^3$ column\n",
    "5. $\\ldots$\n",
    "\n",
    "So on and so forth. You can do them individually or on a loop and collect the results. \n",
    "\n",
    "A piece of code that can help with regression results for scikit-learn is below:\n",
    "\n",
    "```python\n",
    "import sklearn.metrics as metrics\n",
    "\n",
    "def regression_results(y_true, y_pred):\n",
    "\n",
    "    # Regression metrics\n",
    "    explained_variance=metrics.explained_variance_score(y_true, y_pred)\n",
    "    mean_absolute_error=metrics.mean_absolute_error(y_true, y_pred) \n",
    "    mse=metrics.mean_squared_error(y_true, y_pred) \n",
    "    median_absolute_error=metrics.median_absolute_error(y_true, y_pred)\n",
    "    r2=metrics.r2_score(y_true, y_pred)\n",
    "\n",
    "    print('explained_variance: ', round(explained_variance,4))    \n",
    "    print('r2: ', round(r2,4))\n",
    "    print('MAE: ', round(mean_absolute_error,4))\n",
    "    print('MSE: ', round(mse,4))\n",
    "    print('RMSE: ', round(np.sqrt(mse),4))\n",
    "```\n",
    "\n",
    "If you want to use this function, you need to include it in a cell and execute it. Then you can call it later using: `regression_results(y_true, y_pred)`.\n",
    "\n",
    "All of these metrics are available for regression models with `scikit-learn`, which is really useful as you can swap out models without changing how you do your evaluation! \n",
    "\n",
    "<font size=8 color=\"#009600\">&#9998;</font> Do This - Create a variety of models that fit to the noisy data using increasingly more features recall you are fitting with the training set (`X_train` and `y_train`). Then use the model to predict the what the output should be (`y_pred`). Then compare the predicted value to the real value using `.r2_score`.  Look at that value for the combination of features you selected and say which one is the \"best\". For this work, we would consider the \"best\" would be the highest value of `.r2_score`.\n",
    "\n",
    "To help here's some code:\n",
    "\n",
    "```python\n",
    "linear = LinearRegression()           ## Create the linear model\n",
    "cols = ['const','data','x2','x3']     ## Select the columns for the model\n",
    "linear.fit(X_train[cols],y_train)     ## Fit the model\n",
    "\n",
    "y_pred = linear.predict(X_test[cols]) ## Test the model\n",
    "regression_results(y_test, y_pred)    ## compare the results\n",
    "```\n",
    "\n",
    "This process is similar for every `scikit-learn` regression model."
   ]
  },
  {
   "cell_type": "code",
   "execution_count": 10,
   "metadata": {},
   "outputs": [],
   "source": [
    "# your code here"
   ]
  },
  {
   "cell_type": "code",
   "execution_count": 11,
   "metadata": {},
   "outputs": [
    {
     "name": "stdout",
     "output_type": "stream",
     "text": [
      "explained_variance:  0.5669\n",
      "r2:  0.5669\n",
      "MAE:  21.8709\n",
      "MSE:  753.5327\n",
      "RMSE:  27.4506\n"
     ]
    }
   ],
   "source": [
    "### ANSWER ###\n",
    "\n",
    "import sklearn.metrics as metrics\n",
    "\n",
    "def regression_results(y_true, y_pred):\n",
    "\n",
    "    # Regression metrics\n",
    "    explained_variance=metrics.explained_variance_score(y_true, y_pred)\n",
    "    mean_absolute_error=metrics.mean_absolute_error(y_true, y_pred) \n",
    "    mse=metrics.mean_squared_error(y_true, y_pred) \n",
    "    median_absolute_error=metrics.median_absolute_error(y_true, y_pred)\n",
    "    r2=metrics.r2_score(y_true, y_pred)\n",
    "\n",
    "    print('explained_variance: ', round(explained_variance,4))    \n",
    "    print('r2: ', round(r2,4))\n",
    "    print('MAE: ', round(mean_absolute_error,4))\n",
    "    print('MSE: ', round(mse,4))\n",
    "    print('RMSE: ', round(np.sqrt(mse),4))\n",
    "\n",
    "X_train, X_test, y_train, y_test = train_test_split(df, y_noisy, test_size=0.2, random_state=42)\n",
    "\n",
    "linear = LinearRegression()\n",
    "\n",
    "cols = ['const','data','x2','x3']\n",
    "\n",
    "linear.fit(X_train[cols],y_train)\n",
    "\n",
    "y_pred = linear.predict(X_test[cols])\n",
    "\n",
    "regression_results(y_test, y_pred)"
   ]
  },
  {
   "cell_type": "markdown",
   "metadata": {},
   "source": [
    "<font size=8 color=\"#009600\">&#9998;</font> Do This - Which combination of features best \"fit\" your data? What was the Adjusted R-squared? Why might that combination produce the best fit?"
   ]
  },
  {
   "cell_type": "markdown",
   "metadata": {},
   "source": [
    "<font size=8 color=\"#009600\">&#9998;</font> Answer here"
   ]
  },
  {
   "cell_type": "markdown",
   "metadata": {},
   "source": [
    "---\n",
    "## 3. Plot your data and your model\n",
    "\n",
    "<font size=8 color=\"#009600\">&#9998;</font> Do This -  Plot `x_ary` vs `y_noisy` and `x_ary` vs the best fitted values based on the adjusted rsquared value. Do it in the same graph. "
   ]
  },
  {
   "cell_type": "code",
   "execution_count": 12,
   "metadata": {},
   "outputs": [],
   "source": [
    "# your code here"
   ]
  },
  {
   "cell_type": "code",
   "execution_count": 13,
   "metadata": {},
   "outputs": [
    {
     "data": {
      "text/plain": [
       "<matplotlib.legend.Legend at 0x7fb01322a4c0>"
      ]
     },
     "execution_count": 13,
     "metadata": {},
     "output_type": "execute_result"
    },
    {
     "data": {
      "image/png": "[encoded data removed]",
      "text/plain": [
       "<Figure size 432x288 with 1 Axes>"
      ]
     },
     "metadata": {
      "filenames": {
       "image/png": "/Users/caballero/Repos/teaching/MSU_REU_ML_course/_build/jupyter_execute/notebooks/day-2/Day-2_Polynomial_Regression-SOL_25_1.png"
      },
      "needs_background": "light"
     },
     "output_type": "display_data"
    }
   ],
   "source": [
    "### ANSWER ###\n",
    "\n",
    "plt.scatter(x_ary, y_noisy, color='c')\n",
    "plt.scatter(X_test['data'], y_pred, color='k', lw=2)\n",
    "plt.xlabel('x')\n",
    "plt.ylabel('y')\n",
    "plt.legend(['Truth','Fit'])"
   ]
  },
  {
   "cell_type": "markdown",
   "metadata": {},
   "source": [
    "### 3.1 Are we justified in using this model?\n",
    "\n",
    "We can check how well we are justified in using this model, by comparing the actual and predicted values as well as making a residual plot.\n",
    "\n",
    "* The first plot is plotting the predicted values against the real values. In a perfect model, they would form a line with a slope of 1.\n",
    "* The second plot has a bit more information about the fit. Effectively, to be justfied in using a linear model, our residuals better be randomly disitrbuted. That's a qualifier for using linear regression. So here you must plot the `res = real - predicted` against x values. Here's a [short discussion on how that works](https://stattrek.com/regression/residual-analysis.aspx).\n",
    "\n",
    "<font size=8 color=\"#009600\">&#9998;</font> Do This - Make the two plots mentioned above. Make sure to plot the residuals as a function of the independent variable (`data` or `x`, whatever you called it)."
   ]
  },
  {
   "cell_type": "code",
   "execution_count": 14,
   "metadata": {},
   "outputs": [],
   "source": [
    "## your code here"
   ]
  },
  {
   "cell_type": "code",
   "execution_count": 15,
   "metadata": {},
   "outputs": [
    {
     "data": {
      "text/plain": [
       "Text(0, 0.5, 'Residuals')"
      ]
     },
     "execution_count": 15,
     "metadata": {},
     "output_type": "execute_result"
    },
    {
     "data": {
      "image/png": "[encoded data removed]",
      "text/plain": [
       "<Figure size 432x288 with 1 Axes>"
      ]
     },
     "metadata": {
      "filenames": {
       "image/png": "/Users/caballero/Repos/teaching/MSU_REU_ML_course/_build/jupyter_execute/notebooks/day-2/Day-2_Polynomial_Regression-SOL_28_1.png"
      },
      "needs_background": "light"
     },
     "output_type": "display_data"
    },
    {
     "data": {
      "image/png": "[encoded data removed]",
      "text/plain": [
       "<Figure size 432x288 with 1 Axes>"
      ]
     },
     "metadata": {
      "filenames": {
       "image/png": "/Users/caballero/Repos/teaching/MSU_REU_ML_course/_build/jupyter_execute/notebooks/day-2/Day-2_Polynomial_Regression-SOL_28_2.png"
      },
      "needs_background": "light"
     },
     "output_type": "display_data"
    }
   ],
   "source": [
    "### ANSWER ###\n",
    "\n",
    "plt.figure()\n",
    "plt.scatter(y_test,y_pred)\n",
    "plt.xlabel('True Values')\n",
    "plt.ylabel('Predicted Values')\n",
    "plt.plot([-50,130],[-50,130], color='k', lw=3)\n",
    "\n",
    "res = y_test-y_pred\n",
    "\n",
    "plt.figure()\n",
    "plt.scatter(X_test['data'], res)\n",
    "plt.xlabel('x')\n",
    "plt.ylabel('Residuals')"
   ]
  },
  {
   "cell_type": "markdown",
   "metadata": {},
   "source": [
    "<font size=8 color=\"#009600\">&#9998;</font> Answer here - Do we appear justified in using this model? Why or why not? "
   ]
  },
  {
   "cell_type": "code",
   "execution_count": null,
   "metadata": {},
   "outputs": [],
   "source": []
  }
 ],
 "metadata": {
  "kernelspec": {
   "display_name": "Python 3",
   "language": "python",
   "name": "python3"
  },
  "language_info": {
   "codemirror_mode": {
    "name": "ipython",
    "version": 3
   },
   "file_extension": ".py",
   "mimetype": "text/x-python",
   "name": "python",
   "nbconvert_exporter": "python",
   "pygments_lexer": "ipython3",
   "version": "3.9.4"
  }
 },
 "nbformat": 4,
 "nbformat_minor": 4
}