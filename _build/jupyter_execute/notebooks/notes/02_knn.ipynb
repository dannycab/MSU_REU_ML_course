{
 "cells": [
  {
   "cell_type": "markdown",
   "metadata": {
    "slideshow": {
     "slide_type": "slide"
    }
   },
   "source": [
    "# The Confusion Matrix\n",
    "\n",
    "<img src=\"https://miro.medium.com/max/2102/1*fxiTNIgOyvAombPJx5KGeA.png\" width=500px/>\n",
    "\n",
    "`from sklearn.metrics import confusion_matrix`<br/>\n",
    "`tn, fp, fn, tp = confusion_matrix(y_true, y_predicted)`\n",
    "\n",
    "**Note the rows and columns of the confusion matrix from `sklearn` do not match those show on most websites.**"
   ]
  },
  {
   "cell_type": "markdown",
   "metadata": {
    "slideshow": {
     "slide_type": "slide"
    }
   },
   "source": [
    "# Other Metrics\n",
    "\n",
    "* Sensitivity (Recall): The ratio of True Positives to all Positive Cases $\\dfrac{TP}{TP+FN}$\n",
    "* Specificity: The ratio of True Negatives to all Negative Cases $\\dfrac{TN}{TN+FP}$\n",
    "* Precision: The ratio of True Positives to all Predicted Positives: $\\dfrac{TP}{TP+FP}$\n",
    "\n",
    "* $F_1$ Score: A balanced measure (0 to 1) that includes sensitity and recall: $\\dfrac{2 TP}{2TP + FP + FN}$"
   ]
  },
  {
   "cell_type": "markdown",
   "metadata": {
    "slideshow": {
     "slide_type": "slide"
    }
   },
   "source": [
    "# ROC Curve and AUC\n",
    "\n",
    "<img src=\"https://glassboxmedicine.files.wordpress.com/2019/02/roc-curve-v2.png?w=576\" />\n",
    "\n",
    "`from sklearn import metrics`<br/>\n",
    "`fpr, tpr, thresholds = metrics.roc_curve(y_true, y_predict)`<br/>\n",
    "`roc_auc = metrics.auc(fpr, tpr)`<br/>\n",
    "`plt.plot(fpr, tpr)`"
   ]
  },
  {
   "cell_type": "markdown",
   "metadata": {
    "slideshow": {
     "slide_type": "slide"
    }
   },
   "source": [
    "# KNN as a Binary Classifier\n",
    "\n",
    "<img src=\"https://miro.medium.com/max/1142/0*OsxZZEhguUfFABsP.png\" />"
   ]
  },
  {
   "cell_type": "markdown",
   "metadata": {
    "slideshow": {
     "slide_type": "slide"
    }
   },
   "source": [
    "# Questions, Comments, Concerns?"
   ]
  },
  {
   "cell_type": "code",
   "execution_count": null,
   "metadata": {
    "slideshow": {
     "slide_type": "skip"
    }
   },
   "outputs": [],
   "source": []
  }
 ],
 "metadata": {
  "celltoolbar": "Slideshow",
  "kernelspec": {
   "display_name": "teaching",
   "language": "python",
   "name": "teaching"
  },
  "language_info": {
   "codemirror_mode": {
    "name": "ipython",
    "version": 3
   },
   "file_extension": ".py",
   "mimetype": "text/x-python",
   "name": "python",
   "nbconvert_exporter": "python",
   "pygments_lexer": "ipython3",
   "version": "3.11.3"
  }
 },
 "nbformat": 4,
 "nbformat_minor": 4
}