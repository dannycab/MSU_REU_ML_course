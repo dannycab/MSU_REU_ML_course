{
 "cells": [
  {
   "cell_type": "markdown",
   "id": "ebd2d50d-fdc0-4731-b552-96af285a610e",
   "metadata": {},
   "source": [
    "# A Multiplicity of Models\n",
    "\n",
    "We haven't really talked too much about specific models or algorithms, that is something you can study on your own, but a warning -- that liteature is extensive, so I'd suggest starting with YouTube videos. \n",
    "\n",
    "In general you might approach a given classification or regression problem with a number of different possible models to determine which is the most useful for your purposes (e.g., most accurate, least biased, etc.). A few potential models (*not exhaustive*) are listed below based on the type of problem they can solve:\n",
    "\n",
    "* **Classification**: Logistic Regression, K Nearest Neighbors, Support Vector Machines, Random Forest, Neural Networks\n",
    "* **Regression**: Linear Regression, Polynomial Regression, Stochastic Gradient Descent, Support Vector Machines, Random Forest, Neural Networks\n",
    "\n",
    "In this notebook, you will work with synthesized data to understand the workflow for using and comparing classifiers. Along the way, we will introduce new models, but only link to videos that explain what they do."
   ]
  },
  {
   "cell_type": "markdown",
   "id": "04e21a1d-250d-4875-bdc8-6c5a0d608dd0",
   "metadata": {},
   "source": [
    "---\n",
    "## 0. Today's Initial Imports"
   ]
  },
  {
   "cell_type": "code",
   "execution_count": 1,
   "id": "e548af72-4d57-42fb-8137-dde544e69bd0",
   "metadata": {},
   "outputs": [],
   "source": [
    "import pandas as pd\n",
    "import numpy as np\n",
    "import matplotlib.pyplot as plt\n",
    "\n",
    "from sklearn.datasets import make_classification, make_circles\n",
    "from sklearn.linear_model import LogisticRegression\n",
    "\n",
    "from sklearn.model_selection import train_test_split, GridSearchCV, cross_val_score, ShuffleSplit\n",
    "from sklearn.metrics import confusion_matrix, classification_report, roc_curve, roc_auc_score, accuracy_score, roc_auc_score\n",
    "\n",
    "%matplotlib inline"
   ]
  },
  {
   "cell_type": "markdown",
   "id": "a0b69423-a428-4458-a90f-39f1b53c0285",
   "metadata": {},
   "source": [
    "---\n",
    "## 1. Example: Validating a Logistic Regression Model\n",
    "\n",
    "We will start with a Logistic Regression Model and synthesized data. \n",
    "\n",
    "[[Logistic Regression Explained]](https://www.youtube.com/watch?v=yIYKR4sgzI8) *(No need to watch in class.)*\n",
    "\n",
    "By reviewing and working with this example, you should be able to identify and explain the different ways in which we are validating the Logisitc Regression model. \n",
    "\n",
    "### 1.1 Making classification data\n",
    "\n",
    "We start by making the data using the `make_classification()` method. I will pick 1000 samples with 20 features; only 4 of them will be informative about the 2 classes. What `make_classification()` returns are the data (the features for the model) and the class labels (the 1 or 0). For simplicity and familiarity, I convert them both to `pandas` data frames as this is typically what you would do with data you read in."
   ]
  },
  {
   "cell_type": "code",
   "execution_count": 2,
   "id": "d412a900-7e92-40d4-8717-a47e69c71de9",
   "metadata": {},
   "outputs": [],
   "source": [
    "## Parameters for making data\n",
    "N_samples = 1000\n",
    "N_features = 20\n",
    "N_informative = 4\n",
    "N_classes = 2\n",
    "\n",
    "## Make up some data for classification\n",
    "X, y = make_classification(n_samples = N_samples,\n",
    "                           n_features = N_features,\n",
    "                           n_informative = N_informative,\n",
    "                           n_classes = N_classes)\n",
    "\n",
    "## Store the data in a data frame\n",
    "feature_list = []\n",
    "\n",
    "for feature in np.arange(N_features):\n",
    "    feature_list.append('feature_'+str(feature))\n",
    "\n",
    "features = pd.DataFrame(X, columns=feature_list)\n",
    "classes = pd.DataFrame(y, columns=['label'])"
   ]
  },
  {
   "cell_type": "markdown",
   "id": "fd6b90c7-64d9-4c59-a64d-e2ac0111f01d",
   "metadata": {},
   "source": [
    "We can check the `.head()` of both data frames to make sure we know what we imported."
   ]
  },
  {
   "cell_type": "code",
   "execution_count": 3,
   "id": "c810f94c-1cc9-4c54-9dbe-39a8624a6c19",
   "metadata": {},
   "outputs": [
    {
     "data": {
      "text/html": [
       "<div>\n",
       "<style scoped>\n",
       "    .dataframe tbody tr th:only-of-type {\n",
       "        vertical-align: middle;\n",
       "    }\n",
       "\n",
       "    .dataframe tbody tr th {\n",
       "        vertical-align: top;\n",
       "    }\n",
       "\n",
       "    .dataframe thead th {\n",
       "        text-align: right;\n",
       "    }\n",
       "</style>\n",
       "<table border=\"1\" class=\"dataframe\">\n",
       "  <thead>\n",
       "    <tr style=\"text-align: right;\">\n",
       "      <th></th>\n",
       "      <th>feature_0</th>\n",
       "      <th>feature_1</th>\n",
       "      <th>feature_2</th>\n",
       "      <th>feature_3</th>\n",
       "      <th>feature_4</th>\n",
       "      <th>feature_5</th>\n",
       "      <th>feature_6</th>\n",
       "      <th>feature_7</th>\n",
       "      <th>feature_8</th>\n",
       "      <th>feature_9</th>\n",
       "      <th>feature_10</th>\n",
       "      <th>feature_11</th>\n",
       "      <th>feature_12</th>\n",
       "      <th>feature_13</th>\n",
       "      <th>feature_14</th>\n",
       "      <th>feature_15</th>\n",
       "      <th>feature_16</th>\n",
       "      <th>feature_17</th>\n",
       "      <th>feature_18</th>\n",
       "      <th>feature_19</th>\n",
       "    </tr>\n",
       "  </thead>\n",
       "  <tbody>\n",
       "    <tr>\n",
       "      <th>0</th>\n",
       "      <td>0.121386</td>\n",
       "      <td>-1.012604</td>\n",
       "      <td>-0.075258</td>\n",
       "      <td>0.199372</td>\n",
       "      <td>-0.190978</td>\n",
       "      <td>-0.971368</td>\n",
       "      <td>-0.495713</td>\n",
       "      <td>1.150175</td>\n",
       "      <td>-1.033823</td>\n",
       "      <td>-0.098382</td>\n",
       "      <td>2.879308</td>\n",
       "      <td>0.381941</td>\n",
       "      <td>-2.229627</td>\n",
       "      <td>0.062326</td>\n",
       "      <td>2.826116</td>\n",
       "      <td>2.624505</td>\n",
       "      <td>0.654998</td>\n",
       "      <td>0.031581</td>\n",
       "      <td>2.600867</td>\n",
       "      <td>1.824353</td>\n",
       "    </tr>\n",
       "    <tr>\n",
       "      <th>1</th>\n",
       "      <td>1.682952</td>\n",
       "      <td>0.585554</td>\n",
       "      <td>-0.273655</td>\n",
       "      <td>-0.176524</td>\n",
       "      <td>0.436161</td>\n",
       "      <td>1.170085</td>\n",
       "      <td>-0.012274</td>\n",
       "      <td>1.293212</td>\n",
       "      <td>0.533805</td>\n",
       "      <td>-0.671569</td>\n",
       "      <td>0.789920</td>\n",
       "      <td>0.982573</td>\n",
       "      <td>0.530304</td>\n",
       "      <td>-0.965939</td>\n",
       "      <td>-1.528730</td>\n",
       "      <td>-1.522823</td>\n",
       "      <td>1.046418</td>\n",
       "      <td>-1.452430</td>\n",
       "      <td>-0.330473</td>\n",
       "      <td>-1.083777</td>\n",
       "    </tr>\n",
       "    <tr>\n",
       "      <th>2</th>\n",
       "      <td>-0.386258</td>\n",
       "      <td>0.612666</td>\n",
       "      <td>-0.755672</td>\n",
       "      <td>0.449207</td>\n",
       "      <td>1.708749</td>\n",
       "      <td>0.810570</td>\n",
       "      <td>-1.375696</td>\n",
       "      <td>-2.040580</td>\n",
       "      <td>-0.708230</td>\n",
       "      <td>1.615772</td>\n",
       "      <td>-0.806893</td>\n",
       "      <td>-0.972255</td>\n",
       "      <td>0.307991</td>\n",
       "      <td>-2.130468</td>\n",
       "      <td>-0.313367</td>\n",
       "      <td>0.004000</td>\n",
       "      <td>-0.442117</td>\n",
       "      <td>1.280991</td>\n",
       "      <td>1.672467</td>\n",
       "      <td>1.375031</td>\n",
       "    </tr>\n",
       "    <tr>\n",
       "      <th>3</th>\n",
       "      <td>-0.296608</td>\n",
       "      <td>1.953867</td>\n",
       "      <td>1.026679</td>\n",
       "      <td>-0.309112</td>\n",
       "      <td>-0.891268</td>\n",
       "      <td>1.010587</td>\n",
       "      <td>-1.096396</td>\n",
       "      <td>2.254593</td>\n",
       "      <td>1.800123</td>\n",
       "      <td>0.256249</td>\n",
       "      <td>0.699026</td>\n",
       "      <td>0.775423</td>\n",
       "      <td>0.226179</td>\n",
       "      <td>0.362929</td>\n",
       "      <td>-0.978508</td>\n",
       "      <td>-0.189596</td>\n",
       "      <td>-0.292470</td>\n",
       "      <td>-0.289389</td>\n",
       "      <td>1.760122</td>\n",
       "      <td>0.229832</td>\n",
       "    </tr>\n",
       "    <tr>\n",
       "      <th>4</th>\n",
       "      <td>-0.299612</td>\n",
       "      <td>-3.499056</td>\n",
       "      <td>-0.687828</td>\n",
       "      <td>0.997938</td>\n",
       "      <td>0.518028</td>\n",
       "      <td>-0.824665</td>\n",
       "      <td>0.325883</td>\n",
       "      <td>-1.761435</td>\n",
       "      <td>-0.977338</td>\n",
       "      <td>0.372439</td>\n",
       "      <td>-0.075346</td>\n",
       "      <td>0.666245</td>\n",
       "      <td>1.862117</td>\n",
       "      <td>0.611742</td>\n",
       "      <td>1.108199</td>\n",
       "      <td>-0.824673</td>\n",
       "      <td>-1.720296</td>\n",
       "      <td>-2.031922</td>\n",
       "      <td>-0.699521</td>\n",
       "      <td>0.754544</td>\n",
       "    </tr>\n",
       "  </tbody>\n",
       "</table>\n",
       "</div>"
      ],
      "text/plain": [
       "   feature_0  feature_1  feature_2  feature_3  feature_4  feature_5  \\\n",
       "0   0.121386  -1.012604  -0.075258   0.199372  -0.190978  -0.971368   \n",
       "1   1.682952   0.585554  -0.273655  -0.176524   0.436161   1.170085   \n",
       "2  -0.386258   0.612666  -0.755672   0.449207   1.708749   0.810570   \n",
       "3  -0.296608   1.953867   1.026679  -0.309112  -0.891268   1.010587   \n",
       "4  -0.299612  -3.499056  -0.687828   0.997938   0.518028  -0.824665   \n",
       "\n",
       "   feature_6  feature_7  feature_8  feature_9  feature_10  feature_11  \\\n",
       "0  -0.495713   1.150175  -1.033823  -0.098382    2.879308    0.381941   \n",
       "1  -0.012274   1.293212   0.533805  -0.671569    0.789920    0.982573   \n",
       "2  -1.375696  -2.040580  -0.708230   1.615772   -0.806893   -0.972255   \n",
       "3  -1.096396   2.254593   1.800123   0.256249    0.699026    0.775423   \n",
       "4   0.325883  -1.761435  -0.977338   0.372439   -0.075346    0.666245   \n",
       "\n",
       "   feature_12  feature_13  feature_14  feature_15  feature_16  feature_17  \\\n",
       "0   -2.229627    0.062326    2.826116    2.624505    0.654998    0.031581   \n",
       "1    0.530304   -0.965939   -1.528730   -1.522823    1.046418   -1.452430   \n",
       "2    0.307991   -2.130468   -0.313367    0.004000   -0.442117    1.280991   \n",
       "3    0.226179    0.362929   -0.978508   -0.189596   -0.292470   -0.289389   \n",
       "4    1.862117    0.611742    1.108199   -0.824673   -1.720296   -2.031922   \n",
       "\n",
       "   feature_18  feature_19  \n",
       "0    2.600867    1.824353  \n",
       "1   -0.330473   -1.083777  \n",
       "2    1.672467    1.375031  \n",
       "3    1.760122    0.229832  \n",
       "4   -0.699521    0.754544  "
      ]
     },
     "execution_count": 3,
     "metadata": {},
     "output_type": "execute_result"
    }
   ],
   "source": [
    "features.head()"
   ]
  },
  {
   "cell_type": "code",
   "execution_count": 4,
   "id": "f1d463a3-a61f-4123-b23d-e57e30104279",
   "metadata": {},
   "outputs": [
    {
     "data": {
      "text/html": [
       "<div>\n",
       "<style scoped>\n",
       "    .dataframe tbody tr th:only-of-type {\n",
       "        vertical-align: middle;\n",
       "    }\n",
       "\n",
       "    .dataframe tbody tr th {\n",
       "        vertical-align: top;\n",
       "    }\n",
       "\n",
       "    .dataframe thead th {\n",
       "        text-align: right;\n",
       "    }\n",
       "</style>\n",
       "<table border=\"1\" class=\"dataframe\">\n",
       "  <thead>\n",
       "    <tr style=\"text-align: right;\">\n",
       "      <th></th>\n",
       "      <th>label</th>\n",
       "    </tr>\n",
       "  </thead>\n",
       "  <tbody>\n",
       "    <tr>\n",
       "      <th>0</th>\n",
       "      <td>1</td>\n",
       "    </tr>\n",
       "    <tr>\n",
       "      <th>1</th>\n",
       "      <td>1</td>\n",
       "    </tr>\n",
       "    <tr>\n",
       "      <th>2</th>\n",
       "      <td>0</td>\n",
       "    </tr>\n",
       "    <tr>\n",
       "      <th>3</th>\n",
       "      <td>1</td>\n",
       "    </tr>\n",
       "    <tr>\n",
       "      <th>4</th>\n",
       "      <td>0</td>\n",
       "    </tr>\n",
       "  </tbody>\n",
       "</table>\n",
       "</div>"
      ],
      "text/plain": [
       "   label\n",
       "0      1\n",
       "1      1\n",
       "2      0\n",
       "3      1\n",
       "4      0"
      ]
     },
     "execution_count": 4,
     "metadata": {},
     "output_type": "execute_result"
    }
   ],
   "source": [
    "classes.head()"
   ]
  },
  {
   "cell_type": "markdown",
   "id": "8a2ff9ae-fec1-460c-ad73-da7f6dadc891",
   "metadata": {},
   "source": [
    "### 1.2 Plotting Feature Spaces\n",
    "\n",
    "We've found that looking at the classes in some feature subspace has been helpful in seeing if there are subspaces where the classes are more separated. We do this so frequently, it is worth having a little piece of code to do that. I've written one below."
   ]
  },
  {
   "cell_type": "code",
   "execution_count": 5,
   "id": "a7c24e95-b12b-4fcf-80f2-aed54f7a04c5",
   "metadata": {},
   "outputs": [],
   "source": [
    "def PlotFeatureSpace(x1,x2,c):\n",
    "    \n",
    "    '''From a Data Series, PlotFeatureSpace creates a \n",
    "    scatter plot of two features and colors the dots \n",
    "    using the classes. The figure labels are the names \n",
    "    of each passed column of the Data Series.'''\n",
    "    \n",
    "    plt.figure()\n",
    "    plt.scatter(x1, x2, c=c)\n",
    "    plt.xlabel(x1.name);\n",
    "    plt.ylabel(x2.name);"
   ]
  },
  {
   "cell_type": "markdown",
   "id": "9b783f28-4d08-40e6-85ea-9b7cc412544b",
   "metadata": {},
   "source": [
    "<font size=+3>&#9998;</font> **Do this:** Using PlotFeatureSpace(), try to find at least two possible features that might be important to the model. That is, can you find two features that seperate the classes well? I've given an example call below."
   ]
  },
  {
   "cell_type": "code",
   "execution_count": 6,
   "id": "40dca758-1159-4d5c-af2b-d66a3429ee92",
   "metadata": {},
   "outputs": [
    {
     "data": {
      "image/png": "[encoded data removed]",
      "text/plain": [
       "<Figure size 432x288 with 1 Axes>"
      ]
     },
     "metadata": {
      "filenames": {
       "image/png": "/Users/caballero/Repos/teaching/MSU_REU_ML_course/_build/jupyter_execute/notebooks/day-4/Day_4-Multiplicity_of_Models_11_0.png"
      },
      "needs_background": "light"
     },
     "output_type": "display_data"
    }
   ],
   "source": [
    "## Parameters for PlotFutureSpace\n",
    "\n",
    "x = \"feature_1\"\n",
    "y = \"feature_2\"\n",
    "c = classes['label']\n",
    "\n",
    "PlotFeatureSpace(features[x], features[y], c)"
   ]
  },
  {
   "cell_type": "markdown",
   "id": "bbdbe02b-cbb5-4623-8f91-97065bc3d1b1",
   "metadata": {},
   "source": [
    "<font size=+3>&#9998;</font> **Do this:** Which two features did you find? Keep note here! \n",
    "\n",
    "*If you rerun the data creation process, the same two features might no longer be useful.*"
   ]
  },
  {
   "cell_type": "markdown",
   "id": "6f8f9bf3-23fc-4b38-ae67-cb6e1d9b9dc6",
   "metadata": {},
   "source": [
    "<font size=+3>&#9998;</font> **Do this:** Erase this and write here."
   ]
  },
  {
   "cell_type": "markdown",
   "id": "a287b387-8456-4fbf-966c-2512aa858a85",
   "metadata": {},
   "source": [
    "### 1.3 A Logistic Regression Model\n",
    "\n",
    "As we did with KNN, we will train and test a classification model. This time it will be a [Logitstic Regression](https://scikit-learn.org/stable/modules/generated/sklearn.linear_model.LogisticRegression.html) model. We will first use the confusion matrix to determine how things are going. I've written to code below to split the data, create the model, fit it, and predict the classes of the test data."
   ]
  },
  {
   "cell_type": "code",
   "execution_count": 7,
   "id": "5ca6eb1a-6569-49bf-9097-ce37270f2350",
   "metadata": {},
   "outputs": [
    {
     "name": "stdout",
     "output_type": "stream",
     "text": [
      "[[110  15]\n",
      " [ 18 107]]\n"
     ]
    }
   ],
   "source": [
    "## Split the data\n",
    "x_train, x_test, y_train, y_test = train_test_split(features, classes)\n",
    "\n",
    "## Create an instance of the model (LR with no regularization)\n",
    "model = LogisticRegression(penalty='none')\n",
    "\n",
    "## Fit the model to the training data\n",
    "model.fit(x_train, y_train['label'])\n",
    "\n",
    "## Use that model to predict test outcomes\n",
    "y_pred = model.predict(x_test)\n",
    "\n",
    "## Compare the real outcomes to the predicted outcomes\n",
    "print(confusion_matrix(y_test, y_pred))"
   ]
  },
  {
   "cell_type": "markdown",
   "id": "54d13402-d32f-46a9-b68b-4cdbf36c88b5",
   "metadata": {},
   "source": [
    "#### 1.3.1 The Metric Zoo\n",
    "\n",
    "There are many different ways to use the confusion matrix to determine different qualities of your classifier. Accuracy, the number of true positives and negatives comapred to all predictions is just one of these metrics. There's a lot of them! [[Wikipedia article on evaluation metrics]](https://en.wikipedia.org/wiki/Confusion_matrix)\n",
    "\n",
    "Two of the more important ones are the accuracy (as we've used before) and the [f1-score](https://en.wikipedia.org/wiki/F-score) (closer to 1 is better). The `sklearn` toolkit has all these built-in, but one tool that is at the ready is `classification_report()`, which gives the accuracy, the f-1 score, as well as the [precision](https://en.wikipedia.org/wiki/Positive_and_negative_predictive_values) and [recall](https://en.wikipedia.org/wiki/Sensitivity_and_specificity) -- two other common metrics for evaluation.\n",
    "\n",
    "Once we have predicted class labels, then we can use `classification_report`. Both the `confusion_matrix` and `classification_report` can be used with any of `sklearn`'s classifiers."
   ]
  },
  {
   "cell_type": "code",
   "execution_count": 8,
   "id": "fc56e363-bb24-4420-8ac5-814ba70413d8",
   "metadata": {},
   "outputs": [
    {
     "name": "stdout",
     "output_type": "stream",
     "text": [
      "              precision    recall  f1-score   support\n",
      "\n",
      "           0       0.86      0.88      0.87       125\n",
      "           1       0.88      0.86      0.87       125\n",
      "\n",
      "    accuracy                           0.87       250\n",
      "   macro avg       0.87      0.87      0.87       250\n",
      "weighted avg       0.87      0.87      0.87       250\n",
      "\n"
     ]
    }
   ],
   "source": [
    "print(classification_report(y_test, y_pred))"
   ]
  },
  {
   "cell_type": "markdown",
   "id": "fba4caff-0322-49fc-9c32-4e1e2c8fd8b5",
   "metadata": {},
   "source": [
    "### 1.4 AUC and the ROC Curve\n",
    "\n",
    "The Receiver Operator Characteristic (ROC) Curve and the associated Area Under the Curve (AUC) are additional tools that help us validate our model. Fortunately, `sklearn` has `roc_curve`, that will return to quantities needed to plot this curve. The AUC can also be determined using the built in `roc_auc_score()` method.\n",
    "\n",
    "Below I wrote a little bit of code to plot the ROC curve and compute the AUC for this model. \n",
    "\n",
    "Again, both of the tools are available for any classifier model."
   ]
  },
  {
   "cell_type": "code",
   "execution_count": 9,
   "id": "5d942768-85f3-4328-a87c-0551c2626da9",
   "metadata": {},
   "outputs": [
    {
     "data": {
      "text/plain": [
       "<matplotlib.legend.Legend at 0x7f7f08052ac0>"
      ]
     },
     "execution_count": 9,
     "metadata": {},
     "output_type": "execute_result"
    },
    {
     "data": {
      "image/png": "[encoded data removed]",
      "text/plain": [
       "<Figure size 432x288 with 1 Axes>"
      ]
     },
     "metadata": {
      "filenames": {
       "image/png": "/Users/caballero/Repos/teaching/MSU_REU_ML_course/_build/jupyter_execute/notebooks/day-4/Day_4-Multiplicity_of_Models_19_1.png"
      },
      "needs_background": "light"
     },
     "output_type": "display_data"
    }
   ],
   "source": [
    "fpr, tpr, thresholds = roc_curve(y_test, y_pred)\n",
    "\n",
    "plt.figure()\n",
    "\n",
    "plt.plot(fpr, tpr, label='ROC curve (AUC = %0.2f)' % roc_auc_score(y_test,y_pred))\n",
    "plt.plot([0, 1], [0, 1], c='k', linestyle='--')\n",
    "\n",
    "plt.axis([0, 1, 0, 1])\n",
    "plt.xlabel('FPR')\n",
    "plt.ylabel('TPR')\n",
    "plt.legend(loc=\"lower right\")"
   ]
  },
  {
   "cell_type": "markdown",
   "id": "ce78f7db-2142-4b97-9e22-d8e4cab27d53",
   "metadata": {},
   "source": [
    "### 1.5 Model Specific Tools - Logistic Regression\n",
    "\n",
    "A LR model uses a transformed linear model to fit the data. It predicts numerical weights for each feature in the data. Those numerical weights can be converted to odds ratio by exponentiating them:\n",
    "\n",
    "$odds_i = \\exp(\\beta_i)$\n",
    "\n",
    "where $\\beta_i$ is the numerical weight for the $i$th feature determined by the model. In `sklearn` speak, these would be \"coefficients\" of the model; `coef_` in code (and yes with the trailing underscore). The nice thing about LR is that these coefficients are typically interpretable. That is if the odds of a feature is close to one then that feature has virtually no effect on the model. On the other hand, if a feature is much larger than one, we find that might contribute a lot to the model.\n",
    "\n",
    "In this case, we'd expect that feature to be useful in separating the two class labels. *That is why you predicted two features earlier!*\n",
    "\n",
    "Below I wrote a little code to find those odds ratios. "
   ]
  },
  {
   "cell_type": "code",
   "execution_count": 10,
   "id": "a6c46ff9-7fdd-4786-ac39-e8fd2ac119f5",
   "metadata": {},
   "outputs": [
    {
     "name": "stdout",
     "output_type": "stream",
     "text": [
      "Model Coefficients: [[ 0.2283998   1.08155402  0.18344802  0.23375742  0.19058005  0.02407551\n",
      "  -0.10716194  0.10982789  0.69257461 -0.09989858  1.00368293  0.15315624\n",
      "   0.03276013  0.18303375  0.6443247  -0.03969424  0.1199457   0.58322484\n",
      "  -0.06234915  0.20295521]]\n",
      "Odds Ratios: [1.25658761 2.9492592  1.20135251 1.263338   1.20995123 1.02436767\n",
      " 0.89838018 1.11608596 1.99885519 0.90492919 2.72831152 1.16550706\n",
      " 1.03330265 1.20085494 1.90470035 0.96108325 1.12743563 1.79180741\n",
      " 0.93955479 1.22501759]\n"
     ]
    }
   ],
   "source": [
    "## Extract model coefficeints\n",
    "print(\"Model Coefficients:\", model.coef_)\n",
    "\n",
    "## Compute odds ratios from model coefficients\n",
    "odds = np.exp(model.coef_.ravel())\n",
    "print(\"Odds Ratios:\", odds)"
   ]
  },
  {
   "cell_type": "markdown",
   "id": "8adccb3e-b97c-4714-9ee8-b7a3d45d1b68",
   "metadata": {},
   "source": [
    "<font size=+3>&#9998;</font> **Do this:** Make a bar plot of the odds ratios. Which ones appear to contribute to the model? Are any of them the two featurs you found earlier? You can use `Plot_Feature_Space()` to confirm."
   ]
  },
  {
   "cell_type": "code",
   "execution_count": 11,
   "id": "687a927c-df8b-40ca-af6e-e1d9334bd673",
   "metadata": {},
   "outputs": [],
   "source": [
    "## your code here"
   ]
  },
  {
   "cell_type": "markdown",
   "id": "e09e6d59-da1b-42e1-87df-0691e46d7e2b",
   "metadata": {},
   "source": [
    "### 1.5 Monte Carlo Validation\n",
    "\n",
    "One of the important things about machine learning is that it often relies on the randomness of the draw of training and testing sets. As a result, any  one time the model is run you are working with a particualr choice of data for training and testing. Thus, there's a problem in reporting the results of a single model because it depends on the curiousities of what was drawn in the first place!\n",
    "\n",
    "One of the ways we validate the model we have used is to determine how representative our one run is compared to a large number of runs. Ideally, we'd like to know what the disitrbution of possible results could be. That allows us to put some error bounds on the estimated model parameters and to explain the confidence we have in our approach and results.\n",
    "\n",
    "There's two main types of validation, although many others exist and there's nuance inside of each:\n",
    "\n",
    "* **Cross-Validation:** The algorithm slices the data in N bins. Then it treats each bin in turn as a test set using the reamining N-1 bins as the training data. *This approach and modifications to it are part of `sklearn`.* [Cross Validation Documentation](https://scikit-learn.org/stable/modules/cross_validation.html)\n",
    "* **Monte Carlo Validation:** This is relatively simple as you simply repslit the data and run the model again and collect the results. **This is the approach we will use in this notebook.**\n",
    "\n",
    "Below, I wrote a short function that splits the data, creates the model, fits it, and returns the evaluation metrics including the model weights. The lines below runs it."
   ]
  },
  {
   "cell_type": "code",
   "execution_count": 12,
   "id": "c09f1800-5b71-49ef-a5d3-1aee11075628",
   "metadata": {},
   "outputs": [],
   "source": [
    "def RunLR(features, classes, penalty='none'):\n",
    "    \n",
    "    '''RunLR runs a logisitic regression model with \n",
    "    default splitting. It returns evalaution metrics including\n",
    "    accuracy, auc, and the model coefficients.'''\n",
    "    \n",
    "    x_train, x_test, y_train, y_test = train_test_split(features, classes)\n",
    "    LR = LogisticRegression(penalty=penalty)\n",
    "    LR.fit(x_train, y_train)\n",
    "    y_pred = LR.predict(x_test)\n",
    "    \n",
    "    return accuracy_score(y_test, y_pred), roc_auc_score(y_test, y_pred), LR.coef_"
   ]
  },
  {
   "cell_type": "code",
   "execution_count": 13,
   "id": "6da7a539-2623-4c24-8512-2f68d345ab25",
   "metadata": {},
   "outputs": [
    {
     "name": "stdout",
     "output_type": "stream",
     "text": [
      "Accuracy:  0.864\n",
      "AUC: 0.8640552995391706\n",
      "Coefs: [[ 2.27612006e-01  1.11726785e+00  1.09931180e-01  1.36138421e-01\n",
      "   3.11269059e-02  1.05934669e-03 -4.49581128e-02  1.10293347e-01\n",
      "   7.07193676e-01 -9.91998883e-02  1.03036989e+00  1.63856726e-01\n",
      "   4.73134529e-03  2.09508781e-01  6.28831645e-01 -7.71049369e-02\n",
      "   1.58684101e-01  5.81494974e-01 -4.64952536e-02  1.48196409e-01]]\n"
     ]
    }
   ],
   "source": [
    "acc, auc, model_coefs = RunLR(features, classes['label'])\n",
    "print(\"Accuracy: \", acc)\n",
    "print(\"AUC:\", auc)\n",
    "print(\"Coefs:\", model_coefs)"
   ]
  },
  {
   "cell_type": "markdown",
   "id": "a5b31876-6e59-4b5f-b289-166b55e7462b",
   "metadata": {},
   "source": [
    "<font size=+3>&#9998;</font> **Do this:** Write a loop that does Monte Carlo Validation with 100 trials using `RunLR()`. Make sure to store the accuracy and auc each time the loop runs - you will want to know how these are distributed. \n",
    "\n",
    "*You can also try to store the model coefficients, but that isn't necessary to understand what we are trying to do. And it might lead to shape mismatch issues that aren't worth debugging right now*"
   ]
  },
  {
   "cell_type": "code",
   "execution_count": 14,
   "id": "0e9087c1-5428-48bb-9705-357c695fbf14",
   "metadata": {},
   "outputs": [],
   "source": [
    "## Your code here"
   ]
  },
  {
   "cell_type": "markdown",
   "id": "e3233949-0f7f-4f35-bd10-f6973759134b",
   "metadata": {},
   "source": [
    "<font size=+3>&#9998;</font> **Do this:** Now that you have the distribution of accuracy scores and auc, let's compute the mean, standard deviation, and plot them as historgrams. Do you notice anything about the shape of the histograms?"
   ]
  },
  {
   "cell_type": "code",
   "execution_count": 15,
   "id": "09288b9e-71aa-46be-8750-b645f801ec01",
   "metadata": {},
   "outputs": [],
   "source": [
    "## your code here"
   ]
  },
  {
   "cell_type": "markdown",
   "id": "59430985-d922-4232-a496-5d606c8eb242",
   "metadata": {},
   "source": [
    "---\n",
    "## 2. Parameter Tuning\n",
    "\n",
    "Great! Now that we have seen how we can explore our confidence in the model we created, we can now determine if indeed we have the best logisitc regression model we could have. There's a number of parameters that the logisitic regression method can take when you create an instance. Each of them control different aspects of how the model fits.\n",
    "\n",
    "For our purposes, we will just explore if it was ok to use no penalization. Penalization is how a logistic regression model might control for variables that don't matter too much. Penalization tends to shrink model coefficients towards zero if they are small, so it's clear what contributes and what doesn't. \n",
    "\n",
    "To do a little paramter testing we will use `GridSearchCV()`. The method basically wraps any class to a classifier (or regressor) and then lets you tell it, please try all these potential versions. For example, we have four choices of penalization `l1`, `l2`, `elasticnet` (which is `l1` and `l2` at the same time), and `none` (which we have used all along). So we can test all four models simulatneously to see which is the best.\n",
    "\n",
    "I wrote a little code that does that. Notice that `parameters` is basically a set where `penalty` is the variable for the model and the list that follows indicates that type of penalty to try. Once you run `.fit()` the models start being built. Notice combinations of parameters that can't work together will throw warnings (this is normal, but you should chck other warnings!)."
   ]
  },
  {
   "cell_type": "code",
   "execution_count": 16,
   "id": "ba7a7475-dc35-45ac-b29f-47a449c932de",
   "metadata": {},
   "outputs": [
    {
     "name": "stderr",
     "output_type": "stream",
     "text": [
      "/Users/caballero/opt/anaconda3/envs/ml-short-course/lib/python3.9/site-packages/sklearn/model_selection/_validation.py:610: FitFailedWarning: Estimator fit failed. The score on this train-test partition for these parameters will be set to nan. Details: \n",
      "Traceback (most recent call last):\n",
      "  File \"/Users/caballero/opt/anaconda3/envs/ml-short-course/lib/python3.9/site-packages/sklearn/model_selection/_validation.py\", line 593, in _fit_and_score\n",
      "    estimator.fit(X_train, y_train, **fit_params)\n",
      "  File \"/Users/caballero/opt/anaconda3/envs/ml-short-course/lib/python3.9/site-packages/sklearn/linear_model/_logistic.py\", line 1306, in fit\n",
      "    solver = _check_solver(self.solver, self.penalty, self.dual)\n",
      "  File \"/Users/caballero/opt/anaconda3/envs/ml-short-course/lib/python3.9/site-packages/sklearn/linear_model/_logistic.py\", line 443, in _check_solver\n",
      "    raise ValueError(\"Solver %s supports only 'l2' or 'none' penalties, \"\n",
      "ValueError: Solver lbfgs supports only 'l2' or 'none' penalties, got l1 penalty.\n",
      "\n",
      "  warnings.warn(\"Estimator fit failed. The score on this train-test\"\n",
      "/Users/caballero/opt/anaconda3/envs/ml-short-course/lib/python3.9/site-packages/sklearn/model_selection/_validation.py:610: FitFailedWarning: Estimator fit failed. The score on this train-test partition for these parameters will be set to nan. Details: \n",
      "Traceback (most recent call last):\n",
      "  File \"/Users/caballero/opt/anaconda3/envs/ml-short-course/lib/python3.9/site-packages/sklearn/model_selection/_validation.py\", line 593, in _fit_and_score\n",
      "    estimator.fit(X_train, y_train, **fit_params)\n",
      "  File \"/Users/caballero/opt/anaconda3/envs/ml-short-course/lib/python3.9/site-packages/sklearn/linear_model/_logistic.py\", line 1306, in fit\n",
      "    solver = _check_solver(self.solver, self.penalty, self.dual)\n",
      "  File \"/Users/caballero/opt/anaconda3/envs/ml-short-course/lib/python3.9/site-packages/sklearn/linear_model/_logistic.py\", line 443, in _check_solver\n",
      "    raise ValueError(\"Solver %s supports only 'l2' or 'none' penalties, \"\n",
      "ValueError: Solver lbfgs supports only 'l2' or 'none' penalties, got l1 penalty.\n",
      "\n",
      "  warnings.warn(\"Estimator fit failed. The score on this train-test\"\n",
      "/Users/caballero/opt/anaconda3/envs/ml-short-course/lib/python3.9/site-packages/sklearn/model_selection/_validation.py:610: FitFailedWarning: Estimator fit failed. The score on this train-test partition for these parameters will be set to nan. Details: \n",
      "Traceback (most recent call last):\n",
      "  File \"/Users/caballero/opt/anaconda3/envs/ml-short-course/lib/python3.9/site-packages/sklearn/model_selection/_validation.py\", line 593, in _fit_and_score\n",
      "    estimator.fit(X_train, y_train, **fit_params)\n",
      "  File \"/Users/caballero/opt/anaconda3/envs/ml-short-course/lib/python3.9/site-packages/sklearn/linear_model/_logistic.py\", line 1306, in fit\n",
      "    solver = _check_solver(self.solver, self.penalty, self.dual)\n",
      "  File \"/Users/caballero/opt/anaconda3/envs/ml-short-course/lib/python3.9/site-packages/sklearn/linear_model/_logistic.py\", line 443, in _check_solver\n",
      "    raise ValueError(\"Solver %s supports only 'l2' or 'none' penalties, \"\n",
      "ValueError: Solver lbfgs supports only 'l2' or 'none' penalties, got l1 penalty.\n",
      "\n",
      "  warnings.warn(\"Estimator fit failed. The score on this train-test\"\n",
      "/Users/caballero/opt/anaconda3/envs/ml-short-course/lib/python3.9/site-packages/sklearn/model_selection/_validation.py:610: FitFailedWarning: Estimator fit failed. The score on this train-test partition for these parameters will be set to nan. Details: \n",
      "Traceback (most recent call last):\n",
      "  File \"/Users/caballero/opt/anaconda3/envs/ml-short-course/lib/python3.9/site-packages/sklearn/model_selection/_validation.py\", line 593, in _fit_and_score\n",
      "    estimator.fit(X_train, y_train, **fit_params)\n",
      "  File \"/Users/caballero/opt/anaconda3/envs/ml-short-course/lib/python3.9/site-packages/sklearn/linear_model/_logistic.py\", line 1306, in fit\n",
      "    solver = _check_solver(self.solver, self.penalty, self.dual)\n",
      "  File \"/Users/caballero/opt/anaconda3/envs/ml-short-course/lib/python3.9/site-packages/sklearn/linear_model/_logistic.py\", line 443, in _check_solver\n",
      "    raise ValueError(\"Solver %s supports only 'l2' or 'none' penalties, \"\n",
      "ValueError: Solver lbfgs supports only 'l2' or 'none' penalties, got l1 penalty.\n",
      "\n",
      "  warnings.warn(\"Estimator fit failed. The score on this train-test\"\n",
      "/Users/caballero/opt/anaconda3/envs/ml-short-course/lib/python3.9/site-packages/sklearn/model_selection/_validation.py:610: FitFailedWarning: Estimator fit failed. The score on this train-test partition for these parameters will be set to nan. Details: \n",
      "Traceback (most recent call last):\n",
      "  File \"/Users/caballero/opt/anaconda3/envs/ml-short-course/lib/python3.9/site-packages/sklearn/model_selection/_validation.py\", line 593, in _fit_and_score\n",
      "    estimator.fit(X_train, y_train, **fit_params)\n",
      "  File \"/Users/caballero/opt/anaconda3/envs/ml-short-course/lib/python3.9/site-packages/sklearn/linear_model/_logistic.py\", line 1306, in fit\n",
      "    solver = _check_solver(self.solver, self.penalty, self.dual)\n",
      "  File \"/Users/caballero/opt/anaconda3/envs/ml-short-course/lib/python3.9/site-packages/sklearn/linear_model/_logistic.py\", line 443, in _check_solver\n",
      "    raise ValueError(\"Solver %s supports only 'l2' or 'none' penalties, \"\n",
      "ValueError: Solver lbfgs supports only 'l2' or 'none' penalties, got l1 penalty.\n",
      "\n",
      "  warnings.warn(\"Estimator fit failed. The score on this train-test\"\n",
      "/Users/caballero/opt/anaconda3/envs/ml-short-course/lib/python3.9/site-packages/sklearn/model_selection/_validation.py:610: FitFailedWarning: Estimator fit failed. The score on this train-test partition for these parameters will be set to nan. Details: \n",
      "Traceback (most recent call last):\n",
      "  File \"/Users/caballero/opt/anaconda3/envs/ml-short-course/lib/python3.9/site-packages/sklearn/model_selection/_validation.py\", line 593, in _fit_and_score\n",
      "    estimator.fit(X_train, y_train, **fit_params)\n",
      "  File \"/Users/caballero/opt/anaconda3/envs/ml-short-course/lib/python3.9/site-packages/sklearn/linear_model/_logistic.py\", line 1306, in fit\n",
      "    solver = _check_solver(self.solver, self.penalty, self.dual)\n",
      "  File \"/Users/caballero/opt/anaconda3/envs/ml-short-course/lib/python3.9/site-packages/sklearn/linear_model/_logistic.py\", line 443, in _check_solver\n",
      "    raise ValueError(\"Solver %s supports only 'l2' or 'none' penalties, \"\n",
      "ValueError: Solver lbfgs supports only 'l2' or 'none' penalties, got elasticnet penalty.\n",
      "\n",
      "  warnings.warn(\"Estimator fit failed. The score on this train-test\"\n",
      "/Users/caballero/opt/anaconda3/envs/ml-short-course/lib/python3.9/site-packages/sklearn/model_selection/_validation.py:610: FitFailedWarning: Estimator fit failed. The score on this train-test partition for these parameters will be set to nan. Details: \n",
      "Traceback (most recent call last):\n",
      "  File \"/Users/caballero/opt/anaconda3/envs/ml-short-course/lib/python3.9/site-packages/sklearn/model_selection/_validation.py\", line 593, in _fit_and_score\n",
      "    estimator.fit(X_train, y_train, **fit_params)\n",
      "  File \"/Users/caballero/opt/anaconda3/envs/ml-short-course/lib/python3.9/site-packages/sklearn/linear_model/_logistic.py\", line 1306, in fit\n",
      "    solver = _check_solver(self.solver, self.penalty, self.dual)\n",
      "  File \"/Users/caballero/opt/anaconda3/envs/ml-short-course/lib/python3.9/site-packages/sklearn/linear_model/_logistic.py\", line 443, in _check_solver\n",
      "    raise ValueError(\"Solver %s supports only 'l2' or 'none' penalties, \"\n",
      "ValueError: Solver lbfgs supports only 'l2' or 'none' penalties, got elasticnet penalty.\n",
      "\n",
      "  warnings.warn(\"Estimator fit failed. The score on this train-test\"\n",
      "/Users/caballero/opt/anaconda3/envs/ml-short-course/lib/python3.9/site-packages/sklearn/model_selection/_validation.py:610: FitFailedWarning: Estimator fit failed. The score on this train-test partition for these parameters will be set to nan. Details: \n",
      "Traceback (most recent call last):\n",
      "  File \"/Users/caballero/opt/anaconda3/envs/ml-short-course/lib/python3.9/site-packages/sklearn/model_selection/_validation.py\", line 593, in _fit_and_score\n",
      "    estimator.fit(X_train, y_train, **fit_params)\n",
      "  File \"/Users/caballero/opt/anaconda3/envs/ml-short-course/lib/python3.9/site-packages/sklearn/linear_model/_logistic.py\", line 1306, in fit\n",
      "    solver = _check_solver(self.solver, self.penalty, self.dual)\n",
      "  File \"/Users/caballero/opt/anaconda3/envs/ml-short-course/lib/python3.9/site-packages/sklearn/linear_model/_logistic.py\", line 443, in _check_solver\n",
      "    raise ValueError(\"Solver %s supports only 'l2' or 'none' penalties, \"\n",
      "ValueError: Solver lbfgs supports only 'l2' or 'none' penalties, got elasticnet penalty.\n",
      "\n",
      "  warnings.warn(\"Estimator fit failed. The score on this train-test\"\n",
      "/Users/caballero/opt/anaconda3/envs/ml-short-course/lib/python3.9/site-packages/sklearn/model_selection/_validation.py:610: FitFailedWarning: Estimator fit failed. The score on this train-test partition for these parameters will be set to nan. Details: \n",
      "Traceback (most recent call last):\n",
      "  File \"/Users/caballero/opt/anaconda3/envs/ml-short-course/lib/python3.9/site-packages/sklearn/model_selection/_validation.py\", line 593, in _fit_and_score\n",
      "    estimator.fit(X_train, y_train, **fit_params)\n",
      "  File \"/Users/caballero/opt/anaconda3/envs/ml-short-course/lib/python3.9/site-packages/sklearn/linear_model/_logistic.py\", line 1306, in fit\n",
      "    solver = _check_solver(self.solver, self.penalty, self.dual)\n",
      "  File \"/Users/caballero/opt/anaconda3/envs/ml-short-course/lib/python3.9/site-packages/sklearn/linear_model/_logistic.py\", line 443, in _check_solver\n",
      "    raise ValueError(\"Solver %s supports only 'l2' or 'none' penalties, \"\n",
      "ValueError: Solver lbfgs supports only 'l2' or 'none' penalties, got elasticnet penalty.\n",
      "\n",
      "  warnings.warn(\"Estimator fit failed. The score on this train-test\"\n",
      "/Users/caballero/opt/anaconda3/envs/ml-short-course/lib/python3.9/site-packages/sklearn/model_selection/_validation.py:610: FitFailedWarning: Estimator fit failed. The score on this train-test partition for these parameters will be set to nan. Details: \n",
      "Traceback (most recent call last):\n",
      "  File \"/Users/caballero/opt/anaconda3/envs/ml-short-course/lib/python3.9/site-packages/sklearn/model_selection/_validation.py\", line 593, in _fit_and_score\n",
      "    estimator.fit(X_train, y_train, **fit_params)\n",
      "  File \"/Users/caballero/opt/anaconda3/envs/ml-short-course/lib/python3.9/site-packages/sklearn/linear_model/_logistic.py\", line 1306, in fit\n",
      "    solver = _check_solver(self.solver, self.penalty, self.dual)\n",
      "  File \"/Users/caballero/opt/anaconda3/envs/ml-short-course/lib/python3.9/site-packages/sklearn/linear_model/_logistic.py\", line 443, in _check_solver\n",
      "    raise ValueError(\"Solver %s supports only 'l2' or 'none' penalties, \"\n",
      "ValueError: Solver lbfgs supports only 'l2' or 'none' penalties, got elasticnet penalty.\n",
      "\n",
      "  warnings.warn(\"Estimator fit failed. The score on this train-test\"\n",
      "/Users/caballero/opt/anaconda3/envs/ml-short-course/lib/python3.9/site-packages/sklearn/model_selection/_search.py:918: UserWarning: One or more of the test scores are non-finite: [  nan 0.857   nan 0.858]\n",
      "  warnings.warn(\n"
     ]
    },
    {
     "data": {
      "text/plain": [
       "GridSearchCV(estimator=LogisticRegression(),\n",
       "             param_grid=[{'penalty': ['l1', 'l2', 'elasticnet', 'none']}])"
      ]
     },
     "execution_count": 16,
     "metadata": {},
     "output_type": "execute_result"
    }
   ],
   "source": [
    "parameters = [\n",
    "    {'penalty': ['l1', 'l2', 'elasticnet', 'none']},\n",
    "]\n",
    "\n",
    "LR_tuned = LogisticRegression()\n",
    "clf = GridSearchCV(LR_tuned, parameters)\n",
    "clf.fit(features, classes['label'])"
   ]
  },
  {
   "cell_type": "markdown",
   "id": "adee0a1f-c475-4573-a50f-ab30a6b4ab68",
   "metadata": {},
   "source": [
    "At the end of all this, we get call back with the parameter grid we created. Notice that if we had another parameter to set, `GridSearchCV` will try to run all parameter combinations. So that each new parameter is multiplicative leading to many models quite fast. So be careful here!\n",
    "\n",
    "For example, consider we had three paramters, one that had two settings, one with three, and one with five. If you call a grid search with these paramters, you will be asking `sklearn` to create an run 2x3x5 models (30 models). If you have another parameter you want to try that has another 4 settings, you are up to 120 models!\n",
    "\n",
    "### 2.1 Results of a Grid Search\n",
    "\n",
    "In any event, after running this, we can find the `best_estimator_` and the `best_score_`. The `best_estimator` is the call you should use for the best model tested. If any settings are the default, they will not appear in the parentheses. The `best_score_` is the accuracy of that model. Of course, you can get more details (like above) if you choose that best model and run it through Monte Carlo validation."
   ]
  },
  {
   "cell_type": "code",
   "execution_count": 17,
   "id": "48b70ed6-0d3a-4e38-a192-971624420da1",
   "metadata": {},
   "outputs": [
    {
     "name": "stdout",
     "output_type": "stream",
     "text": [
      "LogisticRegression(penalty='none')\n",
      "0.858\n"
     ]
    }
   ],
   "source": [
    "print(clf.best_estimator_)\n",
    "print(clf.best_score_)"
   ]
  },
  {
   "cell_type": "markdown",
   "id": "b031fb29-956a-4ca6-b2c8-3dedf39c2cbb",
   "metadata": {},
   "source": [
    "### 2.2 What about other classifiers?\n",
    "\n",
    "There are many other classifers we can try on the same problem to see how well they do. There's many out there and there's lots of nuance to understand about each if you are going to use them. We will use K Nearest Neighbors, Supprt Vector Machines, and a Random Forest Classifier. To learn more about each, I'd suggest these videos:\n",
    "\n",
    "* [KNN](https://www.youtube.com/watch?v=HVXime0nQeI)\n",
    "* [SVM](https://www.youtube.com/watch?v=efR1C6CvhmE)\n",
    "* [Random Forest](https://www.youtube.com/watch?v=J4Wdy0Wc_xQ)\n",
    "\n",
    "Let's import the necessary libraries and test things with KNN. Then you can write code for the Support Vector Machine, and the Random Forest."
   ]
  },
  {
   "cell_type": "code",
   "execution_count": 18,
   "id": "a52a939b-7964-412e-a0a1-88d3ff416efa",
   "metadata": {},
   "outputs": [],
   "source": [
    "from sklearn.neighbors import KNeighborsClassifier\n",
    "from sklearn.svm import SVC, LinearSVC\n",
    "from sklearn.ensemble import RandomForestClassifier"
   ]
  },
  {
   "cell_type": "markdown",
   "id": "0bc5971b-2210-4668-8b21-36cbcf39cfd3",
   "metadata": {},
   "source": [
    "#### 2.2.1 KNN\n",
    "\n",
    "As we did previously we can vary the number of neighbors from the default of 5 (always good to know the defaults of the models you are calling). But this time we will use `GridSearchCV`. I've written the code to do this below. You can adapt it for other models in the next sections as you like."
   ]
  },
  {
   "cell_type": "code",
   "execution_count": 19,
   "id": "3d42f30b-b3e4-47a6-8a88-880770d84be2",
   "metadata": {},
   "outputs": [
    {
     "name": "stdout",
     "output_type": "stream",
     "text": [
      "KNeighborsClassifier(n_neighbors=12)\n",
      "0.9040000000000001\n"
     ]
    }
   ],
   "source": [
    "## Sweep through 2 to 20 neighbors\n",
    "\n",
    "parameters = [\n",
    "    {'n_neighbors': np.arange(2,21)}\n",
    "]\n",
    "\n",
    "## Create the Grid Search and fit it\n",
    "KNN_tuned = KNeighborsClassifier()\n",
    "clf = GridSearchCV(KNN_tuned, parameters)\n",
    "clf.fit(features, classes['label'])\n",
    "\n",
    "## Determine the best estimator\n",
    "BestKNN = clf.best_estimator_\n",
    "print(BestKNN)\n",
    "print(clf.best_score_)"
   ]
  },
  {
   "cell_type": "markdown",
   "id": "c4f41e38-c03b-4dbb-83bc-199f07fd971a",
   "metadata": {},
   "source": [
    "We can now use the best model to do Monte Carlo Validation and plot the distributions."
   ]
  },
  {
   "cell_type": "code",
   "execution_count": 20,
   "id": "e9a8c1c3-919e-4350-a93f-525050d564df",
   "metadata": {},
   "outputs": [
    {
     "data": {
      "text/plain": [
       "(0.892, 0.8935897435897436)"
      ]
     },
     "execution_count": 20,
     "metadata": {},
     "output_type": "execute_result"
    }
   ],
   "source": [
    "def RunKNN(features, classes):\n",
    "    \n",
    "    x_train, x_test, y_train, y_test = train_test_split(features, classes)\n",
    "    KNN = BestKNN\n",
    "    KNN.fit(x_train, y_train)\n",
    "    y_pred = KNN.predict(x_test)\n",
    "    \n",
    "    return accuracy_score(y_test, y_pred), roc_auc_score(y_test, y_pred)\n",
    "\n",
    "RunKNN(features, classes['label'])"
   ]
  },
  {
   "cell_type": "code",
   "execution_count": 21,
   "id": "39d13cb9-0bc2-4358-96b4-9afcb43492c3",
   "metadata": {},
   "outputs": [
    {
     "name": "stdout",
     "output_type": "stream",
     "text": [
      "Mean Accuracy: 0.8987200000000002 +/- 0.01869228717947594\n",
      "Mean AUC: 0.8987453611496851 +/- 0.018246137123583965\n"
     ]
    },
    {
     "data": {
      "text/plain": [
       "Text(0.5, 0, 'AUC')"
      ]
     },
     "execution_count": 21,
     "metadata": {},
     "output_type": "execute_result"
    },
    {
     "data": {
      "image/png": "[encoded data removed]",
      "text/plain": [
       "<Figure size 432x288 with 1 Axes>"
      ]
     },
     "metadata": {
      "filenames": {
       "image/png": "/Users/caballero/Repos/teaching/MSU_REU_ML_course/_build/jupyter_execute/notebooks/day-4/Day_4-Multiplicity_of_Models_41_2.png"
      },
      "needs_background": "light"
     },
     "output_type": "display_data"
    },
    {
     "data": {
      "image/png": "[encoded data removed]",
      "text/plain": [
       "<Figure size 432x288 with 1 Axes>"
      ]
     },
     "metadata": {
      "filenames": {
       "image/png": "/Users/caballero/Repos/teaching/MSU_REU_ML_course/_build/jupyter_execute/notebooks/day-4/Day_4-Multiplicity_of_Models_41_3.png"
      },
      "needs_background": "light"
     },
     "output_type": "display_data"
    }
   ],
   "source": [
    "N = 300\n",
    "acc = 0\n",
    "auc = 0\n",
    "acc_array = np.empty((0,N), float)\n",
    "auc_array = np.empty((0,N), float)\n",
    "\n",
    "for i in range(N):\n",
    "    \n",
    "    acc, auc = RunKNN(features, classes['label'])\n",
    "    acc_array = np.append(acc_array,acc)\n",
    "    auc_array = np.append(auc_array,auc)\n",
    "    \n",
    "    \n",
    "mean_acc = np.mean(acc_array)\n",
    "std_acc = np.std(acc_array)\n",
    "\n",
    "mean_auc = np.mean(auc_array)\n",
    "std_auc = np.std(auc_array)\n",
    "    \n",
    "plt.figure()\n",
    "plt.hist(acc_array)\n",
    "print(\"Mean Accuracy:\", mean_acc, \"+/-\", std_acc)\n",
    "plt.ylabel('Counts')\n",
    "plt.xlabel('ACC')\n",
    "\n",
    "plt.figure()\n",
    "plt.hist(auc_array)\n",
    "print(\"Mean AUC:\", mean_auc, \"+/-\", std_auc)\n",
    "plt.ylabel('Counts')\n",
    "plt.xlabel('AUC')"
   ]
  },
  {
   "cell_type": "markdown",
   "id": "e5e0745f-567b-40a7-b785-bd8cc8c878df",
   "metadata": {},
   "source": [
    "#### 2.2.2 LinearSVC\n",
    "\n",
    "<font size=+3>&#9998;</font> **Do this:** For the `LinearSVC()` model, repeat the work above to determine the distribution of accuracies and aucs for the model. Use `GridSearchCV()` to vary the `C` parameter and find the best model. [Linear SVC Documentation](https://scikit-learn.org/stable/modules/generated/sklearn.svm.LinearSVC.html)"
   ]
  },
  {
   "cell_type": "code",
   "execution_count": 22,
   "id": "bf98695b-d4b2-4b5c-b0f6-784311b8ebfb",
   "metadata": {},
   "outputs": [],
   "source": [
    "### your code here"
   ]
  },
  {
   "cell_type": "markdown",
   "id": "954c0c32-4daa-4ee6-9e20-54d721fcb591",
   "metadata": {},
   "source": [
    "#### 2.2.3 Random Forest\n",
    "\n",
    "<font size=+3>&#9998;</font> **Do this:** For the `RandomForestClassifier()` model, repeat the work above to determine the distribution of accuracies and aucs for the model. Use `GridSearchCV()` to vary the `n_estimators` parameter and find the best model. [Random Forest Documentation](https://scikit-learn.org/stable/modules/generated/sklearn.ensemble.RandomForestClassifier.html)"
   ]
  },
  {
   "cell_type": "code",
   "execution_count": 23,
   "id": "cb003598-bbcf-413c-851f-b24d1c3089c8",
   "metadata": {},
   "outputs": [],
   "source": [
    "## your code here"
   ]
  },
  {
   "cell_type": "markdown",
   "id": "7c0252f9-13a1-47c6-a663-81d037bea246",
   "metadata": {},
   "source": [
    "---\n",
    "## 3. What about other kinds of data?\n",
    "\n",
    "Many times it is important to know the strucutre of your data, hence plotting feature spaces. Sometimes the models you are using might be incompatible with the structure of your data. Some models try to draw lines to separate, some draw curves, some are more emergent. Let's test this out with a ciruclar data set where we can clearly see the separation. Below, we create some data and store the values in data frames."
   ]
  },
  {
   "cell_type": "code",
   "execution_count": 24,
   "id": "823cfd43-94f6-4f94-801a-c468cab4909d",
   "metadata": {},
   "outputs": [],
   "source": [
    "X, y = make_circles(n_samples = 500)\n",
    "\n",
    "loc = pd.DataFrame(X, columns=['x1','x2'])\n",
    "label = pd.DataFrame(y, columns=['y'])"
   ]
  },
  {
   "cell_type": "code",
   "execution_count": 25,
   "id": "768f5a1e-b05b-49b4-868c-b901830ea8ed",
   "metadata": {},
   "outputs": [
    {
     "data": {
      "text/html": [
       "<div>\n",
       "<style scoped>\n",
       "    .dataframe tbody tr th:only-of-type {\n",
       "        vertical-align: middle;\n",
       "    }\n",
       "\n",
       "    .dataframe tbody tr th {\n",
       "        vertical-align: top;\n",
       "    }\n",
       "\n",
       "    .dataframe thead th {\n",
       "        text-align: right;\n",
       "    }\n",
       "</style>\n",
       "<table border=\"1\" class=\"dataframe\">\n",
       "  <thead>\n",
       "    <tr style=\"text-align: right;\">\n",
       "      <th></th>\n",
       "      <th>x1</th>\n",
       "      <th>x2</th>\n",
       "    </tr>\n",
       "  </thead>\n",
       "  <tbody>\n",
       "    <tr>\n",
       "      <th>0</th>\n",
       "      <td>0.899405</td>\n",
       "      <td>-0.437116</td>\n",
       "    </tr>\n",
       "    <tr>\n",
       "      <th>1</th>\n",
       "      <td>-0.189199</td>\n",
       "      <td>0.777305</td>\n",
       "    </tr>\n",
       "    <tr>\n",
       "      <th>2</th>\n",
       "      <td>-0.050232</td>\n",
       "      <td>0.798421</td>\n",
       "    </tr>\n",
       "    <tr>\n",
       "      <th>3</th>\n",
       "      <td>-0.929776</td>\n",
       "      <td>0.368125</td>\n",
       "    </tr>\n",
       "    <tr>\n",
       "      <th>4</th>\n",
       "      <td>-0.583175</td>\n",
       "      <td>-0.547638</td>\n",
       "    </tr>\n",
       "  </tbody>\n",
       "</table>\n",
       "</div>"
      ],
      "text/plain": [
       "         x1        x2\n",
       "0  0.899405 -0.437116\n",
       "1 -0.189199  0.777305\n",
       "2 -0.050232  0.798421\n",
       "3 -0.929776  0.368125\n",
       "4 -0.583175 -0.547638"
      ]
     },
     "execution_count": 25,
     "metadata": {},
     "output_type": "execute_result"
    }
   ],
   "source": [
    "loc.head()"
   ]
  },
  {
   "cell_type": "code",
   "execution_count": 26,
   "id": "2c3cbeda-0e25-44f2-a40b-7859803ecde0",
   "metadata": {},
   "outputs": [
    {
     "data": {
      "text/html": [
       "<div>\n",
       "<style scoped>\n",
       "    .dataframe tbody tr th:only-of-type {\n",
       "        vertical-align: middle;\n",
       "    }\n",
       "\n",
       "    .dataframe tbody tr th {\n",
       "        vertical-align: top;\n",
       "    }\n",
       "\n",
       "    .dataframe thead th {\n",
       "        text-align: right;\n",
       "    }\n",
       "</style>\n",
       "<table border=\"1\" class=\"dataframe\">\n",
       "  <thead>\n",
       "    <tr style=\"text-align: right;\">\n",
       "      <th></th>\n",
       "      <th>y</th>\n",
       "    </tr>\n",
       "  </thead>\n",
       "  <tbody>\n",
       "    <tr>\n",
       "      <th>0</th>\n",
       "      <td>0</td>\n",
       "    </tr>\n",
       "    <tr>\n",
       "      <th>1</th>\n",
       "      <td>1</td>\n",
       "    </tr>\n",
       "    <tr>\n",
       "      <th>2</th>\n",
       "      <td>1</td>\n",
       "    </tr>\n",
       "    <tr>\n",
       "      <th>3</th>\n",
       "      <td>0</td>\n",
       "    </tr>\n",
       "    <tr>\n",
       "      <th>4</th>\n",
       "      <td>1</td>\n",
       "    </tr>\n",
       "  </tbody>\n",
       "</table>\n",
       "</div>"
      ],
      "text/plain": [
       "   y\n",
       "0  0\n",
       "1  1\n",
       "2  1\n",
       "3  0\n",
       "4  1"
      ]
     },
     "execution_count": 26,
     "metadata": {},
     "output_type": "execute_result"
    }
   ],
   "source": [
    "label.head()"
   ]
  },
  {
   "cell_type": "markdown",
   "id": "4517f7c3-8cbf-4ae3-8b29-5223a7df20d4",
   "metadata": {},
   "source": [
    "### 3.1 Plot it! \n",
    "\n",
    "Let's plot this data to see why we might not expect the same results as we had found for the previous case."
   ]
  },
  {
   "cell_type": "code",
   "execution_count": 27,
   "id": "4d10369d-816d-4c17-baf1-4853bd8d7db5",
   "metadata": {},
   "outputs": [
    {
     "data": {
      "text/plain": [
       "Text(0, 0.5, 'x2')"
      ]
     },
     "execution_count": 27,
     "metadata": {},
     "output_type": "execute_result"
    },
    {
     "data": {
      "image/png": "[encoded data removed]",
      "text/plain": [
       "<Figure size 360x360 with 1 Axes>"
      ]
     },
     "metadata": {
      "filenames": {
       "image/png": "/Users/caballero/Repos/teaching/MSU_REU_ML_course/_build/jupyter_execute/notebooks/day-4/Day_4-Multiplicity_of_Models_51_1.png"
      },
      "needs_background": "light"
     },
     "output_type": "display_data"
    }
   ],
   "source": [
    "plt.figure(figsize=(5,5))\n",
    "plt.scatter(loc['x1'], loc['x2'], c=label['y'])\n",
    "plt.xlabel('x1')\n",
    "plt.ylabel('x2')"
   ]
  },
  {
   "cell_type": "markdown",
   "id": "c4ff4e04-ea59-41eb-aad5-c61152b2f7e2",
   "metadata": {},
   "source": [
    "It is really easy to see in the figure above that we have two clearly separated classes. Let's fire up the Logisitic Regression model and see what it can find."
   ]
  },
  {
   "cell_type": "code",
   "execution_count": 28,
   "id": "ff0d15a1-4e28-413d-952f-b08714927ccd",
   "metadata": {},
   "outputs": [
    {
     "name": "stdout",
     "output_type": "stream",
     "text": [
      "LogisticRegression()\n",
      "0.45199999999999996\n"
     ]
    },
    {
     "name": "stderr",
     "output_type": "stream",
     "text": [
      "/Users/caballero/opt/anaconda3/envs/ml-short-course/lib/python3.9/site-packages/sklearn/model_selection/_validation.py:610: FitFailedWarning: Estimator fit failed. The score on this train-test partition for these parameters will be set to nan. Details: \n",
      "Traceback (most recent call last):\n",
      "  File \"/Users/caballero/opt/anaconda3/envs/ml-short-course/lib/python3.9/site-packages/sklearn/model_selection/_validation.py\", line 593, in _fit_and_score\n",
      "    estimator.fit(X_train, y_train, **fit_params)\n",
      "  File \"/Users/caballero/opt/anaconda3/envs/ml-short-course/lib/python3.9/site-packages/sklearn/linear_model/_logistic.py\", line 1306, in fit\n",
      "    solver = _check_solver(self.solver, self.penalty, self.dual)\n",
      "  File \"/Users/caballero/opt/anaconda3/envs/ml-short-course/lib/python3.9/site-packages/sklearn/linear_model/_logistic.py\", line 443, in _check_solver\n",
      "    raise ValueError(\"Solver %s supports only 'l2' or 'none' penalties, \"\n",
      "ValueError: Solver lbfgs supports only 'l2' or 'none' penalties, got l1 penalty.\n",
      "\n",
      "  warnings.warn(\"Estimator fit failed. The score on this train-test\"\n",
      "/Users/caballero/opt/anaconda3/envs/ml-short-course/lib/python3.9/site-packages/sklearn/model_selection/_validation.py:610: FitFailedWarning: Estimator fit failed. The score on this train-test partition for these parameters will be set to nan. Details: \n",
      "Traceback (most recent call last):\n",
      "  File \"/Users/caballero/opt/anaconda3/envs/ml-short-course/lib/python3.9/site-packages/sklearn/model_selection/_validation.py\", line 593, in _fit_and_score\n",
      "    estimator.fit(X_train, y_train, **fit_params)\n",
      "  File \"/Users/caballero/opt/anaconda3/envs/ml-short-course/lib/python3.9/site-packages/sklearn/linear_model/_logistic.py\", line 1306, in fit\n",
      "    solver = _check_solver(self.solver, self.penalty, self.dual)\n",
      "  File \"/Users/caballero/opt/anaconda3/envs/ml-short-course/lib/python3.9/site-packages/sklearn/linear_model/_logistic.py\", line 443, in _check_solver\n",
      "    raise ValueError(\"Solver %s supports only 'l2' or 'none' penalties, \"\n",
      "ValueError: Solver lbfgs supports only 'l2' or 'none' penalties, got l1 penalty.\n",
      "\n",
      "  warnings.warn(\"Estimator fit failed. The score on this train-test\"\n",
      "/Users/caballero/opt/anaconda3/envs/ml-short-course/lib/python3.9/site-packages/sklearn/model_selection/_validation.py:610: FitFailedWarning: Estimator fit failed. The score on this train-test partition for these parameters will be set to nan. Details: \n",
      "Traceback (most recent call last):\n",
      "  File \"/Users/caballero/opt/anaconda3/envs/ml-short-course/lib/python3.9/site-packages/sklearn/model_selection/_validation.py\", line 593, in _fit_and_score\n",
      "    estimator.fit(X_train, y_train, **fit_params)\n",
      "  File \"/Users/caballero/opt/anaconda3/envs/ml-short-course/lib/python3.9/site-packages/sklearn/linear_model/_logistic.py\", line 1306, in fit\n",
      "    solver = _check_solver(self.solver, self.penalty, self.dual)\n",
      "  File \"/Users/caballero/opt/anaconda3/envs/ml-short-course/lib/python3.9/site-packages/sklearn/linear_model/_logistic.py\", line 443, in _check_solver\n",
      "    raise ValueError(\"Solver %s supports only 'l2' or 'none' penalties, \"\n",
      "ValueError: Solver lbfgs supports only 'l2' or 'none' penalties, got l1 penalty.\n",
      "\n",
      "  warnings.warn(\"Estimator fit failed. The score on this train-test\"\n",
      "/Users/caballero/opt/anaconda3/envs/ml-short-course/lib/python3.9/site-packages/sklearn/model_selection/_validation.py:610: FitFailedWarning: Estimator fit failed. The score on this train-test partition for these parameters will be set to nan. Details: \n",
      "Traceback (most recent call last):\n",
      "  File \"/Users/caballero/opt/anaconda3/envs/ml-short-course/lib/python3.9/site-packages/sklearn/model_selection/_validation.py\", line 593, in _fit_and_score\n",
      "    estimator.fit(X_train, y_train, **fit_params)\n",
      "  File \"/Users/caballero/opt/anaconda3/envs/ml-short-course/lib/python3.9/site-packages/sklearn/linear_model/_logistic.py\", line 1306, in fit\n",
      "    solver = _check_solver(self.solver, self.penalty, self.dual)\n",
      "  File \"/Users/caballero/opt/anaconda3/envs/ml-short-course/lib/python3.9/site-packages/sklearn/linear_model/_logistic.py\", line 443, in _check_solver\n",
      "    raise ValueError(\"Solver %s supports only 'l2' or 'none' penalties, \"\n",
      "ValueError: Solver lbfgs supports only 'l2' or 'none' penalties, got l1 penalty.\n",
      "\n",
      "  warnings.warn(\"Estimator fit failed. The score on this train-test\"\n",
      "/Users/caballero/opt/anaconda3/envs/ml-short-course/lib/python3.9/site-packages/sklearn/model_selection/_validation.py:610: FitFailedWarning: Estimator fit failed. The score on this train-test partition for these parameters will be set to nan. Details: \n",
      "Traceback (most recent call last):\n",
      "  File \"/Users/caballero/opt/anaconda3/envs/ml-short-course/lib/python3.9/site-packages/sklearn/model_selection/_validation.py\", line 593, in _fit_and_score\n",
      "    estimator.fit(X_train, y_train, **fit_params)\n",
      "  File \"/Users/caballero/opt/anaconda3/envs/ml-short-course/lib/python3.9/site-packages/sklearn/linear_model/_logistic.py\", line 1306, in fit\n",
      "    solver = _check_solver(self.solver, self.penalty, self.dual)\n",
      "  File \"/Users/caballero/opt/anaconda3/envs/ml-short-course/lib/python3.9/site-packages/sklearn/linear_model/_logistic.py\", line 443, in _check_solver\n",
      "    raise ValueError(\"Solver %s supports only 'l2' or 'none' penalties, \"\n",
      "ValueError: Solver lbfgs supports only 'l2' or 'none' penalties, got l1 penalty.\n",
      "\n",
      "  warnings.warn(\"Estimator fit failed. The score on this train-test\"\n",
      "/Users/caballero/opt/anaconda3/envs/ml-short-course/lib/python3.9/site-packages/sklearn/model_selection/_validation.py:610: FitFailedWarning: Estimator fit failed. The score on this train-test partition for these parameters will be set to nan. Details: \n",
      "Traceback (most recent call last):\n",
      "  File \"/Users/caballero/opt/anaconda3/envs/ml-short-course/lib/python3.9/site-packages/sklearn/model_selection/_validation.py\", line 593, in _fit_and_score\n",
      "    estimator.fit(X_train, y_train, **fit_params)\n",
      "  File \"/Users/caballero/opt/anaconda3/envs/ml-short-course/lib/python3.9/site-packages/sklearn/linear_model/_logistic.py\", line 1306, in fit\n",
      "    solver = _check_solver(self.solver, self.penalty, self.dual)\n",
      "  File \"/Users/caballero/opt/anaconda3/envs/ml-short-course/lib/python3.9/site-packages/sklearn/linear_model/_logistic.py\", line 443, in _check_solver\n",
      "    raise ValueError(\"Solver %s supports only 'l2' or 'none' penalties, \"\n",
      "ValueError: Solver lbfgs supports only 'l2' or 'none' penalties, got elasticnet penalty.\n",
      "\n",
      "  warnings.warn(\"Estimator fit failed. The score on this train-test\"\n",
      "/Users/caballero/opt/anaconda3/envs/ml-short-course/lib/python3.9/site-packages/sklearn/model_selection/_validation.py:610: FitFailedWarning: Estimator fit failed. The score on this train-test partition for these parameters will be set to nan. Details: \n",
      "Traceback (most recent call last):\n",
      "  File \"/Users/caballero/opt/anaconda3/envs/ml-short-course/lib/python3.9/site-packages/sklearn/model_selection/_validation.py\", line 593, in _fit_and_score\n",
      "    estimator.fit(X_train, y_train, **fit_params)\n",
      "  File \"/Users/caballero/opt/anaconda3/envs/ml-short-course/lib/python3.9/site-packages/sklearn/linear_model/_logistic.py\", line 1306, in fit\n",
      "    solver = _check_solver(self.solver, self.penalty, self.dual)\n",
      "  File \"/Users/caballero/opt/anaconda3/envs/ml-short-course/lib/python3.9/site-packages/sklearn/linear_model/_logistic.py\", line 443, in _check_solver\n",
      "    raise ValueError(\"Solver %s supports only 'l2' or 'none' penalties, \"\n",
      "ValueError: Solver lbfgs supports only 'l2' or 'none' penalties, got elasticnet penalty.\n",
      "\n",
      "  warnings.warn(\"Estimator fit failed. The score on this train-test\"\n",
      "/Users/caballero/opt/anaconda3/envs/ml-short-course/lib/python3.9/site-packages/sklearn/model_selection/_validation.py:610: FitFailedWarning: Estimator fit failed. The score on this train-test partition for these parameters will be set to nan. Details: \n",
      "Traceback (most recent call last):\n",
      "  File \"/Users/caballero/opt/anaconda3/envs/ml-short-course/lib/python3.9/site-packages/sklearn/model_selection/_validation.py\", line 593, in _fit_and_score\n",
      "    estimator.fit(X_train, y_train, **fit_params)\n",
      "  File \"/Users/caballero/opt/anaconda3/envs/ml-short-course/lib/python3.9/site-packages/sklearn/linear_model/_logistic.py\", line 1306, in fit\n",
      "    solver = _check_solver(self.solver, self.penalty, self.dual)\n",
      "  File \"/Users/caballero/opt/anaconda3/envs/ml-short-course/lib/python3.9/site-packages/sklearn/linear_model/_logistic.py\", line 443, in _check_solver\n",
      "    raise ValueError(\"Solver %s supports only 'l2' or 'none' penalties, \"\n",
      "ValueError: Solver lbfgs supports only 'l2' or 'none' penalties, got elasticnet penalty.\n",
      "\n",
      "  warnings.warn(\"Estimator fit failed. The score on this train-test\"\n",
      "/Users/caballero/opt/anaconda3/envs/ml-short-course/lib/python3.9/site-packages/sklearn/model_selection/_validation.py:610: FitFailedWarning: Estimator fit failed. The score on this train-test partition for these parameters will be set to nan. Details: \n",
      "Traceback (most recent call last):\n",
      "  File \"/Users/caballero/opt/anaconda3/envs/ml-short-course/lib/python3.9/site-packages/sklearn/model_selection/_validation.py\", line 593, in _fit_and_score\n",
      "    estimator.fit(X_train, y_train, **fit_params)\n",
      "  File \"/Users/caballero/opt/anaconda3/envs/ml-short-course/lib/python3.9/site-packages/sklearn/linear_model/_logistic.py\", line 1306, in fit\n",
      "    solver = _check_solver(self.solver, self.penalty, self.dual)\n",
      "  File \"/Users/caballero/opt/anaconda3/envs/ml-short-course/lib/python3.9/site-packages/sklearn/linear_model/_logistic.py\", line 443, in _check_solver\n",
      "    raise ValueError(\"Solver %s supports only 'l2' or 'none' penalties, \"\n",
      "ValueError: Solver lbfgs supports only 'l2' or 'none' penalties, got elasticnet penalty.\n",
      "\n",
      "  warnings.warn(\"Estimator fit failed. The score on this train-test\"\n",
      "/Users/caballero/opt/anaconda3/envs/ml-short-course/lib/python3.9/site-packages/sklearn/model_selection/_validation.py:610: FitFailedWarning: Estimator fit failed. The score on this train-test partition for these parameters will be set to nan. Details: \n",
      "Traceback (most recent call last):\n",
      "  File \"/Users/caballero/opt/anaconda3/envs/ml-short-course/lib/python3.9/site-packages/sklearn/model_selection/_validation.py\", line 593, in _fit_and_score\n",
      "    estimator.fit(X_train, y_train, **fit_params)\n",
      "  File \"/Users/caballero/opt/anaconda3/envs/ml-short-course/lib/python3.9/site-packages/sklearn/linear_model/_logistic.py\", line 1306, in fit\n",
      "    solver = _check_solver(self.solver, self.penalty, self.dual)\n",
      "  File \"/Users/caballero/opt/anaconda3/envs/ml-short-course/lib/python3.9/site-packages/sklearn/linear_model/_logistic.py\", line 443, in _check_solver\n",
      "    raise ValueError(\"Solver %s supports only 'l2' or 'none' penalties, \"\n",
      "ValueError: Solver lbfgs supports only 'l2' or 'none' penalties, got elasticnet penalty.\n",
      "\n",
      "  warnings.warn(\"Estimator fit failed. The score on this train-test\"\n",
      "/Users/caballero/opt/anaconda3/envs/ml-short-course/lib/python3.9/site-packages/sklearn/model_selection/_search.py:918: UserWarning: One or more of the test scores are non-finite: [  nan 0.452   nan 0.452]\n",
      "  warnings.warn(\n"
     ]
    }
   ],
   "source": [
    "parameters = [\n",
    "    {'penalty': ['l1', 'l2', 'elasticnet', 'none']},\n",
    "]\n",
    "\n",
    "LR_tuned = LogisticRegression()\n",
    "clf = GridSearchCV(LR_tuned, parameters)\n",
    "clf.fit(loc, label['y'])\n",
    "\n",
    "LRBest = clf.best_estimator_\n",
    "print(LRBest)\n",
    "print(clf.best_score_)"
   ]
  },
  {
   "cell_type": "markdown",
   "id": "0e0b9648-e433-4f75-8cba-665b8f895c7e",
   "metadata": {},
   "source": [
    "### 3.2 Time to try other models\n",
    "\n",
    "It appears the the logistic regression does pretty poorly. That is because logistic regression is not good with nonlinear problems. It is a linear model, so it's hard for it to deal with things like circles!\n",
    "\n",
    "<font size=+3>&#9998;</font> **Do this:** Test the SVC, KNN, and RF models on these data. Use `GridSearchCV()` to find the best model for each. How do the accuracies compare? Which might you use to work more on this problem? *No need to plot disitrbutions for this, you can do that later if you like.*"
   ]
  },
  {
   "cell_type": "code",
   "execution_count": 29,
   "id": "7963f0fd-0bc6-4959-8302-a5e35438b5ee",
   "metadata": {},
   "outputs": [],
   "source": [
    "### your code here"
   ]
  },
  {
   "cell_type": "markdown",
   "id": "59a71025-e529-4256-99bd-b66af153c18e",
   "metadata": {},
   "source": [
    "### 3.3 Let's make the data a bit messier.\n",
    "\n",
    "You probably found that one model worked perfectly. We can add a little noice to make things more interesting."
   ]
  },
  {
   "cell_type": "code",
   "execution_count": 30,
   "id": "9b47fb73-5483-41a9-9525-a83ba89a066a",
   "metadata": {},
   "outputs": [
    {
     "data": {
      "text/plain": [
       "<matplotlib.collections.PathCollection at 0x7f7f08146ee0>"
      ]
     },
     "execution_count": 30,
     "metadata": {},
     "output_type": "execute_result"
    },
    {
     "data": {
      "image/png": "[encoded data removed]",
      "text/plain": [
       "<Figure size 432x288 with 1 Axes>"
      ]
     },
     "metadata": {
      "filenames": {
       "image/png": "/Users/caballero/Repos/teaching/MSU_REU_ML_course/_build/jupyter_execute/notebooks/day-4/Day_4-Multiplicity_of_Models_57_1.png"
      },
      "needs_background": "light"
     },
     "output_type": "display_data"
    }
   ],
   "source": [
    "X, y = make_circles(n_samples = 500, noise = 0.05)\n",
    "\n",
    "loc = pd.DataFrame(X, columns=['x1','x2'])\n",
    "label = pd.DataFrame(y, columns=['y'])\n",
    "\n",
    "plt.scatter(loc['x1'], loc['x2'], c=label['y'])"
   ]
  },
  {
   "cell_type": "markdown",
   "id": "e9f398fa-4eb9-4d4a-8935-5a7dff189cb0",
   "metadata": {},
   "source": [
    "### 3.4 Try to find the best model for this data\n",
    "\n",
    "<font size=+3>&#9998;</font> **Do this:** Test the LR, SVC, KNN, and RF models on these data. Use `GridSearchCV()` to find the best model for each. How do the accuracies compare? Which might you use to work more on this problem? *No need to plot disitrbutions for this, you can do that later if you like.*"
   ]
  },
  {
   "cell_type": "code",
   "execution_count": 31,
   "id": "0bc1b7a1-1e7c-4dc0-807e-df9c49144f1a",
   "metadata": {},
   "outputs": [],
   "source": [
    "## your code here"
   ]
  }
 ],
 "metadata": {
  "kernelspec": {
   "display_name": "ml-short-course",
   "language": "python",
   "name": "ml-short-course"
  },
  "language_info": {
   "codemirror_mode": {
    "name": "ipython",
    "version": 3
   },
   "file_extension": ".py",
   "mimetype": "text/x-python",
   "name": "python",
   "nbconvert_exporter": "python",
   "pygments_lexer": "ipython3",
   "version": "3.9.4"
  }
 },
 "nbformat": 4,
 "nbformat_minor": 5
}