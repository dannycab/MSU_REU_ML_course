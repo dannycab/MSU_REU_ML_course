{
  "cells": [
    {
      "attachments": {},
      "cell_type": "markdown",
      "metadata": {},
      "source": [
        "# Python Basics Review"
      ]
    },
    {
      "attachments": {},
      "cell_type": "markdown",
      "metadata": {},
      "source": [
        "## 1. Varables\n",
        "\n",
        "In python, we use **variables** to contain data. Here are the most common types:\n",
        "\n",
        "- Integers: These are exactly what they sound like, they are values that look like $... ,-3,-2,-1,0,1,2,3,...$. \n",
        "- Floating Point Numbers: Floats take on Real number values.\n",
        "- Strings: Strings store text instead of numerical values and are declared within `\"\"` or  `''`.\n",
        "- Booleans: Bools are either `True` or `False`. "
      ]
    },
    {
      "cell_type": "code",
      "execution_count": 199,
      "metadata": {},
      "outputs": [
        {
          "name": "msu-ml-course",
          "output_type": "stream",
          "text": [
            "5 1.618 Welcome to MSU! True (5+2.4j)\n"
          ]
        }
      ],
      "source": [
        "a_int = 5\n",
        "a_float = 1.618\n",
        "a_str = \"Welcome to MSU!\"\n",
        "a_bool = True          # this is a comment, anything after a # is ignored when the code is run\n",
        "a_complex = 5.0 + 2.4j # complex numbers are in python too, and use j instead of i\n",
        "\n",
        "# print() lets you output variables, sepearated by commas\n",
        "print(a_int,a_float,a_str,a_bool,a_complex) "
      ]
    },
    {
      "attachments": {},
      "cell_type": "markdown",
      "metadata": {},
      "source": [
        "Note that when you run a cell, the lines are ran from top to bottom."
      ]
    },
    {
      "attachments": {},
      "cell_type": "markdown",
      "metadata": {},
      "source": [
        "`type()` can be used to find the type of a given variable. Python is a \"duck typing\" language so it automatically picks the type of any given variable when you declare one with `=`."
      ]
    },
    {
      "cell_type": "code",
      "execution_count": 200,
      "metadata": {},
      "outputs": [
        {
          "name": "msu-ml-course",
          "output_type": "stream",
          "text": [
            "<class 'int'> <class 'float'> <class 'str'> <class 'bool'> <class 'complex'>\n"
          ]
        }
      ],
      "source": [
        "print(type(a_int),type(a_float),type(a_str),type(a_bool),type(a_complex))"
      ]
    },
    {
      "attachments": {},
      "cell_type": "markdown",
      "metadata": {},
      "source": [
        "## 2. Operators\n",
        "\n",
        "### 2.1 Arithmetic\n",
        "\n",
        "In python we can perform basic arithmetic operations:"
      ]
    },
    {
      "cell_type": "code",
      "execution_count": 201,
      "metadata": {},
      "outputs": [
        {
          "name": "msu-ml-course",
          "output_type": "stream",
          "text": [
            "7.5\n",
            "0.5\n",
            "14.0\n",
            "1.1428571428571428\n",
            "128.0\n"
          ]
        }
      ],
      "source": [
        "a = 4.0\n",
        "b = 3.5\n",
        "print(a + b) # Addition\n",
        "print(a - b) # Subtraction\n",
        "print(a * b) # Multiplication\n",
        "print(a / b) # Division\n",
        "print(a ** b) # Exponentiation\n"
      ]
    },
    {
      "attachments": {},
      "cell_type": "markdown",
      "metadata": {},
      "source": [
        "We could also store these as new variables:"
      ]
    },
    {
      "cell_type": "code",
      "execution_count": 202,
      "metadata": {},
      "outputs": [
        {
          "name": "msu-ml-course",
          "output_type": "stream",
          "text": [
            "-45.79\n"
          ]
        }
      ],
      "source": [
        "x = 1.1\n",
        "y = -23.5\n",
        "z = x**2 + 2*y\n",
        "print(z)"
      ]
    },
    {
      "attachments": {},
      "cell_type": "markdown",
      "metadata": {},
      "source": [
        "Or update the value of an existing variable:"
      ]
    },
    {
      "cell_type": "code",
      "execution_count": 203,
      "metadata": {},
      "outputs": [
        {
          "name": "msu-ml-course",
          "output_type": "stream",
          "text": [
            "2.1\n"
          ]
        }
      ],
      "source": [
        "x = 1.1\n",
        "x = x + 1.0 # this is the same as x += 1.0\n",
        "print(x)"
      ]
    },
    {
      "attachments": {},
      "cell_type": "markdown",
      "metadata": {},
      "source": [
        "### 2.2 Comparision\n",
        "\n",
        "Often it is useful to compare the values of different variables, these comparisions return booleans."
      ]
    },
    {
      "cell_type": "code",
      "execution_count": 204,
      "metadata": {},
      "outputs": [
        {
          "name": "msu-ml-course",
          "output_type": "stream",
          "text": [
            "False\n",
            "True\n",
            "False\n",
            "True\n",
            "False\n",
            "True\n"
          ]
        }
      ],
      "source": [
        "a = 4.0\n",
        "b = 3.5\n",
        "print(a == b)\n",
        "print(a != b)\n",
        "print(a < b)\n",
        "print(a > b)\n",
        "print(a <= b)\n",
        "print(a >= b)"
      ]
    },
    {
      "attachments": {},
      "cell_type": "markdown",
      "metadata": {},
      "source": [
        "## 3. Lists, Tuples, and Dictionaries\n",
        "\n",
        "### 3.1 Lists\n",
        "**Lists** store several variables. These variables need not be the same type. Lists are declared with `[]` with commas separating entries."
      ]
    },
    {
      "cell_type": "code",
      "execution_count": 205,
      "metadata": {},
      "outputs": [
        {
          "name": "msu-ml-course",
          "output_type": "stream",
          "text": [
            "[4.0, 3.5, True, 'Welcome to MSU!', 'another entry', 5]\n"
          ]
        }
      ],
      "source": [
        "a_list = [a,b,a_bool,a_str, \"another entry\", 5]\n",
        "print(a_list)"
      ]
    },
    {
      "attachments": {},
      "cell_type": "markdown",
      "metadata": {},
      "source": [
        "Lists can be **indexed** with `[i]` after the name of the list, where `i` is the index. Note that the first element of a list corresponds to index $0$."
      ]
    },
    {
      "cell_type": "code",
      "execution_count": 206,
      "metadata": {},
      "outputs": [
        {
          "name": "msu-ml-course",
          "output_type": "stream",
          "text": [
            "4.0 5 5\n"
          ]
        }
      ],
      "source": [
        "print(a_list[0], a_list[5],a_list[-1])"
      ]
    },
    {
      "attachments": {},
      "cell_type": "markdown",
      "metadata": {},
      "source": [
        "You can **append** something to a list, adding a new variable to the end of it:"
      ]
    },
    {
      "cell_type": "code",
      "execution_count": 207,
      "metadata": {},
      "outputs": [
        {
          "name": "msu-ml-course",
          "output_type": "stream",
          "text": [
            "[4.0, 3.5, True, 'Welcome to MSU!', 'another entry', 5, 6]\n"
          ]
        }
      ],
      "source": [
        "a_list.append(6)\n",
        "print(a_list)"
      ]
    },
    {
      "attachments": {},
      "cell_type": "markdown",
      "metadata": {},
      "source": [
        "Or change the value of an entry of the list (lists are mutable):"
      ]
    },
    {
      "cell_type": "code",
      "execution_count": 208,
      "metadata": {},
      "outputs": [
        {
          "name": "msu-ml-course",
          "output_type": "stream",
          "text": [
            "[4.0, 3.5, True, 'Welcome to MSU!', 'another entry', 5, 6]\n",
            "[4.0, 3.5, False, 'Welcome to MSU!', 'another entry', 5, 6]\n"
          ]
        }
      ],
      "source": [
        "print(a_list)\n",
        "a_list[2] = False\n",
        "print(a_list)"
      ]
    },
    {
      "attachments": {},
      "cell_type": "markdown",
      "metadata": {},
      "source": [
        "We can also find the length of a list with `len`. Note that `len` starts counting at one:"
      ]
    },
    {
      "cell_type": "code",
      "execution_count": 209,
      "metadata": {},
      "outputs": [
        {
          "name": "msu-ml-course",
          "output_type": "stream",
          "text": [
            "0\n",
            "7\n"
          ]
        }
      ],
      "source": [
        "print(len([]))\n",
        "print(len(a_list))"
      ]
    },
    {
      "attachments": {},
      "cell_type": "markdown",
      "metadata": {},
      "source": [
        "### 3.2 Tuples\n",
        "\n",
        "There is another object similar to lists called **tuples**. We can create tuples using `()`, and index them just like lists:"
      ]
    },
    {
      "cell_type": "code",
      "execution_count": 210,
      "metadata": {},
      "outputs": [
        {
          "name": "msu-ml-course",
          "output_type": "stream",
          "text": [
            "(1, 2, 3, 4)\n",
            "1\n"
          ]
        }
      ],
      "source": [
        "a_tuple = (1,2,3,4) # initialize like a list, but with () instead of []\n",
        "# note that tuples don't require the parenthesis, we could have written a_tuple = 1,2,3,4\n",
        "print(a_tuple)\n",
        "print(a_tuple[0])"
      ]
    },
    {
      "attachments": {},
      "cell_type": "markdown",
      "metadata": {},
      "source": [
        "However, unlike lists, tuples are **not** mutable, which means that you can't change the value of any of the values in the tuple. So the following code would not work.\n",
        "\n",
        "\n",
        "```python\n",
        "a_tuple = (1,2,3,4)\n",
        "a_tuple[0] = 2 # this line is not allowed\n",
        "\n",
        "```\n",
        "\n",
        "Tuples are more memory efficient than lists.\n",
        "\n",
        "Another useful thing that can be done with tuples is they can be **unpacked**. This means you can take a tuple and save each of it's entries as a different variable. Here is an example of unpackig a tuple:"
      ]
    },
    {
      "cell_type": "code",
      "execution_count": 211,
      "metadata": {},
      "outputs": [
        {
          "name": "msu-ml-course",
          "output_type": "stream",
          "text": [
            "1 2 3 4\n"
          ]
        }
      ],
      "source": [
        "a_tuple = (1,2,3,4)\n",
        "a,b,c,d = a_tuple\n",
        "print(a,b,c,d)"
      ]
    },
    {
      "attachments": {},
      "cell_type": "markdown",
      "metadata": {},
      "source": [
        "This can be done with lists as well:"
      ]
    },
    {
      "cell_type": "code",
      "execution_count": 212,
      "metadata": {},
      "outputs": [
        {
          "name": "msu-ml-course",
          "output_type": "stream",
          "text": [
            "1 2 3 4\n"
          ]
        }
      ],
      "source": [
        "a_list = [1,2,3,4]\n",
        "a,b,c,d = a_list\n",
        "print(a,b,c,d)"
      ]
    },
    {
      "attachments": {},
      "cell_type": "markdown",
      "metadata": {},
      "source": [
        "### 3.3 Dictionaries\n",
        "\n",
        "**Dictionaries** store values in key:value pairs. "
      ]
    },
    {
      "cell_type": "code",
      "execution_count": 213,
      "metadata": {},
      "outputs": [
        {
          "name": "msu-ml-course",
          "output_type": "stream",
          "text": [
            "{'name': 'Danny', 'department': 'Physics and Astronomy', 'simultaneous meetings': 512}\n"
          ]
        }
      ],
      "source": [
        "a_dict = {\n",
        "  \"name\": \"Danny\",\n",
        "  \"department\": \"Physics and Astronomy\",\n",
        "  \"simultaneous meetings\": 512\n",
        "}\n",
        "print(a_dict)"
      ]
    },
    {
      "attachments": {},
      "cell_type": "markdown",
      "metadata": {},
      "source": [
        "These can be indexed with the keys:"
      ]
    },
    {
      "cell_type": "code",
      "execution_count": 214,
      "metadata": {},
      "outputs": [
        {
          "name": "msu-ml-course",
          "output_type": "stream",
          "text": [
            "Physics and Astronomy\n"
          ]
        }
      ],
      "source": [
        "print(a_dict['department'])"
      ]
    },
    {
      "attachments": {},
      "cell_type": "markdown",
      "metadata": {},
      "source": [
        "You can directly obtain the keys of a dictionary with `.keys()`"
      ]
    },
    {
      "cell_type": "code",
      "execution_count": 215,
      "metadata": {},
      "outputs": [
        {
          "name": "msu-ml-course",
          "output_type": "stream",
          "text": [
            "dict_keys(['name', 'department', 'simultaneous meetings'])\n"
          ]
        }
      ],
      "source": [
        "print(a_dict.keys())"
      ]
    },
    {
      "attachments": {},
      "cell_type": "markdown",
      "metadata": {},
      "source": [
        "## 4. Arrays\n",
        "\n",
        "**NumPy Arrays** store many floating point numbers (or complex numbers). These are part of the python library **NumPy** which is probably the most important python library. "
      ]
    },
    {
      "cell_type": "code",
      "execution_count": 216,
      "metadata": {},
      "outputs": [
        {
          "name": "msu-ml-course",
          "output_type": "stream",
          "text": [
            "[ 0.    2.1  -2.    6.18]\n",
            "0.0\n"
          ]
        }
      ],
      "source": [
        "import numpy as np # import numpy\n",
        "\n",
        "a_ary = np.array([0.0,2.1,-2.0,6.18])\n",
        "print(a_ary)\n",
        "\n",
        "print(a_ary[0]) # arrays are indexed like lists"
      ]
    },
    {
      "attachments": {},
      "cell_type": "markdown",
      "metadata": {},
      "source": [
        "One great thing about numpy arrays is that it is easy to perform mathematical operations on the whole array:\n",
        "\n"
      ]
    },
    {
      "cell_type": "code",
      "execution_count": 217,
      "metadata": {},
      "outputs": [
        {
          "name": "msu-ml-course",
          "output_type": "stream",
          "text": [
            "[ 1.    3.1  -1.    7.18]\n",
            "[ 0.    4.2  -4.   12.36]\n"
          ]
        }
      ],
      "source": [
        "print(a_ary + 1)\n",
        "print(2 * a_ary)"
      ]
    },
    {
      "attachments": {},
      "cell_type": "markdown",
      "metadata": {},
      "source": [
        "Multi-Dimensional Arrays can also be made:"
      ]
    },
    {
      "cell_type": "code",
      "execution_count": 218,
      "metadata": {},
      "outputs": [
        {
          "name": "msu-ml-course",
          "output_type": "stream",
          "text": [
            "[[1 2]\n",
            " [3 4]]\n",
            "1 2\n"
          ]
        }
      ],
      "source": [
        "a_ary = np.array([[1,2],[3,4]])\n",
        "\n",
        "print(a_ary)\n",
        "print(a_ary[0,0],a_ary[0,1]) # multi dimensional indexing"
      ]
    },
    {
      "attachments": {},
      "cell_type": "markdown",
      "metadata": {},
      "source": [
        "In the case of 2d arrays, we can also perform matrix multiplication with `@`:"
      ]
    },
    {
      "cell_type": "code",
      "execution_count": 219,
      "metadata": {},
      "outputs": [
        {
          "name": "msu-ml-course",
          "output_type": "stream",
          "text": [
            "[[19 22]\n",
            " [43 50]]\n"
          ]
        }
      ],
      "source": [
        "b_ary = np.array([[5,6],[7,8]])\n",
        "\n",
        "print(a_ary@b_ary) # multiply matrices"
      ]
    },
    {
      "attachments": {},
      "cell_type": "markdown",
      "metadata": {},
      "source": [
        "Often you might need to generate arrays of certain values. `np.linspace` and `np.arange` give two ways of making arrays with values that span a range:"
      ]
    },
    {
      "cell_type": "code",
      "execution_count": 220,
      "metadata": {},
      "outputs": [
        {
          "name": "msu-ml-course",
          "output_type": "stream",
          "text": [
            "[0.  0.1 0.2 0.3 0.4 0.5 0.6 0.7 0.8 0.9 1. ]\n",
            "[0.  0.1 0.2 0.3 0.4 0.5 0.6 0.7 0.8 0.9 1. ]\n"
          ]
        }
      ],
      "source": [
        "x1 = np.linspace(0,1,11)  # 11 evenly spaced numbers from 0 to 1\n",
        "x2 = np.arange(0,1.1,0.1) # numbers from 0 to 1 with spacing 0.1\n",
        "print(x1)\n",
        "print(x2)"
      ]
    },
    {
      "attachments": {},
      "cell_type": "markdown",
      "metadata": {},
      "source": [
        "`np.zeros` and `np.ones` give ways to generate arrays of just zeroes or ones:"
      ]
    },
    {
      "cell_type": "code",
      "execution_count": 221,
      "metadata": {},
      "outputs": [
        {
          "name": "msu-ml-course",
          "output_type": "stream",
          "text": [
            "[0. 0. 0. 0. 0.]\n",
            "[[1. 1. 1.]\n",
            " [1. 1. 1.]]\n"
          ]
        }
      ],
      "source": [
        "x3 = np.zeros(5)\n",
        "x4 = np.ones((2,3))\n",
        "print(x3)\n",
        "print(x4)"
      ]
    },
    {
      "attachments": {},
      "cell_type": "markdown",
      "metadata": {},
      "source": [
        "You can use `len` for 1d arrays just like you would for lists, but `.shape` is often more useful, especially for multi-dimensional arrays:"
      ]
    },
    {
      "cell_type": "code",
      "execution_count": 222,
      "metadata": {},
      "outputs": [
        {
          "name": "msu-ml-course",
          "output_type": "stream",
          "text": [
            "5\n",
            "(5,)\n",
            "(2, 3)\n"
          ]
        }
      ],
      "source": [
        "print(len(x3))\n",
        "print(x3.shape)\n",
        "print(x4.shape)"
      ]
    },
    {
      "attachments": {},
      "cell_type": "markdown",
      "metadata": {},
      "source": [
        "You can also perform **boolean masks** which let you use conditional logic on an array to select for certain values:"
      ]
    },
    {
      "cell_type": "code",
      "execution_count": 223,
      "metadata": {},
      "outputs": [
        {
          "name": "msu-ml-course",
          "output_type": "stream",
          "text": [
            "mask: [False False False False  True  True  True  True  True]\n",
            "masked: [0.  0.5 1.  1.5 2. ]\n"
          ]
        }
      ],
      "source": [
        "x = np.arange(-2,2.5,0.5) # values from -2 to 2 in step size of 0.5\n",
        "\n",
        "x_mask = x >= 0 # mask for only positive values\n",
        "print('mask:', x_mask)\n",
        "\n",
        "x_masked = x[x_mask] # apply the mask to the original array\n",
        "print(\"masked:\",x_masked)"
      ]
    },
    {
      "attachments": {},
      "cell_type": "markdown",
      "metadata": {},
      "source": [
        "Note that we could have done this masking in just one line:"
      ]
    },
    {
      "cell_type": "code",
      "execution_count": 224,
      "metadata": {},
      "outputs": [
        {
          "name": "msu-ml-course",
          "output_type": "stream",
          "text": [
            "[0.  0.5 1.  1.5 2. ]\n"
          ]
        }
      ],
      "source": [
        "print(x[x >= 0])"
      ]
    },
    {
      "attachments": {},
      "cell_type": "markdown",
      "metadata": {},
      "source": [
        "Numpy has a wealth of other functionality, such as built in functions like `sin` or `exp` or methods for arrays such as finding the maximum of an array with `.max` or the index of that entry with `.argmax`, but there are far too many of these methods to list here. NumPy even has a fast fourier transform! A general rule of thumb is if you think it would exist, it probably does and you can find it in the [numpy documentation](https://numpy.org/)."
      ]
    },
    {
      "attachments": {},
      "cell_type": "markdown",
      "metadata": {},
      "source": [
        "## 5. Plotting\n",
        "\n",
        "One of the great things about python is that it makes plotting pretty simple, thanks to the **matplotlib** library. "
      ]
    },
    {
      "cell_type": "code",
      "execution_count": 225,
      "metadata": {},
      "outputs": [],
      "source": [
        "import matplotlib.pyplot as plt # import matplotlib"
      ]
    },
    {
      "attachments": {},
      "cell_type": "markdown",
      "metadata": {},
      "source": [
        "The most basic kind of plotting with matplotlib uses `plt.plot`. For example, lets say you want to plot the function: $\\sin(x^2)$. That can be done like this:"
      ]
    },
    {
      "cell_type": "code",
      "execution_count": 226,
      "metadata": {},
      "outputs": [
        {
          "data": {
            "image/png": "[encoded data removed]",
            "text/plain": [
              "<Figure size 576x360 with 1 Axes>"
            ]
          },
          "metadata": {
            "needs_background": "light"
          },
          "output_type": "display_data"
        }
      ],
      "source": [
        "x = np.arange(0,2*np.sqrt(2*np.pi),0.01) # set up x array\n",
        "y = np.sin(x**2)\n",
        "\n",
        "plt.figure(figsize=(8,5))\n",
        "plt.plot(x,y)\n",
        "plt.title(r\"$\\sin(x^2)$\") # r strings let you use latex in plots\n",
        "plt.xlabel('x')\n",
        "plt.ylabel('f(x)')\n",
        "plt.show()"
      ]
    },
    {
      "attachments": {},
      "cell_type": "markdown",
      "metadata": {},
      "source": [
        "You can also plot multiple things on the same plot by using `plt.plot` twice:"
      ]
    },
    {
      "cell_type": "code",
      "execution_count": 227,
      "metadata": {},
      "outputs": [
        {
          "data": {
            "image/png": "[encoded data removed]",
            "text/plain": [
              "<Figure size 576x360 with 1 Axes>"
            ]
          },
          "metadata": {
            "needs_background": "light"
          },
          "output_type": "display_data"
        }
      ],
      "source": [
        "x = np.arange(0,2*np.sqrt(2*np.pi),0.01) # set up x array\n",
        "y = np.sin(x**2)\n",
        "y2 = np.sin(np.sqrt(x))\n",
        "\n",
        "plt.figure(figsize=(8,5))\n",
        "plt.plot(x,y, label = r\"$\\sin(x^2)$\", c = 'r') # now additionally specifying the label for the legend as well as the color of the plot\n",
        "plt.plot(x,y2, label = r\"$\\sin(\\sqrt{x})$\", c = 'b')\n",
        "plt.title(\"Wacky Sine Functions\")\n",
        "plt.xlabel('x')\n",
        "plt.ylabel('f(x)')\n",
        "plt.legend(fontsize = 15)\n",
        "plt.show()"
      ]
    },
    {
      "attachments": {},
      "cell_type": "markdown",
      "metadata": {},
      "source": [
        "Matplotlib has tons of other features as well, such as scatter plots, bar charts, subplots and 3d plotting, just to name a few. [This article](https://towardsdatascience.com/matplotlib-tutorial-learn-basics-of-pythons-powerful-plotting-library-b5d1b8f67596) has a lot of great information on getting started with matplotlib."
      ]
    },
    {
      "attachments": {},
      "cell_type": "markdown",
      "metadata": {},
      "source": [
        "## 6. Loops\n",
        "\n",
        "Sometimes you need to be able to write an algorithm yourself. To do this, we use **loops**. Specifically, there are two main kinds of loops, **for loops** and **while loops**. \n",
        "\n",
        "\n",
        "### 6.1 For Loops\n",
        "\n",
        "For looops loop over a container. They have the form `for x in y:` where y is the container. As the loop runs, `x` takes on the value of everything stored in `y`, one after the other. Lines of code that are part of the loop after its declaration must be indented in the lines after the loop is declared. Here are a couple examples of simple for loops: "
      ]
    },
    {
      "cell_type": "code",
      "execution_count": 228,
      "metadata": {},
      "outputs": [
        {
          "name": "msu-ml-course",
          "output_type": "stream",
          "text": [
            "loop 1:\n",
            "4\n",
            "5\n",
            "six\n",
            "seven\n",
            "loop 2:\n",
            "1\n",
            "2\n",
            "3\n",
            "4\n"
          ]
        }
      ],
      "source": [
        "a_list = [4,5,'six','seven']\n",
        "\n",
        "print('loop 1:')\n",
        "for item in a_list:\n",
        "    print(item)\n",
        "\n",
        "print('loop 2:')\n",
        "for i in range(1,5): # range(a,b) is a range of integers from a to b-1\n",
        "    print(i)"
      ]
    },
    {
      "attachments": {},
      "cell_type": "markdown",
      "metadata": {},
      "source": [
        "### 6.2 While Loops\n",
        "\n",
        "While loops continue to run while some logical statement is `True` and stop running when that statement is `False`."
      ]
    },
    {
      "cell_type": "code",
      "execution_count": 229,
      "metadata": {},
      "outputs": [
        {
          "name": "msu-ml-course",
          "output_type": "stream",
          "text": [
            "a: 3 b: 1\n",
            "a: 2 b: 2\n",
            "a: 1 b: 3\n",
            "a: 0 b: 4\n"
          ]
        }
      ],
      "source": [
        "a = 4\n",
        "b = 0\n",
        "while a > 0 and b < 10: # you can use \"or\" and \"and\" to put multiple boolean statements together\n",
        "    a -= 1\n",
        "    b += 1\n",
        "    print('a:',a,'b:',b)"
      ]
    },
    {
      "attachments": {},
      "cell_type": "markdown",
      "metadata": {},
      "source": [
        "A warning - If you make a mistake when using while loops, it is much easier for things to go spectacularly wrong since a loop could try to run forever. A good general rule of thumb is to use for loops whenever possible and only use while loops when it is extremely convienient to do so. "
      ]
    },
    {
      "attachments": {},
      "cell_type": "markdown",
      "metadata": {},
      "source": [
        "### 5.3 Example: Numerical Integration of Object Falling in 1d\n",
        "\n",
        "When learning loops in python, it can be useful to see how you would do the same thing a couple different ways. Here, we show two ways of numerically solving an object falling in 1d with no air resistance. We choose $m = 1 kg$, $v_0 = 0 m/s$, $p_0 = 0 kgm/s$, and $y_0 = 500 m$ for initial conditions and the standard $g = 9.81 m/s^2$ for the acceleration due to gravity.\n",
        "\n",
        "The numerical method we are going to use is called **Euler's Method**, which is the simplest but also least effective numerical integration technique. Euler's method works by first updating the momentum of the object with the force it feels, then it updates the position of the object using its velocity (which can be found from $v = p/m$).\n",
        "\n",
        "First we'll show a way of doing this using a for loop and numpy array indexing, and we'll plot the results:"
      ]
    },
    {
      "cell_type": "code",
      "execution_count": 230,
      "metadata": {},
      "outputs": [
        {
          "data": {
            "image/png": "[encoded data removed]",
            "text/plain": [
              "<Figure size 432x288 with 1 Axes>"
            ]
          },
          "metadata": {
            "needs_background": "light"
          },
          "output_type": "display_data"
        }
      ],
      "source": [
        "# time and array setup\n",
        "dt = 0.01  # time step [s]\n",
        "t = np.arange(0,10,dt) # time array [s]\n",
        "y = np.zeros(len(t))   # position array (starts as just zeros) [m]\n",
        "p = np.zeros(len(t))   # momentum array (starts as just zeros) [kg*m/s]\n",
        "\n",
        "# parameters and initial conditions\n",
        "g = -9.81  # acceleartion due to gravity [m/s**2]\n",
        "m = 1      # mass [kg]\n",
        "y0 = 500   # initial position [m]\n",
        "y[0] = y0  # set initial position in position array [m]\n",
        "p0 = 0     # initial momentum [kg*m/s]\n",
        "p[0] = p0  # set initial momentum in momentum array [kg*m/s]\n",
        "\n",
        "\n",
        "for i in range(len(t)-1): # range starts at 0 when only one value is specified\n",
        "    p[i+1] = p[i] + m * g * dt    # calculate the next momentum according to dp = F*dt\n",
        "    y[i+1] = y[i] + (p[i]/m) * dt # calculate the next position according to dy = V*dt\n",
        "\n",
        "plt.plot(t,y)\n",
        "plt.xlabel('t')\n",
        "plt.ylabel('y')\n",
        "plt.show()"
      ]
    },
    {
      "attachments": {},
      "cell_type": "markdown",
      "metadata": {},
      "source": [
        "Next, here is a way to do this using a while loop and lists:"
      ]
    },
    {
      "cell_type": "code",
      "execution_count": 231,
      "metadata": {},
      "outputs": [
        {
          "data": {
            "image/png": "[encoded data removed]",
            "text/plain": [
              "<Figure size 432x288 with 1 Axes>"
            ]
          },
          "metadata": {
            "needs_background": "light"
          },
          "output_type": "display_data"
        }
      ],
      "source": [
        "# time setup\n",
        "dt = 0.01\n",
        "t = 0     # initial time [s]\n",
        "tf = 10   # final time   [s]\n",
        "\n",
        "# parameters and initial conditions\n",
        "g = -9.81 \n",
        "m = 1\n",
        "y = 500  # initial position [s]\n",
        "p = 0    # initial momentum [s]\n",
        "\n",
        "# lists to store values\n",
        "t_list = [0]\n",
        "y_list = [y]\n",
        "\n",
        "while t < tf:\n",
        "    p += m * g * dt\n",
        "    y += (p/m) * dt\n",
        "    y_list.append(y) # append new value of y to y_list\n",
        "    t += dt\n",
        "    t_list.append(t) # append new value of t to t_list\n",
        "\n",
        "plt.plot(t_list,y_list)\n",
        "plt.xlabel('t')\n",
        "plt.ylabel('y')\n",
        "plt.show()"
      ]
    },
    {
      "attachments": {},
      "cell_type": "markdown",
      "metadata": {},
      "source": [
        "### 6.4 if and else statements\n",
        "\n",
        "Conditional logic in loops is often very useful. This can be done with `if` and `else` statements. Here's an example:\n"
      ]
    },
    {
      "cell_type": "code",
      "execution_count": 232,
      "metadata": {},
      "outputs": [
        {
          "name": "msu-ml-course",
          "output_type": "stream",
          "text": [
            "1 is odd\n",
            "2 is even\n",
            "3 is odd\n",
            "4 is even\n"
          ]
        }
      ],
      "source": [
        "for number in np.arange(1,5):\n",
        "    if number % 2 == 0: # Check to see if number is even\n",
        "        print(number, \"is even\")\n",
        "    else: \n",
        "        print(number, \"is odd\")"
      ]
    },
    {
      "attachments": {},
      "cell_type": "markdown",
      "metadata": {},
      "source": [
        "You can include multiple conditions by using `elif`:"
      ]
    },
    {
      "cell_type": "code",
      "execution_count": 233,
      "metadata": {},
      "outputs": [
        {
          "name": "msu-ml-course",
          "output_type": "stream",
          "text": [
            "1 is odd\n",
            "2 is even\n",
            "3 is divisible by 3\n",
            "4 is even\n",
            "5 is odd\n",
            "6 is even and divisible by 3\n"
          ]
        }
      ],
      "source": [
        "for number in np.arange(1,7):\n",
        "    if number % 3 == 0 and number % 2 ==0:\n",
        "        print(number,'is even and divisible by 3')\n",
        "    elif number % 3 == 0:\n",
        "        print(number, \"is divisible by 3\")\n",
        "    elif number % 2 == 0:\n",
        "        print(number, \"is even\")\n",
        "    else: \n",
        "        print(number, \"is odd\")"
      ]
    },
    {
      "attachments": {},
      "cell_type": "markdown",
      "metadata": {},
      "source": [
        "### 6.5 Nested loops\n",
        "\n",
        "multiple loops can be **nested** within each other. Here's an example of a code that makes a grid of points and plots them.\n",
        "\n"
      ]
    },
    {
      "cell_type": "code",
      "execution_count": 234,
      "metadata": {},
      "outputs": [
        {
          "data": {
            "image/png": "[encoded data removed]",
            "text/plain": [
              "<Figure size 432x288 with 1 Axes>"
            ]
          },
          "metadata": {
            "needs_background": "light"
          },
          "output_type": "display_data"
        }
      ],
      "source": [
        "x = 0\n",
        "y = 0\n",
        "x_list = []\n",
        "y_list = []\n",
        "size = 4\n",
        "step = 1\n",
        "\n",
        "for x in range(size):\n",
        "    for y in range(size): # loop over y values for each x value\n",
        "        x_list.append(x)\n",
        "        y_list.append(y)\n",
        "\n",
        "plt.scatter(x_list,y_list)\n",
        "plt.title('Point Grid')\n",
        "plt.axis('equal')\n",
        "plt.show()"
      ]
    },
    {
      "attachments": {},
      "cell_type": "markdown",
      "metadata": {},
      "source": [
        "## 7. Functions\n",
        "\n",
        "Often you may want to repeat a calculation in python many times. **Functions** are super useful for this. Functions are declared with `def functionname(imputs):` and will return anything after the word `return` is used. Here's an example of a simple function that calculates the square root of a number:"
      ]
    },
    {
      "cell_type": "code",
      "execution_count": 235,
      "metadata": {},
      "outputs": [
        {
          "name": "msu-ml-course",
          "output_type": "stream",
          "text": [
            "2.0\n"
          ]
        }
      ],
      "source": [
        "def sqrt(x):\n",
        "    return x**0.5\n",
        "\n",
        "print(sqrt(4))"
      ]
    },
    {
      "attachments": {},
      "cell_type": "markdown",
      "metadata": {},
      "source": [
        "Functions can have as many imputs and outputs as you want and can be as complicated as you'd like. For example, we could turn the numerical integration example from earlier into a function:"
      ]
    },
    {
      "cell_type": "code",
      "execution_count": 236,
      "metadata": {},
      "outputs": [],
      "source": [
        "def falling_object(dt,t,y,p,y0=500,p0=0,m = 1,g = -9.81): # variables can be set to default values when the function is defined\n",
        "\n",
        "    y[0] = y0\n",
        "    p[0] = p0\n",
        "\n",
        "    for i in range(len(t)-1):\n",
        "        p[i+1] = p[i] + m * g * dt    \n",
        "        y[i+1] = y[i] + (p[i]/m) * dt \n",
        "\n",
        "    return y,p"
      ]
    },
    {
      "cell_type": "code",
      "execution_count": 237,
      "metadata": {},
      "outputs": [
        {
          "data": {
            "image/png": "[encoded data removed]",
            "text/plain": [
              "<Figure size 432x288 with 1 Axes>"
            ]
          },
          "metadata": {
            "needs_background": "light"
          },
          "output_type": "display_data"
        }
      ],
      "source": [
        "dt = 0.01  # time step [s]\n",
        "t = np.arange(0,10,dt) # time array [s]\n",
        "y = np.zeros(len(t))   # position array (starts as just zeros) [m]\n",
        "p = np.zeros(len(t))   # momentum array (starts as just zeros) [kg*m/s]\n",
        "\n",
        "y,p = falling_object(dt,t,y,p) # call the function\n",
        "\n",
        "plt.plot(t,y)\n",
        "plt.xlabel('t')\n",
        "plt.ylabel('y')\n",
        "plt.show()"
      ]
    },
    {
      "attachments": {},
      "cell_type": "markdown",
      "metadata": {},
      "source": [
        "Note that having this as a function makes it really easy to try different initial conditions, since all we have to do is change the imput to the function:"
      ]
    },
    {
      "cell_type": "code",
      "execution_count": 238,
      "metadata": {},
      "outputs": [
        {
          "data": {
            "image/png": "[encoded data removed]",
            "text/plain": [
              "<Figure size 432x288 with 1 Axes>"
            ]
          },
          "metadata": {
            "needs_background": "light"
          },
          "output_type": "display_data"
        }
      ],
      "source": [
        "y,p = falling_object(dt,t,y,p, p0 = 40)\n",
        "\n",
        "plt.plot(t,y)\n",
        "plt.xlabel('t')\n",
        "plt.ylabel('y')\n",
        "plt.show()"
      ]
    }
  ],
  "metadata": {
    "kernelspec": {
      "name": "jbook",
      "display_name": "Python 3 (jbook)",
      "language": "python"
    },
    "language_info": {
      "name": "python",
      "version": "3.13"
    },
    "orig_nbformat": 4
  },
  "nbformat": 4,
  "nbformat_minor": 2
}