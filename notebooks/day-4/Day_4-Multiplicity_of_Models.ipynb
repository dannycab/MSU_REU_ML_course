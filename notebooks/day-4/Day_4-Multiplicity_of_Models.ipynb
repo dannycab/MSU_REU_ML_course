{
  "cells": [
    {
      "attachments": {},
      "cell_type": "markdown",
      "id": "ebd2d50d-fdc0-4731-b552-96af285a610e",
      "metadata": {},
      "source": [
        "# A Multiplicity of Models\n",
        "\n",
        "We haven't really talked too much about specific models or algorithms, that is something you can study on your own, but be warned -- that liteature is extensive, so I'd suggest starting with YouTube videos. \n",
        "\n",
        "In general you might approach a given classification or regression problem with a number of different possible models to determine which is the most useful for your purposes (e.g., most accurate, least biased, etc.). A few potential models (*not exhaustive*) are listed below based on the type of problem they can solve:\n",
        "\n",
        "* **Classification**: Logistic Regression, K Nearest Neighbors, Support Vector Machines, Random Forest, Neural Networks\n",
        "* **Regression**: Linear Regression, Polynomial Regression, Stochastic Gradient Descent, Support Vector Machines, Random Forest, Neural Networks\n",
        "\n",
        "In this notebook, you will work with synthesized data to understand the workflow for using and comparing classifiers. Along the way, we will introduce new models, but only link to videos that explain what they do."
      ]
    },
    {
      "attachments": {},
      "cell_type": "markdown",
      "id": "04e21a1d-250d-4875-bdc8-6c5a0d608dd0",
      "metadata": {},
      "source": [
        "---\n",
        "## 0. Today's Initial Imports"
      ]
    },
    {
      "cell_type": "code",
      "execution_count": 77,
      "id": "e548af72-4d57-42fb-8137-dde544e69bd0",
      "metadata": {},
      "outputs": [],
      "source": [
        "import pandas as pd\n",
        "import numpy as np\n",
        "import matplotlib.pyplot as plt\n",
        "\n",
        "from sklearn.datasets import make_classification, make_circles\n",
        "from sklearn.linear_model import LogisticRegression\n",
        "\n",
        "from sklearn.model_selection import train_test_split, GridSearchCV, cross_val_score, ShuffleSplit\n",
        "from sklearn.metrics import confusion_matrix, classification_report, roc_curve, roc_auc_score, accuracy_score, roc_auc_score\n",
        "\n",
        "%matplotlib inline"
      ]
    },
    {
      "attachments": {},
      "cell_type": "markdown",
      "id": "a0b69423-a428-4458-a90f-39f1b53c0285",
      "metadata": {},
      "source": [
        "---\n",
        "## 1. Example: Validating a Logistic Regression Model\n",
        "\n",
        "We will start with a Logistic Regression Model and synthesized data. \n",
        "\n",
        "[[Logistic Regression Explained]](https://www.youtube.com/watch?v=yIYKR4sgzI8) *(No need to watch in class.)*\n",
        "\n",
        "By reviewing and working with this example, you should be able to identify and explain the different ways in which we are validating the Logisitc Regression model. \n",
        "\n",
        "### 1.1 Making classification data\n",
        "\n",
        "We start by making the data using the `make_classification()` method. I will pick 1000 samples with 20 features; only 4 of them will be informative about the 2 classes. What `make_classification()` returns are the data (the features for the model) and the class labels (the 1 or 0). For simplicity and familiarity, I convert them both to `pandas` data frames as this is typically what you would do with data you read in."
      ]
    },
    {
      "cell_type": "code",
      "execution_count": 78,
      "id": "d412a900-7e92-40d4-8717-a47e69c71de9",
      "metadata": {},
      "outputs": [],
      "source": [
        "## Parameters for making data\n",
        "N_samples = 1000\n",
        "N_features = 20\n",
        "N_informative = 4\n",
        "N_classes = 2\n",
        "Random_state = 8\n",
        "\n",
        "## Make up some data for classification\n",
        "X, y = make_classification(n_samples = N_samples,\n",
        "                           n_features = N_features,\n",
        "                           n_informative = N_informative,\n",
        "                           n_classes = N_classes,\n",
        "                           random_state = Random_state)\n",
        "\n",
        "## Store the data in a data frame\n",
        "feature_list = []\n",
        "\n",
        "for feature in np.arange(N_features):\n",
        "    feature_list.append('feature_'+str(feature))\n",
        "\n",
        "features = pd.DataFrame(X, columns=feature_list)\n",
        "classes = pd.DataFrame(y, columns=['label'])"
      ]
    },
    {
      "attachments": {},
      "cell_type": "markdown",
      "id": "fd6b90c7-64d9-4c59-a64d-e2ac0111f01d",
      "metadata": {},
      "source": [
        "We can check the `.head()` of both data frames to make sure we know what we imported."
      ]
    },
    {
      "cell_type": "code",
      "execution_count": 79,
      "id": "c810f94c-1cc9-4c54-9dbe-39a8624a6c19",
      "metadata": {},
      "outputs": [
        {
          "data": {
            "text/html": [
              "<div>\n",
              "<style scoped>\n",
              "    .dataframe tbody tr th:only-of-type {\n",
              "        vertical-align: middle;\n",
              "    }\n",
              "\n",
              "    .dataframe tbody tr th {\n",
              "        vertical-align: top;\n",
              "    }\n",
              "\n",
              "    .dataframe thead th {\n",
              "        text-align: right;\n",
              "    }\n",
              "</style>\n",
              "<table border=\"1\" class=\"dataframe\">\n",
              "  <thead>\n",
              "    <tr style=\"text-align: right;\">\n",
              "      <th></th>\n",
              "      <th>feature_0</th>\n",
              "      <th>feature_1</th>\n",
              "      <th>feature_2</th>\n",
              "      <th>feature_3</th>\n",
              "      <th>feature_4</th>\n",
              "      <th>feature_5</th>\n",
              "      <th>feature_6</th>\n",
              "      <th>feature_7</th>\n",
              "      <th>feature_8</th>\n",
              "      <th>feature_9</th>\n",
              "      <th>feature_10</th>\n",
              "      <th>feature_11</th>\n",
              "      <th>feature_12</th>\n",
              "      <th>feature_13</th>\n",
              "      <th>feature_14</th>\n",
              "      <th>feature_15</th>\n",
              "      <th>feature_16</th>\n",
              "      <th>feature_17</th>\n",
              "      <th>feature_18</th>\n",
              "      <th>feature_19</th>\n",
              "    </tr>\n",
              "  </thead>\n",
              "  <tbody>\n",
              "    <tr>\n",
              "      <th>0</th>\n",
              "      <td>-3.066940</td>\n",
              "      <td>-1.225900</td>\n",
              "      <td>-0.024746</td>\n",
              "      <td>-0.232743</td>\n",
              "      <td>0.601031</td>\n",
              "      <td>2.947156</td>\n",
              "      <td>2.109276</td>\n",
              "      <td>-0.682655</td>\n",
              "      <td>-0.158475</td>\n",
              "      <td>1.721522</td>\n",
              "      <td>0.082881</td>\n",
              "      <td>-1.245279</td>\n",
              "      <td>0.348372</td>\n",
              "      <td>-0.439221</td>\n",
              "      <td>0.046557</td>\n",
              "      <td>-0.424942</td>\n",
              "      <td>-0.279710</td>\n",
              "      <td>1.301763</td>\n",
              "      <td>1.945686</td>\n",
              "      <td>-0.672785</td>\n",
              "    </tr>\n",
              "    <tr>\n",
              "      <th>1</th>\n",
              "      <td>1.109777</td>\n",
              "      <td>0.802371</td>\n",
              "      <td>-0.881194</td>\n",
              "      <td>-1.660948</td>\n",
              "      <td>-0.017003</td>\n",
              "      <td>-0.955554</td>\n",
              "      <td>0.347574</td>\n",
              "      <td>0.091654</td>\n",
              "      <td>1.006924</td>\n",
              "      <td>0.830227</td>\n",
              "      <td>-1.773523</td>\n",
              "      <td>0.084548</td>\n",
              "      <td>0.072692</td>\n",
              "      <td>1.707999</td>\n",
              "      <td>0.389401</td>\n",
              "      <td>0.711569</td>\n",
              "      <td>-0.416251</td>\n",
              "      <td>-1.566200</td>\n",
              "      <td>0.650613</td>\n",
              "      <td>0.024717</td>\n",
              "    </tr>\n",
              "    <tr>\n",
              "      <th>2</th>\n",
              "      <td>-3.261216</td>\n",
              "      <td>0.915654</td>\n",
              "      <td>0.869995</td>\n",
              "      <td>1.088382</td>\n",
              "      <td>-1.142324</td>\n",
              "      <td>2.683297</td>\n",
              "      <td>0.484668</td>\n",
              "      <td>0.795478</td>\n",
              "      <td>-0.738998</td>\n",
              "      <td>2.752353</td>\n",
              "      <td>-1.543173</td>\n",
              "      <td>-0.809621</td>\n",
              "      <td>0.299474</td>\n",
              "      <td>-0.461779</td>\n",
              "      <td>0.071511</td>\n",
              "      <td>-0.042123</td>\n",
              "      <td>-1.282432</td>\n",
              "      <td>2.069163</td>\n",
              "      <td>2.109914</td>\n",
              "      <td>-0.398431</td>\n",
              "    </tr>\n",
              "    <tr>\n",
              "      <th>3</th>\n",
              "      <td>0.822057</td>\n",
              "      <td>0.060319</td>\n",
              "      <td>-1.751338</td>\n",
              "      <td>-1.111918</td>\n",
              "      <td>1.568580</td>\n",
              "      <td>-1.445940</td>\n",
              "      <td>-0.533959</td>\n",
              "      <td>-1.079597</td>\n",
              "      <td>0.364609</td>\n",
              "      <td>0.604370</td>\n",
              "      <td>-0.692346</td>\n",
              "      <td>0.311770</td>\n",
              "      <td>-2.196544</td>\n",
              "      <td>-0.280056</td>\n",
              "      <td>-0.168881</td>\n",
              "      <td>0.481239</td>\n",
              "      <td>-0.908933</td>\n",
              "      <td>-0.842680</td>\n",
              "      <td>1.445210</td>\n",
              "      <td>-1.307423</td>\n",
              "    </tr>\n",
              "    <tr>\n",
              "      <th>4</th>\n",
              "      <td>-0.576368</td>\n",
              "      <td>-0.706806</td>\n",
              "      <td>1.077807</td>\n",
              "      <td>0.126786</td>\n",
              "      <td>1.358857</td>\n",
              "      <td>0.893381</td>\n",
              "      <td>0.213337</td>\n",
              "      <td>-0.373344</td>\n",
              "      <td>-0.244704</td>\n",
              "      <td>-0.804991</td>\n",
              "      <td>-0.236657</td>\n",
              "      <td>0.193004</td>\n",
              "      <td>-0.073357</td>\n",
              "      <td>-2.543937</td>\n",
              "      <td>-0.398944</td>\n",
              "      <td>0.600831</td>\n",
              "      <td>0.666179</td>\n",
              "      <td>0.082918</td>\n",
              "      <td>0.031325</td>\n",
              "      <td>-0.379792</td>\n",
              "    </tr>\n",
              "  </tbody>\n",
              "</table>\n",
              "</div>"
            ],
            "text/plain": [
              "   feature_0  feature_1  feature_2  feature_3  feature_4  feature_5  \\\n",
              "0  -3.066940  -1.225900  -0.024746  -0.232743   0.601031   2.947156   \n",
              "1   1.109777   0.802371  -0.881194  -1.660948  -0.017003  -0.955554   \n",
              "2  -3.261216   0.915654   0.869995   1.088382  -1.142324   2.683297   \n",
              "3   0.822057   0.060319  -1.751338  -1.111918   1.568580  -1.445940   \n",
              "4  -0.576368  -0.706806   1.077807   0.126786   1.358857   0.893381   \n",
              "\n",
              "   feature_6  feature_7  feature_8  feature_9  feature_10  feature_11  \\\n",
              "0   2.109276  -0.682655  -0.158475   1.721522    0.082881   -1.245279   \n",
              "1   0.347574   0.091654   1.006924   0.830227   -1.773523    0.084548   \n",
              "2   0.484668   0.795478  -0.738998   2.752353   -1.543173   -0.809621   \n",
              "3  -0.533959  -1.079597   0.364609   0.604370   -0.692346    0.311770   \n",
              "4   0.213337  -0.373344  -0.244704  -0.804991   -0.236657    0.193004   \n",
              "\n",
              "   feature_12  feature_13  feature_14  feature_15  feature_16  feature_17  \\\n",
              "0    0.348372   -0.439221    0.046557   -0.424942   -0.279710    1.301763   \n",
              "1    0.072692    1.707999    0.389401    0.711569   -0.416251   -1.566200   \n",
              "2    0.299474   -0.461779    0.071511   -0.042123   -1.282432    2.069163   \n",
              "3   -2.196544   -0.280056   -0.168881    0.481239   -0.908933   -0.842680   \n",
              "4   -0.073357   -2.543937   -0.398944    0.600831    0.666179    0.082918   \n",
              "\n",
              "   feature_18  feature_19  \n",
              "0    1.945686   -0.672785  \n",
              "1    0.650613    0.024717  \n",
              "2    2.109914   -0.398431  \n",
              "3    1.445210   -1.307423  \n",
              "4    0.031325   -0.379792  "
            ]
          },
          "execution_count": 79,
          "metadata": {},
          "output_type": "execute_result"
        }
      ],
      "source": [
        "features.head()"
      ]
    },
    {
      "cell_type": "code",
      "execution_count": 80,
      "id": "f1d463a3-a61f-4123-b23d-e57e30104279",
      "metadata": {},
      "outputs": [
        {
          "data": {
            "text/html": [
              "<div>\n",
              "<style scoped>\n",
              "    .dataframe tbody tr th:only-of-type {\n",
              "        vertical-align: middle;\n",
              "    }\n",
              "\n",
              "    .dataframe tbody tr th {\n",
              "        vertical-align: top;\n",
              "    }\n",
              "\n",
              "    .dataframe thead th {\n",
              "        text-align: right;\n",
              "    }\n",
              "</style>\n",
              "<table border=\"1\" class=\"dataframe\">\n",
              "  <thead>\n",
              "    <tr style=\"text-align: right;\">\n",
              "      <th></th>\n",
              "      <th>label</th>\n",
              "    </tr>\n",
              "  </thead>\n",
              "  <tbody>\n",
              "    <tr>\n",
              "      <th>0</th>\n",
              "      <td>0</td>\n",
              "    </tr>\n",
              "    <tr>\n",
              "      <th>1</th>\n",
              "      <td>0</td>\n",
              "    </tr>\n",
              "    <tr>\n",
              "      <th>2</th>\n",
              "      <td>0</td>\n",
              "    </tr>\n",
              "    <tr>\n",
              "      <th>3</th>\n",
              "      <td>0</td>\n",
              "    </tr>\n",
              "    <tr>\n",
              "      <th>4</th>\n",
              "      <td>1</td>\n",
              "    </tr>\n",
              "  </tbody>\n",
              "</table>\n",
              "</div>"
            ],
            "text/plain": [
              "   label\n",
              "0      0\n",
              "1      0\n",
              "2      0\n",
              "3      0\n",
              "4      1"
            ]
          },
          "execution_count": 80,
          "metadata": {},
          "output_type": "execute_result"
        }
      ],
      "source": [
        "classes.head()"
      ]
    },
    {
      "attachments": {},
      "cell_type": "markdown",
      "id": "8a2ff9ae-fec1-460c-ad73-da7f6dadc891",
      "metadata": {},
      "source": [
        "### 1.2 Plotting Feature Spaces\n",
        "\n",
        "We've found that looking at the classes in some feature subspace has been helpful in seeing if there are subspaces where the classes are more separated. We do this so frequently, it is worth having a little piece of code to do that. I've written one below."
      ]
    },
    {
      "cell_type": "code",
      "execution_count": 81,
      "id": "a7c24e95-b12b-4fcf-80f2-aed54f7a04c5",
      "metadata": {},
      "outputs": [],
      "source": [
        "def PlotFeatureSpace(x1,x2,c):\n",
        "    \n",
        "    '''From a Data Series, PlotFeatureSpace creates a \n",
        "    scatter plot of two features and colors the dots \n",
        "    using the classes. The figure labels are the names \n",
        "    of each passed column of the Data Series.'''\n",
        "    \n",
        "    plt.figure()\n",
        "    plt.scatter(x1, x2, c=c)\n",
        "    plt.xlabel(x1.name);\n",
        "    plt.ylabel(x2.name);"
      ]
    },
    {
      "attachments": {},
      "cell_type": "markdown",
      "id": "9b783f28-4d08-40e6-85ea-9b7cc412544b",
      "metadata": {},
      "source": [
        "<font size=+3>&#9998;</font> **Do this:** Using PlotFeatureSpace(), try to find at least two possible features that might be important to the model. That is, can you find two features that seperate the classes well? I've given an example call below."
      ]
    },
    {
      "cell_type": "code",
      "execution_count": 82,
      "id": "40dca758-1159-4d5c-af2b-d66a3429ee92",
      "metadata": {},
      "outputs": [
        {
          "data": {
            "image/png": "[encoded data removed]",
            "text/plain": [
              "<Figure size 432x288 with 1 Axes>"
            ]
          },
          "metadata": {
            "needs_background": "light"
          },
          "output_type": "display_data"
        }
      ],
      "source": [
        "## Parameters for PlotFutureSpace\n",
        "\n",
        "x = \"feature_1\"\n",
        "y = \"feature_2\"\n",
        "c = classes['label']\n",
        "\n",
        "PlotFeatureSpace(features[x], features[y], c)"
      ]
    },
    {
      "attachments": {},
      "cell_type": "markdown",
      "id": "bbdbe02b-cbb5-4623-8f91-97065bc3d1b1",
      "metadata": {},
      "source": [
        "<font size=+3>&#9998;</font> **Do this:** Which two features did you find? Keep note here! \n",
        "\n",
        "*If you rerun the data creation process with a different random state, the same two features might no longer be useful.*"
      ]
    },
    {
      "attachments": {},
      "cell_type": "markdown",
      "id": "6f8f9bf3-23fc-4b38-ae67-cb6e1d9b9dc6",
      "metadata": {},
      "source": [
        "<font size=+3>&#9998;</font> **Do this:** Erase this and write here."
      ]
    },
    {
      "attachments": {},
      "cell_type": "markdown",
      "id": "a287b387-8456-4fbf-966c-2512aa858a85",
      "metadata": {},
      "source": [
        "### 1.3 A Logistic Regression Model\n",
        "\n",
        "As we did with KNN, we will train and test a classification model. This time it will be a [Logitstic Regression](https://scikit-learn.org/stable/modules/generated/sklearn.linear_model.LogisticRegression.html) model. We will first use the confusion matrix to determine how things are going. I've written to code below to split the data, create the model, fit it, and predict the classes of the test data."
      ]
    },
    {
      "cell_type": "code",
      "execution_count": 83,
      "id": "5ca6eb1a-6569-49bf-9097-ce37270f2350",
      "metadata": {},
      "outputs": [
        {
          "name": "msu-ml-course",
          "output_type": "stream",
          "text": [
            "[[122   2]\n",
            " [  1 125]]\n"
          ]
        }
      ],
      "source": [
        "## Split the data\n",
        "x_train, x_test, y_train, y_test = train_test_split(features, classes)\n",
        "\n",
        "## Create an instance of the model (LR with no regularization)\n",
        "model = LogisticRegression(penalty='none')\n",
        "\n",
        "## Fit the model to the training data\n",
        "model.fit(x_train, y_train['label'])\n",
        "\n",
        "## Use that model to predict test outcomes\n",
        "y_pred = model.predict(x_test)\n",
        "\n",
        "## Compare the real outcomes to the predicted outcomes\n",
        "print(confusion_matrix(y_test, y_pred))"
      ]
    },
    {
      "attachments": {},
      "cell_type": "markdown",
      "id": "54d13402-d32f-46a9-b68b-4cdbf36c88b5",
      "metadata": {},
      "source": [
        "#### 1.3.1 The Metric Zoo\n",
        "\n",
        "There are many different ways to use the confusion matrix to determine different qualities of your classifier. Accuracy, the number of true positives and negatives comapred to all predictions is just one of these metrics. There's a lot of them! [[Wikipedia article on evaluation metrics]](https://en.wikipedia.org/wiki/Confusion_matrix)\n",
        "\n",
        "Two of the more important ones are the accuracy (as we've used before) and the [f1-score](https://en.wikipedia.org/wiki/F-score) (closer to 1 is better). The `sklearn` toolkit has all these built-in, but one tool that is at the ready is `classification_report()`, which gives the accuracy, the f-1 score, as well as the [precision](https://en.wikipedia.org/wiki/Positive_and_negative_predictive_values) and [recall](https://en.wikipedia.org/wiki/Sensitivity_and_specificity) -- two other common metrics for evaluation.\n",
        "\n",
        "Once we have predicted class labels, then we can use `classification_report`. Both the `confusion_matrix` and `classification_report` can be used with any of `sklearn`'s classifiers."
      ]
    },
    {
      "cell_type": "code",
      "execution_count": 84,
      "id": "fc56e363-bb24-4420-8ac5-814ba70413d8",
      "metadata": {},
      "outputs": [
        {
          "name": "msu-ml-course",
          "output_type": "stream",
          "text": [
            "              precision    recall  f1-score   support\n",
            "\n",
            "           0       0.99      0.98      0.99       124\n",
            "           1       0.98      0.99      0.99       126\n",
            "\n",
            "    accuracy                           0.99       250\n",
            "   macro avg       0.99      0.99      0.99       250\n",
            "weighted avg       0.99      0.99      0.99       250\n",
            "\n"
          ]
        }
      ],
      "source": [
        "print(classification_report(y_test, y_pred))"
      ]
    },
    {
      "attachments": {},
      "cell_type": "markdown",
      "id": "fba4caff-0322-49fc-9c32-4e1e2c8fd8b5",
      "metadata": {},
      "source": [
        "### 1.4 AUC and the ROC Curve\n",
        "\n",
        "The Receiver Operator Characteristic (ROC) Curve and the associated Area Under the Curve (AUC) are additional tools that help us validate our model. Fortunately, `sklearn` has `roc_curve`, that will return to quantities needed to plot this curve. The AUC can also be determined using the built in `roc_auc_score()` method.\n",
        "\n",
        "Below I wrote a little bit of code to plot the ROC curve and compute the AUC for this model. \n",
        "\n",
        "Again, both of the tools are available for any classifier model."
      ]
    },
    {
      "cell_type": "code",
      "execution_count": 85,
      "id": "5d942768-85f3-4328-a87c-0551c2626da9",
      "metadata": {},
      "outputs": [
        {
          "data": {
            "image/png": "[encoded data removed]",
            "text/plain": [
              "<Figure size 432x288 with 1 Axes>"
            ]
          },
          "metadata": {
            "needs_background": "light"
          },
          "output_type": "display_data"
        }
      ],
      "source": [
        "fpr, tpr, thresholds = roc_curve(y_test, y_pred)\n",
        "\n",
        "plt.figure()\n",
        "\n",
        "plt.plot(fpr, tpr, label='ROC curve (AUC = %0.2f)' % roc_auc_score(y_test,y_pred))\n",
        "plt.plot([0, 1], [0, 1], c='k', linestyle='--')\n",
        "\n",
        "plt.axis([0, 1, 0, 1])\n",
        "plt.xlabel('FPR')\n",
        "plt.ylabel('TPR')\n",
        "plt.legend(loc=\"lower right\")\n",
        "plt.show()"
      ]
    },
    {
      "attachments": {},
      "cell_type": "markdown",
      "id": "ce78f7db-2142-4b97-9e22-d8e4cab27d53",
      "metadata": {},
      "source": [
        "### 1.5 Model Specific Tools - Logistic Regression\n",
        "\n",
        "A LR model uses a transformed linear model to fit the data. It predicts numerical weights for each feature in the data. Those numerical weights can be converted to odds ratio by exponentiating them:\n",
        "\n",
        "$odds_i = \\exp(\\beta_i)$\n",
        "\n",
        "where $\\beta_i$ is the numerical weight for the $i$ th feature determined by the model. In `sklearn` speak, these would be \"coefficients\" of the model; `coef_` in code (and yes with the trailing underscore). The nice thing about LR is that these coefficients are typically interpretable. That is if the odds of a feature is close to one then that feature has virtually no effect on the model. On the other hand, if a feature is much larger than one, we find that might contribute a lot to the model.\n",
        "\n",
        "In this case, we'd expect that feature to be useful in separating the two class labels. *That is why you predicted two features earlier!*\n",
        "\n",
        "Below I wrote a little code to find those odds ratios. "
      ]
    },
    {
      "cell_type": "code",
      "execution_count": 86,
      "id": "a6c46ff9-7fdd-4786-ac39-e8fd2ac119f5",
      "metadata": {},
      "outputs": [
        {
          "name": "msu-ml-course",
          "output_type": "stream",
          "text": [
            "Model Coefficients: [[ 1.02189378e+00 -3.71783071e-01  4.43549628e+00  2.24329546e+00\n",
            "  -4.41167499e-03  1.43147515e-02 -5.28586474e-01 -1.41168130e-01\n",
            "   1.42575654e-01  7.05571192e-02  1.69208663e-01 -3.45129669e-01\n",
            "   2.67088237e-01  3.25967509e-01 -1.06930456e-01 -8.99527147e-02\n",
            "  -2.87542346e-01  2.07373909e-02 -2.91332282e+00  2.21984351e-01]]\n",
            "Odds Ratios: [2.77845156e+00 6.89503800e-01 8.43939978e+01 9.42433766e+00\n",
            " 9.95598042e-01 1.01441770e+00 5.89437566e-01 8.68343305e-01\n",
            " 1.15324032e+00 1.07310586e+00 1.18436725e+00 7.08128526e-01\n",
            " 1.30615569e+00 1.38537036e+00 8.98588162e-01 9.13974402e-01\n",
            " 7.50104802e-01 1.02095390e+00 5.42950171e-02 1.24855184e+00]\n"
          ]
        }
      ],
      "source": [
        "## Extract model coefficeints\n",
        "print(\"Model Coefficients:\", model.coef_)\n",
        "\n",
        "## Compute odds ratios from model coefficients\n",
        "odds = np.exp(model.coef_.ravel())\n",
        "print(\"Odds Ratios:\", odds)"
      ]
    },
    {
      "attachments": {},
      "cell_type": "markdown",
      "id": "8adccb3e-b97c-4714-9ee8-b7a3d45d1b68",
      "metadata": {},
      "source": [
        "<font size=+3>&#9998;</font> **Do this:** Make a bar plot of the odds ratios. Which ones appear to contribute to the model? Are any of them the two featurs you found earlier? You can use `Plot_Feature_Space()` to confirm."
      ]
    },
    {
      "cell_type": "code",
      "execution_count": 87,
      "id": "687a927c-df8b-40ca-af6e-e1d9334bd673",
      "metadata": {},
      "outputs": [],
      "source": [
        "## your code here"
      ]
    },
    {
      "attachments": {},
      "cell_type": "markdown",
      "id": "e09e6d59-da1b-42e1-87df-0691e46d7e2b",
      "metadata": {},
      "source": [
        "### 1.5 Monte Carlo Validation\n",
        "\n",
        "One of the important things about machine learning is that it often relies on the randomness of the draw of training and testing sets. As a result, any  one time the model is run you are working with a particualr choice of data for training and testing. Thus, there's a problem in reporting the results of a single model because it depends on the curiousities of what was drawn in the first place!\n",
        "\n",
        "One of the ways we validate the model we have used is to determine how representative our one run is compared to a large number of runs. Ideally, we'd like to know what the disitrbution of possible results could be. That allows us to put some error bounds on the estimated model parameters and to explain the confidence we have in our approach and results.\n",
        "\n",
        "There's two main types of validation, although many others exist and there's nuance inside of each:\n",
        "\n",
        "* **Cross-Validation:** The algorithm slices the data in N bins. Then it treats each bin in turn as a test set using the reamining N-1 bins as the training data. *This approach and modifications to it are part of `sklearn`.* [Cross Validation Documentation](https://scikit-learn.org/stable/modules/cross_validation.html)\n",
        "* **Monte Carlo Validation:** This is relatively simple as you simply repslit the data and run the model again and collect the results. **This is the approach we will use in this notebook.**\n",
        "\n",
        "Below, I wrote a short function that splits the data, creates the model, fits it, and returns the evaluation metrics including the model weights. The lines below runs it."
      ]
    },
    {
      "cell_type": "code",
      "execution_count": 88,
      "id": "c09f1800-5b71-49ef-a5d3-1aee11075628",
      "metadata": {},
      "outputs": [],
      "source": [
        "def RunLR(features, classes, penalty='none'):\n",
        "    \n",
        "    '''RunLR runs a logisitic regression model with \n",
        "    default splitting. It returns evalaution metrics including\n",
        "    accuracy, auc, and the model coefficients.'''\n",
        "    \n",
        "    x_train, x_test, y_train, y_test = train_test_split(features, classes)\n",
        "    LR = LogisticRegression(penalty=penalty)\n",
        "    LR.fit(x_train, y_train)\n",
        "    y_pred = LR.predict(x_test)\n",
        "    \n",
        "    return accuracy_score(y_test, y_pred), roc_auc_score(y_test, y_pred), LR.coef_"
      ]
    },
    {
      "cell_type": "code",
      "execution_count": 89,
      "id": "6da7a539-2623-4c24-8512-2f68d345ab25",
      "metadata": {},
      "outputs": [
        {
          "name": "msu-ml-course",
          "output_type": "stream",
          "text": [
            "Accuracy:  0.992\n",
            "AUC: 0.9919871794871795\n",
            "Coefs: [[ 0.82106995 -0.38171862  3.53448337  1.75272453  0.12482036  0.11928583\n",
            "  -0.28699421 -0.42154622 -0.29441276 -0.00668235  0.16386893 -0.1923016\n",
            "   0.30320224  0.35200971 -0.14342249 -0.02229111 -0.25323457  0.0094466\n",
            "  -2.57084617  0.10205547]]\n"
          ]
        }
      ],
      "source": [
        "acc, auc, model_coefs = RunLR(features, classes['label'])\n",
        "print(\"Accuracy: \", acc)\n",
        "print(\"AUC:\", auc)\n",
        "print(\"Coefs:\", model_coefs)"
      ]
    },
    {
      "attachments": {},
      "cell_type": "markdown",
      "id": "a5b31876-6e59-4b5f-b289-166b55e7462b",
      "metadata": {},
      "source": [
        "<font size=+3>&#9998;</font> **Do this:** Write a loop that does Monte Carlo Validation with 100 trials using `RunLR()`. Make sure to store the accuracy and auc each time the loop runs - you will want to know how these are distributed. \n",
        "\n",
        "*You can also try to store the model coefficients, but that isn't necessary to understand what we are trying to do. And it might lead to shape mismatch issues that aren't worth debugging right now*"
      ]
    },
    {
      "cell_type": "code",
      "execution_count": 90,
      "id": "0e9087c1-5428-48bb-9705-357c695fbf14",
      "metadata": {},
      "outputs": [],
      "source": [
        "## Your code here"
      ]
    },
    {
      "attachments": {},
      "cell_type": "markdown",
      "id": "e3233949-0f7f-4f35-bd10-f6973759134b",
      "metadata": {},
      "source": [
        "<font size=+3>&#9998;</font> **Do this:** Now that you have the distribution of accuracy scores and auc, let's compute the mean, standard deviation, and plot them as historgrams. Do you notice anything about the shape of the histograms?"
      ]
    },
    {
      "cell_type": "code",
      "execution_count": 91,
      "id": "09288b9e-71aa-46be-8750-b645f801ec01",
      "metadata": {},
      "outputs": [],
      "source": [
        "## your code here"
      ]
    },
    {
      "attachments": {},
      "cell_type": "markdown",
      "id": "59430985-d922-4232-a496-5d606c8eb242",
      "metadata": {},
      "source": [
        "---\n",
        "## 2. Parameter Tuning\n",
        "\n",
        "Great! Now that we have seen how we can explore our confidence in the model we created, we can now determine if indeed we have the best logisitc regression model we could have. There's a number of parameters that the logisitic regression method can take when you create an instance. Each of them control different aspects of how the model fits.\n",
        "\n",
        "For our purposes, we will just explore if it was ok to use no penalization. Penalization is how a logistic regression model might control for variables that don't matter too much. Penalization tends to shrink model coefficients towards zero if they are small, so it's clear what contributes and what doesn't. \n",
        "\n",
        "To do a little paramter testing we will use `GridSearchCV()`. The method basically wraps any class to a classifier (or regressor) and then lets you tell it, please try all these potential versions. For example, we have four choices of penalization `l1`, `l2`, `elasticnet` (which is `l1` and `l2` at the same time), and `none` (which we have used all along). So we can test all four models simulatneously to see which is the best.\n",
        "\n",
        "I wrote a little code that does that. Notice that `parameters` is basically a set where `penalty` is the variable for the model and the list that follows indicates that type of penalty to try. Once you run `.fit()` the models start being built. Notice combinations of parameters that can't work together will throw warnings (this is normal, but you should check other warnings!)."
      ]
    },
    {
      "cell_type": "code",
      "execution_count": 92,
      "id": "ba7a7475-dc35-45ac-b29f-47a449c932de",
      "metadata": {},
      "outputs": [
        {
          "name": "msu-ml-course",
          "output_type": "stream",
          "text": [
            "c:\\ProgramData\\Anaconda3\\lib\\site-packages\\sklearn\\model_selection\\_validation.py:372: FitFailedWarning: \n",
            "10 fits failed out of a total of 20.\n",
            "The score on these train-test partitions for these parameters will be set to nan.\n",
            "If these failures are not expected, you can try to debug them by setting error_score='raise'.\n",
            "\n",
            "Below are more details about the failures:\n",
            "--------------------------------------------------------------------------------\n",
            "5 fits failed with the following error:\n",
            "Traceback (most recent call last):\n",
            "  File \"c:\\ProgramData\\Anaconda3\\lib\\site-packages\\sklearn\\model_selection\\_validation.py\", line 680, in _fit_and_score\n",
            "    estimator.fit(X_train, y_train, **fit_params)\n",
            "  File \"c:\\ProgramData\\Anaconda3\\lib\\site-packages\\sklearn\\linear_model\\_logistic.py\", line 1461, in fit\n",
            "    solver = _check_solver(self.solver, self.penalty, self.dual)\n",
            "  File \"c:\\ProgramData\\Anaconda3\\lib\\site-packages\\sklearn\\linear_model\\_logistic.py\", line 447, in _check_solver\n",
            "    raise ValueError(\n",
            "ValueError: Solver lbfgs supports only 'l2' or 'none' penalties, got l1 penalty.\n",
            "\n",
            "--------------------------------------------------------------------------------\n",
            "5 fits failed with the following error:\n",
            "Traceback (most recent call last):\n",
            "  File \"c:\\ProgramData\\Anaconda3\\lib\\site-packages\\sklearn\\model_selection\\_validation.py\", line 680, in _fit_and_score\n",
            "    estimator.fit(X_train, y_train, **fit_params)\n",
            "  File \"c:\\ProgramData\\Anaconda3\\lib\\site-packages\\sklearn\\linear_model\\_logistic.py\", line 1461, in fit\n",
            "    solver = _check_solver(self.solver, self.penalty, self.dual)\n",
            "  File \"c:\\ProgramData\\Anaconda3\\lib\\site-packages\\sklearn\\linear_model\\_logistic.py\", line 447, in _check_solver\n",
            "    raise ValueError(\n",
            "ValueError: Solver lbfgs supports only 'l2' or 'none' penalties, got elasticnet penalty.\n",
            "\n",
            "  warnings.warn(some_fits_failed_message, FitFailedWarning)\n",
            "c:\\ProgramData\\Anaconda3\\lib\\site-packages\\sklearn\\model_selection\\_search.py:969: UserWarning: One or more of the test scores are non-finite: [  nan 0.984   nan 0.981]\n",
            "  warnings.warn(\n"
          ]
        },
        {
          "data": {
            "text/plain": [
              "GridSearchCV(estimator=LogisticRegression(),\n",
              "             param_grid={'penalty': ['l1', 'l2', 'elasticnet', 'none']})"
            ]
          },
          "execution_count": 92,
          "metadata": {},
          "output_type": "execute_result"
        }
      ],
      "source": [
        "parameters = {'penalty': ['l1', 'l2', 'elasticnet', 'none']}\n",
        "\n",
        "LR_tuned = LogisticRegression()\n",
        "clf = GridSearchCV(LR_tuned, parameters)\n",
        "clf.fit(features, classes['label'])"
      ]
    },
    {
      "attachments": {},
      "cell_type": "markdown",
      "id": "adee0a1f-c475-4573-a50f-ab30a6b4ab68",
      "metadata": {},
      "source": [
        "At the end of all this, we get call back with the parameter grid we created. Notice that if we had another parameter to set, `GridSearchCV` will try to run all parameter combinations. So that each new parameter is multiplicative leading to many models quite fast. So be careful here!\n",
        "\n",
        "For example, consider we had three paramters, one that had two settings, one with three, and one with five. If you call a grid search with these paramters, you will be asking `sklearn` to create an run 2x3x5 models (30 models). If you have another parameter you want to try that has another 4 settings, you are up to 120 models!\n",
        "\n",
        "### 2.1 Results of a Grid Search\n",
        "\n",
        "In any event, after running this, we can find the `best_estimator_` and the `best_score_`. The `best_estimator` is the call you should use for the best model tested. If any settings are the default, they will not appear in the parentheses. The `best_score_` is the accuracy of that model. Of course, you can get more details (like above) if you choose that best model and run it through Monte Carlo validation."
      ]
    },
    {
      "cell_type": "code",
      "execution_count": 93,
      "id": "48b70ed6-0d3a-4e38-a192-971624420da1",
      "metadata": {},
      "outputs": [
        {
          "name": "msu-ml-course",
          "output_type": "stream",
          "text": [
            "LogisticRegression()\n",
            "0.984\n"
          ]
        }
      ],
      "source": [
        "print(clf.best_estimator_)\n",
        "print(clf.best_score_)"
      ]
    },
    {
      "attachments": {},
      "cell_type": "markdown",
      "id": "b031fb29-956a-4ca6-b2c8-3dedf39c2cbb",
      "metadata": {},
      "source": [
        "### 2.2 What about other classifiers?\n",
        "\n",
        "There are many other classifers we can try on the same problem to see how well they do. There's many out there and there's lots of nuance to understand about each if you are going to use them. We will use K Nearest Neighbors, Supprt Vector Machines, and a Random Forest Classifier. To learn more about each, I'd suggest these videos:\n",
        "\n",
        "* [KNN](https://www.youtube.com/watch?v=HVXime0nQeI)\n",
        "* [SVM](https://www.youtube.com/watch?v=efR1C6CvhmE)\n",
        "* [Random Forest](https://www.youtube.com/watch?v=J4Wdy0Wc_xQ)\n",
        "\n",
        "Let's import the necessary libraries and test things with KNN. Then you can write code for the Support Vector Machine, and the Random Forest."
      ]
    },
    {
      "cell_type": "code",
      "execution_count": 94,
      "id": "a52a939b-7964-412e-a0a1-88d3ff416efa",
      "metadata": {},
      "outputs": [],
      "source": [
        "from sklearn.neighbors import KNeighborsClassifier\n",
        "from sklearn.svm import SVC, LinearSVC\n",
        "from sklearn.ensemble import RandomForestClassifier"
      ]
    },
    {
      "attachments": {},
      "cell_type": "markdown",
      "id": "0bc5971b-2210-4668-8b21-36cbcf39cfd3",
      "metadata": {},
      "source": [
        "#### 2.2.1 KNN\n",
        "\n",
        "As we did previously we can vary the number of neighbors from the default of 5 (always good to know the defaults of the models you are calling). But this time we will use `GridSearchCV`. I've written the code to do this below. You can adapt it for other models in the next sections as you like."
      ]
    },
    {
      "cell_type": "code",
      "execution_count": 95,
      "id": "3d42f30b-b3e4-47a6-8a88-880770d84be2",
      "metadata": {},
      "outputs": [
        {
          "name": "msu-ml-course",
          "output_type": "stream",
          "text": [
            "KNeighborsClassifier(n_neighbors=20)\n",
            "0.968\n"
          ]
        }
      ],
      "source": [
        "## Sweep through 2 to 20 neighbors\n",
        "\n",
        "parameters = [\n",
        "    {'n_neighbors': np.arange(2,21)}\n",
        "]\n",
        "\n",
        "## Create the Grid Search and fit it\n",
        "KNN_tuned = KNeighborsClassifier()\n",
        "clf = GridSearchCV(KNN_tuned, parameters)\n",
        "clf.fit(features, classes['label'])\n",
        "\n",
        "## Determine the best estimator\n",
        "BestKNN = clf.best_estimator_\n",
        "print(BestKNN)\n",
        "print(clf.best_score_)"
      ]
    },
    {
      "attachments": {},
      "cell_type": "markdown",
      "id": "c4f41e38-c03b-4dbb-83bc-199f07fd971a",
      "metadata": {},
      "source": [
        "We can now use the best model to do Monte Carlo Validation and plot the distributions."
      ]
    },
    {
      "cell_type": "code",
      "execution_count": 96,
      "id": "e9a8c1c3-919e-4350-a93f-525050d564df",
      "metadata": {},
      "outputs": [
        {
          "data": {
            "text/plain": [
              "(0.96, 0.9612179487179487)"
            ]
          },
          "execution_count": 96,
          "metadata": {},
          "output_type": "execute_result"
        }
      ],
      "source": [
        "def RunKNN(features, classes):\n",
        "    \n",
        "    x_train, x_test, y_train, y_test = train_test_split(features, classes)\n",
        "    KNN = BestKNN\n",
        "    KNN.fit(x_train, y_train)\n",
        "    y_pred = KNN.predict(x_test)\n",
        "    \n",
        "    return accuracy_score(y_test, y_pred), roc_auc_score(y_test, y_pred)\n",
        "\n",
        "RunKNN(features, classes['label'])"
      ]
    },
    {
      "cell_type": "code",
      "execution_count": 97,
      "id": "39d13cb9-0bc2-4358-96b4-9afcb43492c3",
      "metadata": {},
      "outputs": [
        {
          "name": "msu-ml-course",
          "output_type": "stream",
          "text": [
            "Mean Accuracy: 0.9663866666666666 +/- 0.010466955410029972\n",
            "Mean AUC: 0.9663051634461004 +/- 0.010381470414473966\n"
          ]
        },
        {
          "data": {
            "image/png": "[encoded data removed]",
            "text/plain": [
              "<Figure size 432x288 with 1 Axes>"
            ]
          },
          "metadata": {
            "needs_background": "light"
          },
          "output_type": "display_data"
        },
        {
          "data": {
            "image/png": "[encoded data removed]",
            "text/plain": [
              "<Figure size 432x288 with 1 Axes>"
            ]
          },
          "metadata": {
            "needs_background": "light"
          },
          "output_type": "display_data"
        }
      ],
      "source": [
        "N = 300\n",
        "acc = 0\n",
        "auc = 0\n",
        "acc_array = np.empty((0,N), float)\n",
        "auc_array = np.empty((0,N), float)\n",
        "\n",
        "for i in range(N):\n",
        "    \n",
        "    acc, auc = RunKNN(features, classes['label'])\n",
        "    acc_array = np.append(acc_array,acc)\n",
        "    auc_array = np.append(auc_array,auc)\n",
        "    \n",
        "    \n",
        "mean_acc = np.mean(acc_array)\n",
        "std_acc = np.std(acc_array)\n",
        "\n",
        "mean_auc = np.mean(auc_array)\n",
        "std_auc = np.std(auc_array)\n",
        "    \n",
        "plt.figure()\n",
        "plt.hist(acc_array)\n",
        "print(\"Mean Accuracy:\", mean_acc, \"+/-\", std_acc)\n",
        "plt.ylabel('Counts')\n",
        "plt.xlabel('ACC')\n",
        "\n",
        "plt.figure()\n",
        "plt.hist(auc_array)\n",
        "print(\"Mean AUC:\", mean_auc, \"+/-\", std_auc)\n",
        "plt.ylabel('Counts')\n",
        "plt.xlabel('AUC')\n",
        "plt.show()"
      ]
    },
    {
      "attachments": {},
      "cell_type": "markdown",
      "id": "e5e0745f-567b-40a7-b785-bd8cc8c878df",
      "metadata": {},
      "source": [
        "#### 2.2.2 LinearSVC\n",
        "\n",
        "<font size=+3>&#9998;</font> **Do this:** For the `LinearSVC()` model, repeat the work above to determine the distribution of accuracies and aucs for the model. Use `GridSearchCV()` to vary the `C` parameter and find the best model. [Linear SVC Documentation](https://scikit-learn.org/stable/modules/generated/sklearn.svm.LinearSVC.html)"
      ]
    },
    {
      "cell_type": "code",
      "execution_count": 98,
      "id": "bf98695b-d4b2-4b5c-b0f6-784311b8ebfb",
      "metadata": {},
      "outputs": [],
      "source": [
        "### your code here"
      ]
    },
    {
      "attachments": {},
      "cell_type": "markdown",
      "id": "954c0c32-4daa-4ee6-9e20-54d721fcb591",
      "metadata": {},
      "source": [
        "#### 2.2.3 Random Forest\n",
        "\n",
        "<font size=+3>&#9998;</font> **Do this:** For the `RandomForestClassifier()` model, repeat the work above to determine the distribution of accuracies and aucs for the model. Use `GridSearchCV()` to vary the `n_estimators` parameter and find the best model. [Random Forest Documentation](https://scikit-learn.org/stable/modules/generated/sklearn.ensemble.RandomForestClassifier.html)"
      ]
    },
    {
      "cell_type": "code",
      "execution_count": 99,
      "id": "cb003598-bbcf-413c-851f-b24d1c3089c8",
      "metadata": {},
      "outputs": [],
      "source": [
        "## your code here"
      ]
    },
    {
      "attachments": {},
      "cell_type": "markdown",
      "id": "7c0252f9-13a1-47c6-a663-81d037bea246",
      "metadata": {},
      "source": [
        "---\n",
        "## 3. What about other kinds of data?\n",
        "\n",
        "Many times it is important to know the strucutre of your data, hence plotting feature spaces. Sometimes the models you are using might be incompatible with the structure of your data. Some models try to draw lines to separate, some draw curves, some are more emergent. Let's test this out with a ciruclar data set where we can clearly see the separation. Below, we create some data and store the values in data frames."
      ]
    },
    {
      "cell_type": "code",
      "execution_count": 100,
      "id": "823cfd43-94f6-4f94-801a-c468cab4909d",
      "metadata": {},
      "outputs": [],
      "source": [
        "X, y = make_circles(n_samples = 500)\n",
        "\n",
        "loc = pd.DataFrame(X, columns=['x1','x2'])\n",
        "label = pd.DataFrame(y, columns=['y'])"
      ]
    },
    {
      "cell_type": "code",
      "execution_count": 101,
      "id": "768f5a1e-b05b-49b4-868c-b901830ea8ed",
      "metadata": {},
      "outputs": [
        {
          "data": {
            "text/html": [
              "<div>\n",
              "<style scoped>\n",
              "    .dataframe tbody tr th:only-of-type {\n",
              "        vertical-align: middle;\n",
              "    }\n",
              "\n",
              "    .dataframe tbody tr th {\n",
              "        vertical-align: top;\n",
              "    }\n",
              "\n",
              "    .dataframe thead th {\n",
              "        text-align: right;\n",
              "    }\n",
              "</style>\n",
              "<table border=\"1\" class=\"dataframe\">\n",
              "  <thead>\n",
              "    <tr style=\"text-align: right;\">\n",
              "      <th></th>\n",
              "      <th>x1</th>\n",
              "      <th>x2</th>\n",
              "    </tr>\n",
              "  </thead>\n",
              "  <tbody>\n",
              "    <tr>\n",
              "      <th>0</th>\n",
              "      <td>-0.968583</td>\n",
              "      <td>0.248690</td>\n",
              "    </tr>\n",
              "    <tr>\n",
              "      <th>1</th>\n",
              "      <td>-0.787651</td>\n",
              "      <td>0.140018</td>\n",
              "    </tr>\n",
              "    <tr>\n",
              "      <th>2</th>\n",
              "      <td>0.356412</td>\n",
              "      <td>0.934329</td>\n",
              "    </tr>\n",
              "    <tr>\n",
              "      <th>3</th>\n",
              "      <td>-0.012566</td>\n",
              "      <td>-0.999921</td>\n",
              "    </tr>\n",
              "    <tr>\n",
              "      <th>4</th>\n",
              "      <td>-0.787651</td>\n",
              "      <td>-0.140018</td>\n",
              "    </tr>\n",
              "  </tbody>\n",
              "</table>\n",
              "</div>"
            ],
            "text/plain": [
              "         x1        x2\n",
              "0 -0.968583  0.248690\n",
              "1 -0.787651  0.140018\n",
              "2  0.356412  0.934329\n",
              "3 -0.012566 -0.999921\n",
              "4 -0.787651 -0.140018"
            ]
          },
          "execution_count": 101,
          "metadata": {},
          "output_type": "execute_result"
        }
      ],
      "source": [
        "loc.head()"
      ]
    },
    {
      "cell_type": "code",
      "execution_count": 102,
      "id": "2c3cbeda-0e25-44f2-a40b-7859803ecde0",
      "metadata": {},
      "outputs": [
        {
          "data": {
            "text/html": [
              "<div>\n",
              "<style scoped>\n",
              "    .dataframe tbody tr th:only-of-type {\n",
              "        vertical-align: middle;\n",
              "    }\n",
              "\n",
              "    .dataframe tbody tr th {\n",
              "        vertical-align: top;\n",
              "    }\n",
              "\n",
              "    .dataframe thead th {\n",
              "        text-align: right;\n",
              "    }\n",
              "</style>\n",
              "<table border=\"1\" class=\"dataframe\">\n",
              "  <thead>\n",
              "    <tr style=\"text-align: right;\">\n",
              "      <th></th>\n",
              "      <th>y</th>\n",
              "    </tr>\n",
              "  </thead>\n",
              "  <tbody>\n",
              "    <tr>\n",
              "      <th>0</th>\n",
              "      <td>0</td>\n",
              "    </tr>\n",
              "    <tr>\n",
              "      <th>1</th>\n",
              "      <td>1</td>\n",
              "    </tr>\n",
              "    <tr>\n",
              "      <th>2</th>\n",
              "      <td>0</td>\n",
              "    </tr>\n",
              "    <tr>\n",
              "      <th>3</th>\n",
              "      <td>0</td>\n",
              "    </tr>\n",
              "    <tr>\n",
              "      <th>4</th>\n",
              "      <td>1</td>\n",
              "    </tr>\n",
              "  </tbody>\n",
              "</table>\n",
              "</div>"
            ],
            "text/plain": [
              "   y\n",
              "0  0\n",
              "1  1\n",
              "2  0\n",
              "3  0\n",
              "4  1"
            ]
          },
          "execution_count": 102,
          "metadata": {},
          "output_type": "execute_result"
        }
      ],
      "source": [
        "label.head()"
      ]
    },
    {
      "attachments": {},
      "cell_type": "markdown",
      "id": "4517f7c3-8cbf-4ae3-8b29-5223a7df20d4",
      "metadata": {},
      "source": [
        "### 3.1 Plot it! \n",
        "\n",
        "Let's plot this data to see why we might not expect the same results as we had found for the previous case."
      ]
    },
    {
      "cell_type": "code",
      "execution_count": 103,
      "id": "4d10369d-816d-4c17-baf1-4853bd8d7db5",
      "metadata": {},
      "outputs": [
        {
          "data": {
            "image/png": "[encoded data removed]",
            "text/plain": [
              "<Figure size 360x360 with 1 Axes>"
            ]
          },
          "metadata": {
            "needs_background": "light"
          },
          "output_type": "display_data"
        }
      ],
      "source": [
        "plt.figure(figsize=(5,5))\n",
        "plt.scatter(loc['x1'], loc['x2'], c=label['y'])\n",
        "plt.xlabel('x1')\n",
        "plt.ylabel('x2')\n",
        "plt.show()"
      ]
    },
    {
      "attachments": {},
      "cell_type": "markdown",
      "id": "c4ff4e04-ea59-41eb-aad5-c61152b2f7e2",
      "metadata": {},
      "source": [
        "It is really easy to see in the figure above that we have two clearly separated classes. Let's fire up the Logisitic Regression model and see what it can find."
      ]
    },
    {
      "cell_type": "code",
      "execution_count": 104,
      "id": "ff0d15a1-4e28-413d-952f-b08714927ccd",
      "metadata": {},
      "outputs": [
        {
          "name": "msu-ml-course",
          "output_type": "stream",
          "text": [
            "LogisticRegression()\n",
            "0.45599999999999996\n"
          ]
        },
        {
          "name": "msu-ml-course",
          "output_type": "stream",
          "text": [
            "c:\\ProgramData\\Anaconda3\\lib\\site-packages\\sklearn\\model_selection\\_validation.py:372: FitFailedWarning: \n",
            "10 fits failed out of a total of 20.\n",
            "The score on these train-test partitions for these parameters will be set to nan.\n",
            "If these failures are not expected, you can try to debug them by setting error_score='raise'.\n",
            "\n",
            "Below are more details about the failures:\n",
            "--------------------------------------------------------------------------------\n",
            "5 fits failed with the following error:\n",
            "Traceback (most recent call last):\n",
            "  File \"c:\\ProgramData\\Anaconda3\\lib\\site-packages\\sklearn\\model_selection\\_validation.py\", line 680, in _fit_and_score\n",
            "    estimator.fit(X_train, y_train, **fit_params)\n",
            "  File \"c:\\ProgramData\\Anaconda3\\lib\\site-packages\\sklearn\\linear_model\\_logistic.py\", line 1461, in fit\n",
            "    solver = _check_solver(self.solver, self.penalty, self.dual)\n",
            "  File \"c:\\ProgramData\\Anaconda3\\lib\\site-packages\\sklearn\\linear_model\\_logistic.py\", line 447, in _check_solver\n",
            "    raise ValueError(\n",
            "ValueError: Solver lbfgs supports only 'l2' or 'none' penalties, got l1 penalty.\n",
            "\n",
            "--------------------------------------------------------------------------------\n",
            "5 fits failed with the following error:\n",
            "Traceback (most recent call last):\n",
            "  File \"c:\\ProgramData\\Anaconda3\\lib\\site-packages\\sklearn\\model_selection\\_validation.py\", line 680, in _fit_and_score\n",
            "    estimator.fit(X_train, y_train, **fit_params)\n",
            "  File \"c:\\ProgramData\\Anaconda3\\lib\\site-packages\\sklearn\\linear_model\\_logistic.py\", line 1461, in fit\n",
            "    solver = _check_solver(self.solver, self.penalty, self.dual)\n",
            "  File \"c:\\ProgramData\\Anaconda3\\lib\\site-packages\\sklearn\\linear_model\\_logistic.py\", line 447, in _check_solver\n",
            "    raise ValueError(\n",
            "ValueError: Solver lbfgs supports only 'l2' or 'none' penalties, got elasticnet penalty.\n",
            "\n",
            "  warnings.warn(some_fits_failed_message, FitFailedWarning)\n",
            "c:\\ProgramData\\Anaconda3\\lib\\site-packages\\sklearn\\model_selection\\_search.py:969: UserWarning: One or more of the test scores are non-finite: [  nan 0.456   nan 0.456]\n",
            "  warnings.warn(\n"
          ]
        }
      ],
      "source": [
        "parameters = [\n",
        "    {'penalty': ['l1', 'l2', 'elasticnet', 'none']},\n",
        "]\n",
        "\n",
        "LR_tuned = LogisticRegression()\n",
        "clf = GridSearchCV(LR_tuned, parameters)\n",
        "clf.fit(loc, label['y'])\n",
        "\n",
        "LRBest = clf.best_estimator_\n",
        "print(LRBest)\n",
        "print(clf.best_score_)"
      ]
    },
    {
      "attachments": {},
      "cell_type": "markdown",
      "id": "0e0b9648-e433-4f75-8cba-665b8f895c7e",
      "metadata": {},
      "source": [
        "### 3.2 Time to try other models\n",
        "\n",
        "It appears the the logistic regression does pretty poorly. That is because logistic regression is not good with nonlinear problems. It is a linear model, so it's hard for it to deal with things like circles!\n",
        "\n",
        "<font size=+3>&#9998;</font> **Do this:** Test the SVC, KNN, and RF models on these data. Use `GridSearchCV()` to find the best model for each. How do the accuracies compare? Which might you use to work more on this problem? *No need to plot disitrbutions for this, you can do that later if you like.*"
      ]
    },
    {
      "cell_type": "code",
      "execution_count": 105,
      "id": "7963f0fd-0bc6-4959-8302-a5e35438b5ee",
      "metadata": {},
      "outputs": [],
      "source": [
        "### your code here"
      ]
    },
    {
      "attachments": {},
      "cell_type": "markdown",
      "id": "59a71025-e529-4256-99bd-b66af153c18e",
      "metadata": {},
      "source": [
        "### 3.3 Let's make the data a bit messier.\n",
        "\n",
        "You probably found that one model worked perfectly. We can add a little noice to make things more interesting."
      ]
    },
    {
      "cell_type": "code",
      "execution_count": 106,
      "id": "9b47fb73-5483-41a9-9525-a83ba89a066a",
      "metadata": {},
      "outputs": [
        {
          "data": {
            "image/png": "[encoded data removed]",
            "text/plain": [
              "<Figure size 432x288 with 1 Axes>"
            ]
          },
          "metadata": {
            "needs_background": "light"
          },
          "output_type": "display_data"
        }
      ],
      "source": [
        "X, y = make_circles(n_samples = 500, noise = 0.05)\n",
        "\n",
        "loc = pd.DataFrame(X, columns=['x1','x2'])\n",
        "label = pd.DataFrame(y, columns=['y'])\n",
        "\n",
        "plt.scatter(loc['x1'], loc['x2'], c=label['y'])\n",
        "plt.show()"
      ]
    },
    {
      "attachments": {},
      "cell_type": "markdown",
      "id": "e9f398fa-4eb9-4d4a-8935-5a7dff189cb0",
      "metadata": {},
      "source": [
        "### 3.4 Try to find the best model for this data\n",
        "\n",
        "<font size=+3>&#9998;</font> **Do this:** Test the LR, SVC, KNN, and RF models on these data. Use `GridSearchCV()` to find the best model for each. How do the accuracies compare? Which might you use to work more on this problem? *No need to plot disitrbutions for this, you can do that later if you like.*"
      ]
    },
    {
      "cell_type": "code",
      "execution_count": 107,
      "id": "0bc1b7a1-1e7c-4dc0-807e-df9c49144f1a",
      "metadata": {},
      "outputs": [],
      "source": [
        "## your code here"
      ]
    }
  ],
  "metadata": {
    "kernelspec": {
      "name": "jbook",
      "display_name": "Python 3 (jbook)",
      "language": "python"
    },
    "language_info": {
      "name": "python",
      "version": "3.13"
    }
  },
  "nbformat": 4,
  "nbformat_minor": 5
}